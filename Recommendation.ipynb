{
  "nbformat": 4,
  "nbformat_minor": 0,
  "metadata": {
    "colab": {
      "provenance": []
    },
    "kernelspec": {
      "name": "python3",
      "display_name": "Python 3"
    },
    "language_info": {
      "name": "python"
    }
  },
  "cells": [
    {
      "cell_type": "code",
      "execution_count": null,
      "metadata": {
        "id": "8IkMOX6Vu44x"
      },
      "outputs": [],
      "source": [
        "import numpy as np\n",
        "import pandas as pd\n",
        "import re\n",
        "import nltk\n",
        "from nltk.corpus import stopwords\n",
        "from nltk.stem.porter import PorterStemmer\n",
        "from sklearn.feature_extraction.text import TfidfVectorizer, CountVectorizer\n",
        "from sklearn.metrics.pairwise import cosine_similarity\n",
        "import json"
      ]
    },
    {
      "cell_type": "code",
      "source": [
        "!pip install nltk\n",
        "!pip install -U scikit-learn scipy matplotlib"
      ],
      "metadata": {
        "colab": {
          "base_uri": "https://localhost:8080/"
        },
        "id": "BtdlqjxTvor-",
        "outputId": "bbc1f0f3-1ec3-470c-d067-43546d4907e0"
      },
      "execution_count": null,
      "outputs": [
        {
          "output_type": "stream",
          "name": "stdout",
          "text": [
            "Requirement already satisfied: nltk in /usr/local/lib/python3.10/dist-packages (3.8.1)\n",
            "Requirement already satisfied: click in /usr/local/lib/python3.10/dist-packages (from nltk) (8.1.7)\n",
            "Requirement already satisfied: joblib in /usr/local/lib/python3.10/dist-packages (from nltk) (1.4.2)\n",
            "Requirement already satisfied: regex>=2021.8.3 in /usr/local/lib/python3.10/dist-packages (from nltk) (2024.5.15)\n",
            "Requirement already satisfied: tqdm in /usr/local/lib/python3.10/dist-packages (from nltk) (4.66.4)\n",
            "Requirement already satisfied: scikit-learn in /usr/local/lib/python3.10/dist-packages (1.5.0)\n",
            "Requirement already satisfied: scipy in /usr/local/lib/python3.10/dist-packages (1.13.1)\n",
            "Requirement already satisfied: matplotlib in /usr/local/lib/python3.10/dist-packages (3.9.0)\n",
            "Requirement already satisfied: numpy>=1.19.5 in /usr/local/lib/python3.10/dist-packages (from scikit-learn) (1.25.2)\n",
            "Requirement already satisfied: joblib>=1.2.0 in /usr/local/lib/python3.10/dist-packages (from scikit-learn) (1.4.2)\n",
            "Requirement already satisfied: threadpoolctl>=3.1.0 in /usr/local/lib/python3.10/dist-packages (from scikit-learn) (3.5.0)\n",
            "Requirement already satisfied: contourpy>=1.0.1 in /usr/local/lib/python3.10/dist-packages (from matplotlib) (1.2.1)\n",
            "Requirement already satisfied: cycler>=0.10 in /usr/local/lib/python3.10/dist-packages (from matplotlib) (0.12.1)\n",
            "Requirement already satisfied: fonttools>=4.22.0 in /usr/local/lib/python3.10/dist-packages (from matplotlib) (4.51.0)\n",
            "Requirement already satisfied: kiwisolver>=1.3.1 in /usr/local/lib/python3.10/dist-packages (from matplotlib) (1.4.5)\n",
            "Requirement already satisfied: packaging>=20.0 in /usr/local/lib/python3.10/dist-packages (from matplotlib) (24.0)\n",
            "Requirement already satisfied: pillow>=8 in /usr/local/lib/python3.10/dist-packages (from matplotlib) (9.4.0)\n",
            "Requirement already satisfied: pyparsing>=2.3.1 in /usr/local/lib/python3.10/dist-packages (from matplotlib) (3.1.2)\n",
            "Requirement already satisfied: python-dateutil>=2.7 in /usr/local/lib/python3.10/dist-packages (from matplotlib) (2.8.2)\n",
            "Requirement already satisfied: six>=1.5 in /usr/local/lib/python3.10/dist-packages (from python-dateutil>=2.7->matplotlib) (1.16.0)\n"
          ]
        }
      ]
    },
    {
      "cell_type": "code",
      "source": [
        "df=pd.read_csv('drug_recom.csv')"
      ],
      "metadata": {
        "id": "q_K4sN2Nvqgs"
      },
      "execution_count": null,
      "outputs": []
    },
    {
      "cell_type": "code",
      "source": [
        "print(df.describe())\n",
        "print(df.info())\n",
        "print(df.head())"
      ],
      "metadata": {
        "colab": {
          "base_uri": "https://localhost:8080/"
        },
        "id": "SCZOIeYAvxiX",
        "outputId": "f6ad9a67-6fd3-450a-f657-ee10bd7f8019"
      },
      "execution_count": null,
      "outputs": [
        {
          "output_type": "stream",
          "name": "stdout",
          "text": [
            "       index   Drug_Name   Reason  \\\n",
            "count    234         234      234   \n",
            "unique   234          78      230   \n",
            "top     A001  Imiquimod   fissure   \n",
            "freq       1          23        2   \n",
            "\n",
            "                                              Description  \\\n",
            "count                                                 234   \n",
            "unique                                                234   \n",
            "top     Actinic cheilitis is a precancerous condition ...   \n",
            "freq                                                    1   \n",
            "\n",
            "                                Class_Type  \n",
            "count                                  234  \n",
            "unique                                  14  \n",
            "top     Nail Fungus and other Nail Disease  \n",
            "freq                                    37  \n",
            "<class 'pandas.core.frame.DataFrame'>\n",
            "RangeIndex: 234 entries, 0 to 233\n",
            "Data columns (total 5 columns):\n",
            " #   Column       Non-Null Count  Dtype \n",
            "---  ------       --------------  ----- \n",
            " 0   index        234 non-null    object\n",
            " 1   Drug_Name    234 non-null    object\n",
            " 2   Reason       234 non-null    object\n",
            " 3   Description  234 non-null    object\n",
            " 4   Class_Type   234 non-null    object\n",
            "dtypes: object(5)\n",
            "memory usage: 9.3+ KB\n",
            "None\n",
            "  index      Drug_Name               Reason  \\\n",
            "0  A001  Fluorouracil     actinic-cheilitis   \n",
            "1  A002      Imiquimod    actinic-keratosis   \n",
            "2  A003  Fluorouracil   arsenical-keratoses   \n",
            "3  A004     Imiquimod   basal-cell-carcinom   \n",
            "4  A005     Imiquimod      basal-cell-nevus   \n",
            "\n",
            "                                         Description  \\\n",
            "0  Actinic cheilitis is a precancerous condition ...   \n",
            "1  Actinic keratosis is a rough, scaly patch on t...   \n",
            "2  Arsenical keratoses are skin lesions resulting...   \n",
            "3  Basal cell carcinoma is a type of skin cancer ...   \n",
            "4  Basal cell nevus syndrome is a genetic conditi...   \n",
            "\n",
            "                                          Class_Type  \n",
            "0  Actinic Keratosis Basal Cell Carcinoma and oth...  \n",
            "1  Actinic Keratosis Basal Cell Carcinoma and oth...  \n",
            "2  Actinic Keratosis Basal Cell Carcinoma and oth...  \n",
            "3  Actinic Keratosis Basal Cell Carcinoma and oth...  \n",
            "4  Actinic Keratosis Basal Cell Carcinoma and oth...  \n"
          ]
        }
      ]
    },
    {
      "cell_type": "code",
      "source": [
        "print(df.isnull().sum())\n",
        "df.dropna(inplace=True)\n",
        "print(df.duplicated().sum())"
      ],
      "metadata": {
        "colab": {
          "base_uri": "https://localhost:8080/"
        },
        "id": "VPgHpi9Dvzdk",
        "outputId": "89d7e8d0-839d-43d5-9bb5-a247f5853322"
      },
      "execution_count": null,
      "outputs": [
        {
          "output_type": "stream",
          "name": "stdout",
          "text": [
            "index          0\n",
            "Drug_Name      0\n",
            "Reason         0\n",
            "Description    0\n",
            "Class_Type     0\n",
            "dtype: int64\n",
            "0\n"
          ]
        }
      ]
    },
    {
      "cell_type": "code",
      "source": [
        "def print_description(index):\n",
        "    example = df.iloc[index]\n",
        "    if not example.empty:\n",
        "        print(f\"Description: {example['Description']}\")\n",
        "        print(f\"Drug_Name: {example['Drug_Name']}\")\n",
        "        print(f\"Reason: {example['Reason']}\")\n",
        "        print(f\"Class_Type: {example['Class_Type']}\")"
      ],
      "metadata": {
        "id": "COgPy7XPv1gv"
      },
      "execution_count": null,
      "outputs": []
    },
    {
      "cell_type": "code",
      "source": [
        "nltk.download('stopwords')\n",
        "ps = PorterStemmer()\n",
        "stop_words = set(stopwords.words('english'))"
      ],
      "metadata": {
        "colab": {
          "base_uri": "https://localhost:8080/"
        },
        "id": "1DQ0jgfYwPnq",
        "outputId": "63352520-3c2b-4386-a96e-87f4a0c325a6"
      },
      "execution_count": null,
      "outputs": [
        {
          "output_type": "stream",
          "name": "stderr",
          "text": [
            "[nltk_data] Downloading package stopwords to /root/nltk_data...\n",
            "[nltk_data]   Package stopwords is already up-to-date!\n"
          ]
        }
      ]
    },
    {
      "cell_type": "code",
      "source": [
        "def clean_text(text):\n",
        "    text = text.lower()\n",
        "    text = re.sub('[/(){}\\[\\]\\|@,;]', ' ', text)\n",
        "    text = re.sub('[^0-9a-z #+_]', '', text)\n",
        "    return ' '.join([ps.stem(word) for word in text.split() if word not in stop_words])"
      ],
      "metadata": {
        "id": "aR8ztvsfwRJ0"
      },
      "execution_count": null,
      "outputs": []
    },
    {
      "cell_type": "code",
      "source": [
        "df['Desc_Clean'] = df['Description'].apply(clean_text)"
      ],
      "metadata": {
        "id": "TxLDkZsMwTIp"
      },
      "execution_count": null,
      "outputs": []
    },
    {
      "cell_type": "code",
      "source": [
        "tfidf = TfidfVectorizer(analyzer='word', ngram_range=(1, 3), min_df=0, stop_words='english')\n",
        "tfidf_matrix = tfidf.fit_transform(df['Desc_Clean'])\n",
        "cos_sim = cosine_similarity(tfidf_matrix)"
      ],
      "metadata": {
        "id": "VfONjCdzxDDT"
      },
      "execution_count": null,
      "outputs": []
    },
    {
      "cell_type": "code",
      "source": [
        "# Save TF-IDF matrix and cosine similarity matrix in JSON format\n",
        "\n",
        "with open(\"tfidf_matrix.json\", \"w\") as f_json:\n",
        "    json.dump(tfidf_matrix.toarray().tolist(), f_json)\n",
        "\n",
        "with open(\"cosine_similarity.json\", \"w\") as f_json:\n",
        "    json.dump(cos_sim.tolist(), f_json)"
      ],
      "metadata": {
        "id": "fNHe3HNJxFdY"
      },
      "execution_count": null,
      "outputs": []
    },
    {
      "cell_type": "code",
      "source": [
        "df.set_index(['Class_Type', 'Reason'], inplace=True)"
      ],
      "metadata": {
        "id": "exnJRduexKj0"
      },
      "execution_count": null,
      "outputs": []
    },
    {
      "cell_type": "code",
      "source": [
        "def get_disease_info(class_type, reason):\n",
        "    try:\n",
        "        info = df.loc[(class_type, reason)]\n",
        "\n",
        "        output = f\"Class Type: {class_type}\\n\"\n",
        "        output += f\"Disease Name: {reason}\\n\"\n",
        "        output += f\"Disease Description: {info['Description'].iloc[0]}\\n\\n\"\n",
        "\n",
        "        # Get unique medicine names and format them into a list\n",
        "        unique_medicines = set(info['Drug_Name'].tolist())\n",
        "        medicine_list = \"\\n\".join(sorted(unique_medicines))\n",
        "        output += \"Recommended Medicines for \" + reason + \":\\n\" + medicine_list\n",
        "\n",
        "    except KeyError:\n",
        "        output = \"The specified class type and reason combination does not exist in the dataset.\"\n",
        "\n",
        "    return output"
      ],
      "metadata": {
        "id": "pwRzE21ixO9T"
      },
      "execution_count": null,
      "outputs": []
    },
    {
      "cell_type": "code",
      "source": [
        "result = get_disease_info('Actinic Keratosis Basal Cell Carcinoma and other Malignant Lesions', 'actinic-cheilitis')\n",
        "print(result)"
      ],
      "metadata": {
        "colab": {
          "base_uri": "https://localhost:8080/"
        },
        "id": "6Pm3OgNWx3Rn",
        "outputId": "52f07fbb-53d6-4422-9546-17fa481f2d4f"
      },
      "execution_count": null,
      "outputs": [
        {
          "output_type": "stream",
          "name": "stdout",
          "text": [
            "Class Type: Actinic Keratosis Basal Cell Carcinoma and other Malignant Lesions\n",
            "Disease Name: actinic-cheilitis\n",
            "Disease Description: Actinic cheilitis is a precancerous condition caused by chronic sun exposure, leading to rough, scaly patches on the lips. Symptoms include dry, cracking, or peeling lips, often with persistent rough areas.\n",
            "\n",
            "Recommended Medicines for actinic-cheilitis:\n",
            "Fluorouracil \n"
          ]
        },
        {
          "output_type": "stream",
          "name": "stderr",
          "text": [
            "<ipython-input-68-8945635c3d7c>:3: PerformanceWarning: indexing past lexsort depth may impact performance.\n",
            "  info = df.loc[(class_type, reason)]\n"
          ]
        }
      ]
    },
    {
      "cell_type": "code",
      "source": [
        "# with open(\"medicine_model.bin\", \"wb\") as f_bin:\n",
        "#     f_bin.write(json.dumps(df.to_dict()).encode('utf-8'))"
      ],
      "metadata": {
        "id": "6e9xAFwy1Kiu"
      },
      "execution_count": null,
      "outputs": []
    },
    {
      "cell_type": "code",
      "source": [
        "with open(\"drug_model.json\", \"w\") as json_file:\n",
        "    data_dict = df.to_dict(orient='records')\n",
        "    json.dump(data_dict, json_file, indent=4)"
      ],
      "metadata": {
        "id": "LCRxKkm61LMy"
      },
      "execution_count": null,
      "outputs": []
    }
  ]
}