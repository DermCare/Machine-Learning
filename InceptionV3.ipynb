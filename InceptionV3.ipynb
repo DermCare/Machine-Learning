{
 "cells": [
  {
   "cell_type": "code",
   "execution_count": 2,
   "metadata": {
    "colab": {
     "base_uri": "https://localhost:8080/"
    },
    "id": "Os32fyfH4Cme",
    "outputId": "7123c8c8-b800-4d57-8978-2b10a9ca63c7"
   },
   "outputs": [
    {
     "name": "stdout",
     "output_type": "stream",
     "text": [
      "WARNING:tensorflow:From c:\\users\\clara carissa\\appdata\\local\\programs\\python\\python39\\lib\\site-packages\\keras\\src\\losses.py:2976: The name tf.losses.sparse_softmax_cross_entropy is deprecated. Please use tf.compat.v1.losses.sparse_softmax_cross_entropy instead.\n",
      "\n"
     ]
    }
   ],
   "source": [
    "try:\n",
    "  # %tensorflow_version only exists in Colab.\n",
    "  %tensorflow_version 2.x\n",
    "except Exception:\n",
    "  pass\n",
    "\n",
    "import os\n",
    "import zipfile\n",
    "import matplotlib.pyplot as plt\n",
    "import shutil\n",
    "import opendatasets as od\n",
    "import tensorflow as tf\n",
    "from tensorflow.keras import layers\n",
    "from tensorflow.keras import Model\n",
    "from tensorflow.keras.optimizers import SGD\n",
    "from tensorflow.keras.preprocessing.image import ImageDataGenerator\n",
    "from tensorflow.keras.preprocessing.image import img_to_array, load_img\n",
    "from tensorflow import keras"
   ]
  },
  {
   "cell_type": "code",
   "execution_count": 4,
   "metadata": {},
   "outputs": [
    {
     "name": "stdout",
     "output_type": "stream",
     "text": [
      "Please provide your Kaggle credentials to download this dataset. Learn more: http://bit.ly/kaggle-creds\n",
      "Your Kaggle username:"
     ]
    },
    {
     "name": "stdout",
     "output_type": "stream",
     "text": [
      "  claracarissa\n"
     ]
    },
    {
     "name": "stdout",
     "output_type": "stream",
     "text": [
      "Your Kaggle Key:"
     ]
    },
    {
     "name": "stdout",
     "output_type": "stream",
     "text": [
      "  ········\n"
     ]
    },
    {
     "name": "stdout",
     "output_type": "stream",
     "text": [
      "Dataset URL: https://www.kaggle.com/datasets/shubhamgoel27/dermnet\n",
      "Downloading dermnet.zip to .\\dermnet\n"
     ]
    },
    {
     "name": "stderr",
     "output_type": "stream",
     "text": [
      "100%|██████████████████████████████████████████████████████████████████████████████| 1.72G/1.72G [31:44<00:00, 970kB/s]"
     ]
    },
    {
     "name": "stdout",
     "output_type": "stream",
     "text": [
      "\n"
     ]
    },
    {
     "name": "stderr",
     "output_type": "stream",
     "text": [
      "\n"
     ]
    }
   ],
   "source": [
    "od.download( \n",
    "    \"https://www.kaggle.com/datasets/shubhamgoel27/dermnet\")"
   ]
  },
  {
   "cell_type": "code",
   "execution_count": 46,
   "metadata": {
    "colab": {
     "base_uri": "https://localhost:8080/"
    },
    "id": "inxssyokWC6m",
    "outputId": "1c08593a-5bc5-4aea-af8a-f6e13ae2604a"
   },
   "outputs": [],
   "source": [
    "traindir_path = ['dermnet/train/Acne and Rosacea Photos', 'dermnet/train/Bullous Disease Photos', 'dermnet/train/Exanthems and Drug Eruptions',\n",
    "            'dermnet/train/Hair Loss Photos Alopecia and other Hair Diseases', 'dermnet/train/Herpes HPV and other STDs Photos',\n",
    "            'dermnet/train/Melanoma Skin Cancer Nevi and Moles', 'dermnet/train/Psoriasis pictures Lichen Planus and related diseases',\n",
    "            'dermnet/train/Systemic Disease', 'dermnet/train/Vascular Tumors']\n",
    "\n",
    "testdir_path = ['dermnet/test/Acne and Rosacea Photos', 'dermnet/test/Bullous Disease Photos', 'dermnet/test/Exanthems and Drug Eruptions',\n",
    "            'dermnet/test/Hair Loss Photos Alopecia and other Hair Diseases', 'dermnet/test/Herpes HPV and other STDs Photos',\n",
    "            'dermnet/test/Melanoma Skin Cancer Nevi and Moles', 'dermnet/test/Psoriasis pictures Lichen Planus and related diseases',\n",
    "            'dermnet/test/Systemic Disease', 'dermnet/test/Vascular Tumors']"
   ]
  },
  {
   "cell_type": "code",
   "execution_count": 47,
   "metadata": {},
   "outputs": [
    {
     "name": "stdout",
     "output_type": "stream",
     "text": [
      "The file dermnet/train/Acne and Rosacea Photos has been deleted.\n",
      "The file dermnet/train/Bullous Disease Photos has been deleted.\n",
      "The file dermnet/train/Exanthems and Drug Eruptions has been deleted.\n",
      "The file dermnet/train/Hair Loss Photos Alopecia and other Hair Diseases has been deleted.\n",
      "The file dermnet/train/Herpes HPV and other STDs Photos has been deleted.\n",
      "The file dermnet/train/Melanoma Skin Cancer Nevi and Moles has been deleted.\n",
      "The file dermnet/train/Psoriasis pictures Lichen Planus and related diseases has been deleted.\n",
      "The file dermnet/train/Systemic Disease has been deleted.\n",
      "The file dermnet/train/Vascular Tumors has been deleted.\n",
      "The file dermnet/test/Acne and Rosacea Photos has been deleted.\n",
      "The file dermnet/test/Bullous Disease Photos has been deleted.\n",
      "The file dermnet/test/Exanthems and Drug Eruptions has been deleted.\n",
      "The file dermnet/test/Hair Loss Photos Alopecia and other Hair Diseases has been deleted.\n",
      "The file dermnet/test/Herpes HPV and other STDs Photos has been deleted.\n",
      "The file dermnet/test/Melanoma Skin Cancer Nevi and Moles has been deleted.\n",
      "The file dermnet/test/Psoriasis pictures Lichen Planus and related diseases has been deleted.\n",
      "The file dermnet/test/Systemic Disease has been deleted.\n",
      "The file dermnet/test/Vascular Tumors has been deleted.\n"
     ]
    }
   ],
   "source": [
    "# Check if the file exists before attempting to delete it\n",
    "for path in traindir_path+testdir_path:\n",
    "  if os.path.exists(path):\n",
    "      shutil.rmtree(path)\n",
    "      print(f\"The file {path} has been deleted.\")\n",
    "  else:\n",
    "      print(f\"The file {path} does not exist.\")"
   ]
  },
  {
   "cell_type": "code",
   "execution_count": 48,
   "metadata": {},
   "outputs": [],
   "source": [
    "BATCH_SIZE = 32 # 32\n",
    "IMG_SIZE = (256, 256)\n",
    "IMG_SHAPE = IMG_SIZE + (3,)"
   ]
  },
  {
   "cell_type": "code",
   "execution_count": 49,
   "metadata": {
    "colab": {
     "base_uri": "https://localhost:8080/"
    },
    "id": "KX34_4OvcY8c",
    "outputId": "eb388ec1-8d06-42fd-b921-69c77f9ce8bf"
   },
   "outputs": [],
   "source": [
    "# Define the training and validation base directories\n",
    "DATASET_DIR = 'dermnet'\n",
    "TRAINING_DIR='dermnet/train'\n",
    "VALIDATION_DIR='dermnet/test'"
   ]
  },
  {
   "cell_type": "code",
   "execution_count": 50,
   "metadata": {},
   "outputs": [
    {
     "name": "stdout",
     "output_type": "stream",
     "text": [
      "DATASET_DIR: dermnet\n",
      "IMG_SIZE: (256, 256)\n",
      "IMG_SHAPE: (256, 256, 3)\n",
      "TRAINING_DIR: dermnet/train\n",
      "VALIDATION_DIR: dermnet/test\n"
     ]
    }
   ],
   "source": [
    "print(f'DATASET_DIR: {DATASET_DIR}')\n",
    "print(f'IMG_SIZE: {IMG_SIZE}')\n",
    "print(f'IMG_SHAPE: {IMG_SHAPE}')\n",
    "print(f'TRAINING_DIR: {TRAINING_DIR}')\n",
    "print(f'VALIDATION_DIR: {VALIDATION_DIR}')"
   ]
  },
  {
   "cell_type": "code",
   "execution_count": 51,
   "metadata": {
    "cellView": "code",
    "id": "3a071cf2"
   },
   "outputs": [],
   "source": [
    "def train_val_generators(TRAINING_DIR, VALIDATION_DIR):\n",
    "  train_datagen = ImageDataGenerator()\n",
    "\n",
    "  train_generator = train_datagen.flow_from_directory(directory=TRAINING_DIR,\n",
    "                                                      batch_size=BATCH_SIZE,\n",
    "                                                      class_mode='categorical',\n",
    "                                                      target_size=IMG_SIZE,\n",
    "                                                      shuffle=True)\n",
    "\n",
    "  validation_datagen = ImageDataGenerator()\n",
    "\n",
    "  validation_generator = validation_datagen.flow_from_directory(directory=VALIDATION_DIR,\n",
    "                                                                batch_size=BATCH_SIZE,\n",
    "                                                                class_mode='categorical',\n",
    "                                                                target_size=IMG_SIZE)\n",
    "  return train_generator, validation_generator"
   ]
  },
  {
   "cell_type": "code",
   "execution_count": 52,
   "metadata": {},
   "outputs": [
    {
     "name": "stdout",
     "output_type": "stream",
     "text": [
      "Found 10265 images belonging to 14 classes.\n",
      "Found 2573 images belonging to 14 classes.\n"
     ]
    }
   ],
   "source": [
    "train_generator, validation_generator = train_val_generators(TRAINING_DIR, VALIDATION_DIR)"
   ]
  },
  {
   "cell_type": "code",
   "execution_count": 53,
   "metadata": {},
   "outputs": [
    {
     "data": {
      "text/plain": [
       "{'Actinic Keratosis Basal Cell Carcinoma and other Malignant Lesions': 0,\n",
       " 'Atopic Dermatitis Photos': 1,\n",
       " 'Cellulitis Impetigo and other Bacterial Infections': 2,\n",
       " 'Eczema Photos': 3,\n",
       " 'Light Diseases and Disorders of Pigmentation': 4,\n",
       " 'Lupus and other Connective Tissue diseases': 5,\n",
       " 'Nail Fungus and other Nail Disease': 6,\n",
       " 'Poison Ivy Photos and other Contact Dermatitis': 7,\n",
       " 'Scabies Lyme Disease and other Infestations and Bites': 8,\n",
       " 'Seborrheic Keratoses and other Benign Tumors': 9,\n",
       " 'Tinea Ringworm Candidiasis and other Fungal Infections': 10,\n",
       " 'Urticaria Hives': 11,\n",
       " 'Vasculitis Photos': 12,\n",
       " 'Warts Molluscum and other Viral Infections': 13}"
      ]
     },
     "execution_count": 53,
     "metadata": {},
     "output_type": "execute_result"
    }
   ],
   "source": [
    "train_generator.class_indices"
   ]
  },
  {
   "cell_type": "markdown",
   "metadata": {
    "id": "VshuQfSNuBoc"
   },
   "source": [
    "### **CALLBACK**"
   ]
  },
  {
   "cell_type": "code",
   "execution_count": 54,
   "metadata": {
    "id": "2IGLGEQnKNhU"
   },
   "outputs": [],
   "source": [
    "# Define a Callback class that stops training once accuracy reaches 95.0%\n",
    "class myCallback(tf.keras.callbacks.Callback):\n",
    "  def on_epoch_end(self, epoch, logs={}):\n",
    "    if(logs.get('accuracy') > 0.95 and logs.get('val_accuracy')>0.95):\n",
    "      print(\"\\nReached 95.0% accuracy so cancelling training!\")\n",
    "      self.model.stop_training = True\n",
    "\n",
    "callbacks=myCallback()"
   ]
  },
  {
   "cell_type": "markdown",
   "metadata": {
    "id": "IYVyEYJgtuue"
   },
   "source": [
    "### **InceptionV3**"
   ]
  },
  {
   "cell_type": "code",
   "execution_count": 55,
   "metadata": {
    "id": "atKH2MdrBy1D"
   },
   "outputs": [],
   "source": [
    "import urllib.request\n",
    "import zipfile\n",
    "from tensorflow.keras.applications.inception_v3 import InceptionV3"
   ]
  },
  {
   "cell_type": "code",
   "execution_count": 67,
   "metadata": {},
   "outputs": [
    {
     "name": "stdout",
     "output_type": "stream",
     "text": [
      "Downloading data from https://storage.googleapis.com/tensorflow/keras-applications/inception_v3/inception_v3_weights_tf_dim_ordering_tf_kernels_notop.h5\n",
      "87910968/87910968 [==============================] - 173s 2us/step\n"
     ]
    }
   ],
   "source": [
    "inceptionv3 = 'https://storage.googleapis.com/mledu-datasets/inception_v3_weights_tf_dim_ordering_tf_kernels_notop.h5'\n",
    "urllib.request.urlretrieve(inceptionv3, 'inception_v3_weights_tf_dim_ordering_tf_kernels_notop.h5')\n",
    "local_weights_file = 'inception_v3_weights_tf_dim_ordering_tf_kernels_notop.h5'\n",
    "\n",
    "preprocess_input = tf.keras.applications.inception_v3.preprocess_input\n",
    "pre_trained_model = InceptionV3(input_shape = IMG_SHAPE,\n",
    "                                include_top = False,\n",
    "                                weights = 'imagenet')\n",
    "\n",
    "pre_trained_model.load_weights(local_weights_file)\n",
    "\n",
    "for layer in pre_trained_model.layers:\n",
    "  layer.trainable = False"
   ]
  },
  {
   "cell_type": "code",
   "execution_count": 63,
   "metadata": {
    "colab": {
     "base_uri": "https://localhost:8080/"
    },
    "id": "VGjymQ4jH2yu",
    "outputId": "3da7657a-b915-4108-f7d8-4bc037d08349"
   },
   "outputs": [
    {
     "name": "stdout",
     "output_type": "stream",
     "text": [
      "Model: \"inception_v3\"\n",
      "__________________________________________________________________________________________________\n",
      " Layer (type)                Output Shape                 Param #   Connected to                  \n",
      "==================================================================================================\n",
      " input_5 (InputLayer)        [(None, 256, 256, 3)]        0         []                            \n",
      "                                                                                                  \n",
      " conv2d_188 (Conv2D)         (None, 127, 127, 32)         864       ['input_5[0][0]']             \n",
      "                                                                                                  \n",
      " batch_normalization_188 (B  (None, 127, 127, 32)         96        ['conv2d_188[0][0]']          \n",
      " atchNormalization)                                                                               \n",
      "                                                                                                  \n",
      " activation_188 (Activation  (None, 127, 127, 32)         0         ['batch_normalization_188[0][0\n",
      " )                                                                  ]']                           \n",
      "                                                                                                  \n",
      " conv2d_189 (Conv2D)         (None, 125, 125, 32)         9216      ['activation_188[0][0]']      \n",
      "                                                                                                  \n",
      " batch_normalization_189 (B  (None, 125, 125, 32)         96        ['conv2d_189[0][0]']          \n",
      " atchNormalization)                                                                               \n",
      "                                                                                                  \n",
      " activation_189 (Activation  (None, 125, 125, 32)         0         ['batch_normalization_189[0][0\n",
      " )                                                                  ]']                           \n",
      "                                                                                                  \n",
      " conv2d_190 (Conv2D)         (None, 125, 125, 64)         18432     ['activation_189[0][0]']      \n",
      "                                                                                                  \n",
      " batch_normalization_190 (B  (None, 125, 125, 64)         192       ['conv2d_190[0][0]']          \n",
      " atchNormalization)                                                                               \n",
      "                                                                                                  \n",
      " activation_190 (Activation  (None, 125, 125, 64)         0         ['batch_normalization_190[0][0\n",
      " )                                                                  ]']                           \n",
      "                                                                                                  \n",
      " max_pooling2d_8 (MaxPoolin  (None, 62, 62, 64)           0         ['activation_190[0][0]']      \n",
      " g2D)                                                                                             \n",
      "                                                                                                  \n",
      " conv2d_191 (Conv2D)         (None, 62, 62, 80)           5120      ['max_pooling2d_8[0][0]']     \n",
      "                                                                                                  \n",
      " batch_normalization_191 (B  (None, 62, 62, 80)           240       ['conv2d_191[0][0]']          \n",
      " atchNormalization)                                                                               \n",
      "                                                                                                  \n",
      " activation_191 (Activation  (None, 62, 62, 80)           0         ['batch_normalization_191[0][0\n",
      " )                                                                  ]']                           \n",
      "                                                                                                  \n",
      " conv2d_192 (Conv2D)         (None, 60, 60, 192)          138240    ['activation_191[0][0]']      \n",
      "                                                                                                  \n",
      " batch_normalization_192 (B  (None, 60, 60, 192)          576       ['conv2d_192[0][0]']          \n",
      " atchNormalization)                                                                               \n",
      "                                                                                                  \n",
      " activation_192 (Activation  (None, 60, 60, 192)          0         ['batch_normalization_192[0][0\n",
      " )                                                                  ]']                           \n",
      "                                                                                                  \n",
      " max_pooling2d_9 (MaxPoolin  (None, 29, 29, 192)          0         ['activation_192[0][0]']      \n",
      " g2D)                                                                                             \n",
      "                                                                                                  \n",
      " conv2d_196 (Conv2D)         (None, 29, 29, 64)           12288     ['max_pooling2d_9[0][0]']     \n",
      "                                                                                                  \n",
      " batch_normalization_196 (B  (None, 29, 29, 64)           192       ['conv2d_196[0][0]']          \n",
      " atchNormalization)                                                                               \n",
      "                                                                                                  \n",
      " activation_196 (Activation  (None, 29, 29, 64)           0         ['batch_normalization_196[0][0\n",
      " )                                                                  ]']                           \n",
      "                                                                                                  \n",
      " conv2d_194 (Conv2D)         (None, 29, 29, 48)           9216      ['max_pooling2d_9[0][0]']     \n",
      "                                                                                                  \n",
      " conv2d_197 (Conv2D)         (None, 29, 29, 96)           55296     ['activation_196[0][0]']      \n",
      "                                                                                                  \n",
      " batch_normalization_194 (B  (None, 29, 29, 48)           144       ['conv2d_194[0][0]']          \n",
      " atchNormalization)                                                                               \n",
      "                                                                                                  \n",
      " batch_normalization_197 (B  (None, 29, 29, 96)           288       ['conv2d_197[0][0]']          \n",
      " atchNormalization)                                                                               \n",
      "                                                                                                  \n",
      " activation_194 (Activation  (None, 29, 29, 48)           0         ['batch_normalization_194[0][0\n",
      " )                                                                  ]']                           \n",
      "                                                                                                  \n",
      " activation_197 (Activation  (None, 29, 29, 96)           0         ['batch_normalization_197[0][0\n",
      " )                                                                  ]']                           \n",
      "                                                                                                  \n",
      " average_pooling2d_18 (Aver  (None, 29, 29, 192)          0         ['max_pooling2d_9[0][0]']     \n",
      " agePooling2D)                                                                                    \n",
      "                                                                                                  \n",
      " conv2d_193 (Conv2D)         (None, 29, 29, 64)           12288     ['max_pooling2d_9[0][0]']     \n",
      "                                                                                                  \n",
      " conv2d_195 (Conv2D)         (None, 29, 29, 64)           76800     ['activation_194[0][0]']      \n",
      "                                                                                                  \n",
      " conv2d_198 (Conv2D)         (None, 29, 29, 96)           82944     ['activation_197[0][0]']      \n",
      "                                                                                                  \n",
      " conv2d_199 (Conv2D)         (None, 29, 29, 32)           6144      ['average_pooling2d_18[0][0]']\n",
      "                                                                                                  \n",
      " batch_normalization_193 (B  (None, 29, 29, 64)           192       ['conv2d_193[0][0]']          \n",
      " atchNormalization)                                                                               \n",
      "                                                                                                  \n",
      " batch_normalization_195 (B  (None, 29, 29, 64)           192       ['conv2d_195[0][0]']          \n",
      " atchNormalization)                                                                               \n",
      "                                                                                                  \n",
      " batch_normalization_198 (B  (None, 29, 29, 96)           288       ['conv2d_198[0][0]']          \n",
      " atchNormalization)                                                                               \n",
      "                                                                                                  \n",
      " batch_normalization_199 (B  (None, 29, 29, 32)           96        ['conv2d_199[0][0]']          \n",
      " atchNormalization)                                                                               \n",
      "                                                                                                  \n",
      " activation_193 (Activation  (None, 29, 29, 64)           0         ['batch_normalization_193[0][0\n",
      " )                                                                  ]']                           \n",
      "                                                                                                  \n",
      " activation_195 (Activation  (None, 29, 29, 64)           0         ['batch_normalization_195[0][0\n",
      " )                                                                  ]']                           \n",
      "                                                                                                  \n",
      " activation_198 (Activation  (None, 29, 29, 96)           0         ['batch_normalization_198[0][0\n",
      " )                                                                  ]']                           \n",
      "                                                                                                  \n",
      " activation_199 (Activation  (None, 29, 29, 32)           0         ['batch_normalization_199[0][0\n",
      " )                                                                  ]']                           \n",
      "                                                                                                  \n",
      " mixed0 (Concatenate)        (None, 29, 29, 256)          0         ['activation_193[0][0]',      \n",
      "                                                                     'activation_195[0][0]',      \n",
      "                                                                     'activation_198[0][0]',      \n",
      "                                                                     'activation_199[0][0]']      \n",
      "                                                                                                  \n",
      " conv2d_203 (Conv2D)         (None, 29, 29, 64)           16384     ['mixed0[0][0]']              \n",
      "                                                                                                  \n",
      " batch_normalization_203 (B  (None, 29, 29, 64)           192       ['conv2d_203[0][0]']          \n",
      " atchNormalization)                                                                               \n",
      "                                                                                                  \n",
      " activation_203 (Activation  (None, 29, 29, 64)           0         ['batch_normalization_203[0][0\n",
      " )                                                                  ]']                           \n",
      "                                                                                                  \n",
      " conv2d_201 (Conv2D)         (None, 29, 29, 48)           12288     ['mixed0[0][0]']              \n",
      "                                                                                                  \n",
      " conv2d_204 (Conv2D)         (None, 29, 29, 96)           55296     ['activation_203[0][0]']      \n",
      "                                                                                                  \n",
      " batch_normalization_201 (B  (None, 29, 29, 48)           144       ['conv2d_201[0][0]']          \n",
      " atchNormalization)                                                                               \n",
      "                                                                                                  \n",
      " batch_normalization_204 (B  (None, 29, 29, 96)           288       ['conv2d_204[0][0]']          \n",
      " atchNormalization)                                                                               \n",
      "                                                                                                  \n",
      " activation_201 (Activation  (None, 29, 29, 48)           0         ['batch_normalization_201[0][0\n",
      " )                                                                  ]']                           \n",
      "                                                                                                  \n",
      " activation_204 (Activation  (None, 29, 29, 96)           0         ['batch_normalization_204[0][0\n",
      " )                                                                  ]']                           \n",
      "                                                                                                  \n",
      " average_pooling2d_19 (Aver  (None, 29, 29, 256)          0         ['mixed0[0][0]']              \n",
      " agePooling2D)                                                                                    \n",
      "                                                                                                  \n",
      " conv2d_200 (Conv2D)         (None, 29, 29, 64)           16384     ['mixed0[0][0]']              \n",
      "                                                                                                  \n",
      " conv2d_202 (Conv2D)         (None, 29, 29, 64)           76800     ['activation_201[0][0]']      \n",
      "                                                                                                  \n",
      " conv2d_205 (Conv2D)         (None, 29, 29, 96)           82944     ['activation_204[0][0]']      \n",
      "                                                                                                  \n",
      " conv2d_206 (Conv2D)         (None, 29, 29, 64)           16384     ['average_pooling2d_19[0][0]']\n",
      "                                                                                                  \n",
      " batch_normalization_200 (B  (None, 29, 29, 64)           192       ['conv2d_200[0][0]']          \n",
      " atchNormalization)                                                                               \n",
      "                                                                                                  \n",
      " batch_normalization_202 (B  (None, 29, 29, 64)           192       ['conv2d_202[0][0]']          \n",
      " atchNormalization)                                                                               \n",
      "                                                                                                  \n",
      " batch_normalization_205 (B  (None, 29, 29, 96)           288       ['conv2d_205[0][0]']          \n",
      " atchNormalization)                                                                               \n",
      "                                                                                                  \n",
      " batch_normalization_206 (B  (None, 29, 29, 64)           192       ['conv2d_206[0][0]']          \n",
      " atchNormalization)                                                                               \n",
      "                                                                                                  \n",
      " activation_200 (Activation  (None, 29, 29, 64)           0         ['batch_normalization_200[0][0\n",
      " )                                                                  ]']                           \n",
      "                                                                                                  \n",
      " activation_202 (Activation  (None, 29, 29, 64)           0         ['batch_normalization_202[0][0\n",
      " )                                                                  ]']                           \n",
      "                                                                                                  \n",
      " activation_205 (Activation  (None, 29, 29, 96)           0         ['batch_normalization_205[0][0\n",
      " )                                                                  ]']                           \n",
      "                                                                                                  \n",
      " activation_206 (Activation  (None, 29, 29, 64)           0         ['batch_normalization_206[0][0\n",
      " )                                                                  ]']                           \n",
      "                                                                                                  \n",
      " mixed1 (Concatenate)        (None, 29, 29, 288)          0         ['activation_200[0][0]',      \n",
      "                                                                     'activation_202[0][0]',      \n",
      "                                                                     'activation_205[0][0]',      \n",
      "                                                                     'activation_206[0][0]']      \n",
      "                                                                                                  \n",
      " conv2d_210 (Conv2D)         (None, 29, 29, 64)           18432     ['mixed1[0][0]']              \n",
      "                                                                                                  \n",
      " batch_normalization_210 (B  (None, 29, 29, 64)           192       ['conv2d_210[0][0]']          \n",
      " atchNormalization)                                                                               \n",
      "                                                                                                  \n",
      " activation_210 (Activation  (None, 29, 29, 64)           0         ['batch_normalization_210[0][0\n",
      " )                                                                  ]']                           \n",
      "                                                                                                  \n",
      " conv2d_208 (Conv2D)         (None, 29, 29, 48)           13824     ['mixed1[0][0]']              \n",
      "                                                                                                  \n",
      " conv2d_211 (Conv2D)         (None, 29, 29, 96)           55296     ['activation_210[0][0]']      \n",
      "                                                                                                  \n",
      " batch_normalization_208 (B  (None, 29, 29, 48)           144       ['conv2d_208[0][0]']          \n",
      " atchNormalization)                                                                               \n",
      "                                                                                                  \n",
      " batch_normalization_211 (B  (None, 29, 29, 96)           288       ['conv2d_211[0][0]']          \n",
      " atchNormalization)                                                                               \n",
      "                                                                                                  \n",
      " activation_208 (Activation  (None, 29, 29, 48)           0         ['batch_normalization_208[0][0\n",
      " )                                                                  ]']                           \n",
      "                                                                                                  \n",
      " activation_211 (Activation  (None, 29, 29, 96)           0         ['batch_normalization_211[0][0\n",
      " )                                                                  ]']                           \n",
      "                                                                                                  \n",
      " average_pooling2d_20 (Aver  (None, 29, 29, 288)          0         ['mixed1[0][0]']              \n",
      " agePooling2D)                                                                                    \n",
      "                                                                                                  \n",
      " conv2d_207 (Conv2D)         (None, 29, 29, 64)           18432     ['mixed1[0][0]']              \n",
      "                                                                                                  \n",
      " conv2d_209 (Conv2D)         (None, 29, 29, 64)           76800     ['activation_208[0][0]']      \n",
      "                                                                                                  \n",
      " conv2d_212 (Conv2D)         (None, 29, 29, 96)           82944     ['activation_211[0][0]']      \n",
      "                                                                                                  \n",
      " conv2d_213 (Conv2D)         (None, 29, 29, 64)           18432     ['average_pooling2d_20[0][0]']\n",
      "                                                                                                  \n",
      " batch_normalization_207 (B  (None, 29, 29, 64)           192       ['conv2d_207[0][0]']          \n",
      " atchNormalization)                                                                               \n",
      "                                                                                                  \n",
      " batch_normalization_209 (B  (None, 29, 29, 64)           192       ['conv2d_209[0][0]']          \n",
      " atchNormalization)                                                                               \n",
      "                                                                                                  \n",
      " batch_normalization_212 (B  (None, 29, 29, 96)           288       ['conv2d_212[0][0]']          \n",
      " atchNormalization)                                                                               \n",
      "                                                                                                  \n",
      " batch_normalization_213 (B  (None, 29, 29, 64)           192       ['conv2d_213[0][0]']          \n",
      " atchNormalization)                                                                               \n",
      "                                                                                                  \n",
      " activation_207 (Activation  (None, 29, 29, 64)           0         ['batch_normalization_207[0][0\n",
      " )                                                                  ]']                           \n",
      "                                                                                                  \n",
      " activation_209 (Activation  (None, 29, 29, 64)           0         ['batch_normalization_209[0][0\n",
      " )                                                                  ]']                           \n",
      "                                                                                                  \n",
      " activation_212 (Activation  (None, 29, 29, 96)           0         ['batch_normalization_212[0][0\n",
      " )                                                                  ]']                           \n",
      "                                                                                                  \n",
      " activation_213 (Activation  (None, 29, 29, 64)           0         ['batch_normalization_213[0][0\n",
      " )                                                                  ]']                           \n",
      "                                                                                                  \n",
      " mixed2 (Concatenate)        (None, 29, 29, 288)          0         ['activation_207[0][0]',      \n",
      "                                                                     'activation_209[0][0]',      \n",
      "                                                                     'activation_212[0][0]',      \n",
      "                                                                     'activation_213[0][0]']      \n",
      "                                                                                                  \n",
      " conv2d_215 (Conv2D)         (None, 29, 29, 64)           18432     ['mixed2[0][0]']              \n",
      "                                                                                                  \n",
      " batch_normalization_215 (B  (None, 29, 29, 64)           192       ['conv2d_215[0][0]']          \n",
      " atchNormalization)                                                                               \n",
      "                                                                                                  \n",
      " activation_215 (Activation  (None, 29, 29, 64)           0         ['batch_normalization_215[0][0\n",
      " )                                                                  ]']                           \n",
      "                                                                                                  \n",
      " conv2d_216 (Conv2D)         (None, 29, 29, 96)           55296     ['activation_215[0][0]']      \n",
      "                                                                                                  \n",
      " batch_normalization_216 (B  (None, 29, 29, 96)           288       ['conv2d_216[0][0]']          \n",
      " atchNormalization)                                                                               \n",
      "                                                                                                  \n",
      " activation_216 (Activation  (None, 29, 29, 96)           0         ['batch_normalization_216[0][0\n",
      " )                                                                  ]']                           \n",
      "                                                                                                  \n",
      " conv2d_214 (Conv2D)         (None, 14, 14, 384)          995328    ['mixed2[0][0]']              \n",
      "                                                                                                  \n",
      " conv2d_217 (Conv2D)         (None, 14, 14, 96)           82944     ['activation_216[0][0]']      \n",
      "                                                                                                  \n",
      " batch_normalization_214 (B  (None, 14, 14, 384)          1152      ['conv2d_214[0][0]']          \n",
      " atchNormalization)                                                                               \n",
      "                                                                                                  \n",
      " batch_normalization_217 (B  (None, 14, 14, 96)           288       ['conv2d_217[0][0]']          \n",
      " atchNormalization)                                                                               \n",
      "                                                                                                  \n",
      " activation_214 (Activation  (None, 14, 14, 384)          0         ['batch_normalization_214[0][0\n",
      " )                                                                  ]']                           \n",
      "                                                                                                  \n",
      " activation_217 (Activation  (None, 14, 14, 96)           0         ['batch_normalization_217[0][0\n",
      " )                                                                  ]']                           \n",
      "                                                                                                  \n",
      " max_pooling2d_10 (MaxPooli  (None, 14, 14, 288)          0         ['mixed2[0][0]']              \n",
      " ng2D)                                                                                            \n",
      "                                                                                                  \n",
      " mixed3 (Concatenate)        (None, 14, 14, 768)          0         ['activation_214[0][0]',      \n",
      "                                                                     'activation_217[0][0]',      \n",
      "                                                                     'max_pooling2d_10[0][0]']    \n",
      "                                                                                                  \n",
      " conv2d_222 (Conv2D)         (None, 14, 14, 128)          98304     ['mixed3[0][0]']              \n",
      "                                                                                                  \n",
      " batch_normalization_222 (B  (None, 14, 14, 128)          384       ['conv2d_222[0][0]']          \n",
      " atchNormalization)                                                                               \n",
      "                                                                                                  \n",
      " activation_222 (Activation  (None, 14, 14, 128)          0         ['batch_normalization_222[0][0\n",
      " )                                                                  ]']                           \n",
      "                                                                                                  \n",
      " conv2d_223 (Conv2D)         (None, 14, 14, 128)          114688    ['activation_222[0][0]']      \n",
      "                                                                                                  \n",
      " batch_normalization_223 (B  (None, 14, 14, 128)          384       ['conv2d_223[0][0]']          \n",
      " atchNormalization)                                                                               \n",
      "                                                                                                  \n",
      " activation_223 (Activation  (None, 14, 14, 128)          0         ['batch_normalization_223[0][0\n",
      " )                                                                  ]']                           \n",
      "                                                                                                  \n",
      " conv2d_219 (Conv2D)         (None, 14, 14, 128)          98304     ['mixed3[0][0]']              \n",
      "                                                                                                  \n",
      " conv2d_224 (Conv2D)         (None, 14, 14, 128)          114688    ['activation_223[0][0]']      \n",
      "                                                                                                  \n",
      " batch_normalization_219 (B  (None, 14, 14, 128)          384       ['conv2d_219[0][0]']          \n",
      " atchNormalization)                                                                               \n",
      "                                                                                                  \n",
      " batch_normalization_224 (B  (None, 14, 14, 128)          384       ['conv2d_224[0][0]']          \n",
      " atchNormalization)                                                                               \n",
      "                                                                                                  \n",
      " activation_219 (Activation  (None, 14, 14, 128)          0         ['batch_normalization_219[0][0\n",
      " )                                                                  ]']                           \n",
      "                                                                                                  \n",
      " activation_224 (Activation  (None, 14, 14, 128)          0         ['batch_normalization_224[0][0\n",
      " )                                                                  ]']                           \n",
      "                                                                                                  \n",
      " conv2d_220 (Conv2D)         (None, 14, 14, 128)          114688    ['activation_219[0][0]']      \n",
      "                                                                                                  \n",
      " conv2d_225 (Conv2D)         (None, 14, 14, 128)          114688    ['activation_224[0][0]']      \n",
      "                                                                                                  \n",
      " batch_normalization_220 (B  (None, 14, 14, 128)          384       ['conv2d_220[0][0]']          \n",
      " atchNormalization)                                                                               \n",
      "                                                                                                  \n",
      " batch_normalization_225 (B  (None, 14, 14, 128)          384       ['conv2d_225[0][0]']          \n",
      " atchNormalization)                                                                               \n",
      "                                                                                                  \n",
      " activation_220 (Activation  (None, 14, 14, 128)          0         ['batch_normalization_220[0][0\n",
      " )                                                                  ]']                           \n",
      "                                                                                                  \n",
      " activation_225 (Activation  (None, 14, 14, 128)          0         ['batch_normalization_225[0][0\n",
      " )                                                                  ]']                           \n",
      "                                                                                                  \n",
      " average_pooling2d_21 (Aver  (None, 14, 14, 768)          0         ['mixed3[0][0]']              \n",
      " agePooling2D)                                                                                    \n",
      "                                                                                                  \n",
      " conv2d_218 (Conv2D)         (None, 14, 14, 192)          147456    ['mixed3[0][0]']              \n",
      "                                                                                                  \n",
      " conv2d_221 (Conv2D)         (None, 14, 14, 192)          172032    ['activation_220[0][0]']      \n",
      "                                                                                                  \n",
      " conv2d_226 (Conv2D)         (None, 14, 14, 192)          172032    ['activation_225[0][0]']      \n",
      "                                                                                                  \n",
      " conv2d_227 (Conv2D)         (None, 14, 14, 192)          147456    ['average_pooling2d_21[0][0]']\n",
      "                                                                                                  \n",
      " batch_normalization_218 (B  (None, 14, 14, 192)          576       ['conv2d_218[0][0]']          \n",
      " atchNormalization)                                                                               \n",
      "                                                                                                  \n",
      " batch_normalization_221 (B  (None, 14, 14, 192)          576       ['conv2d_221[0][0]']          \n",
      " atchNormalization)                                                                               \n",
      "                                                                                                  \n",
      " batch_normalization_226 (B  (None, 14, 14, 192)          576       ['conv2d_226[0][0]']          \n",
      " atchNormalization)                                                                               \n",
      "                                                                                                  \n",
      " batch_normalization_227 (B  (None, 14, 14, 192)          576       ['conv2d_227[0][0]']          \n",
      " atchNormalization)                                                                               \n",
      "                                                                                                  \n",
      " activation_218 (Activation  (None, 14, 14, 192)          0         ['batch_normalization_218[0][0\n",
      " )                                                                  ]']                           \n",
      "                                                                                                  \n",
      " activation_221 (Activation  (None, 14, 14, 192)          0         ['batch_normalization_221[0][0\n",
      " )                                                                  ]']                           \n",
      "                                                                                                  \n",
      " activation_226 (Activation  (None, 14, 14, 192)          0         ['batch_normalization_226[0][0\n",
      " )                                                                  ]']                           \n",
      "                                                                                                  \n",
      " activation_227 (Activation  (None, 14, 14, 192)          0         ['batch_normalization_227[0][0\n",
      " )                                                                  ]']                           \n",
      "                                                                                                  \n",
      " mixed4 (Concatenate)        (None, 14, 14, 768)          0         ['activation_218[0][0]',      \n",
      "                                                                     'activation_221[0][0]',      \n",
      "                                                                     'activation_226[0][0]',      \n",
      "                                                                     'activation_227[0][0]']      \n",
      "                                                                                                  \n",
      " conv2d_232 (Conv2D)         (None, 14, 14, 160)          122880    ['mixed4[0][0]']              \n",
      "                                                                                                  \n",
      " batch_normalization_232 (B  (None, 14, 14, 160)          480       ['conv2d_232[0][0]']          \n",
      " atchNormalization)                                                                               \n",
      "                                                                                                  \n",
      " activation_232 (Activation  (None, 14, 14, 160)          0         ['batch_normalization_232[0][0\n",
      " )                                                                  ]']                           \n",
      "                                                                                                  \n",
      " conv2d_233 (Conv2D)         (None, 14, 14, 160)          179200    ['activation_232[0][0]']      \n",
      "                                                                                                  \n",
      " batch_normalization_233 (B  (None, 14, 14, 160)          480       ['conv2d_233[0][0]']          \n",
      " atchNormalization)                                                                               \n",
      "                                                                                                  \n",
      " activation_233 (Activation  (None, 14, 14, 160)          0         ['batch_normalization_233[0][0\n",
      " )                                                                  ]']                           \n",
      "                                                                                                  \n",
      " conv2d_229 (Conv2D)         (None, 14, 14, 160)          122880    ['mixed4[0][0]']              \n",
      "                                                                                                  \n",
      " conv2d_234 (Conv2D)         (None, 14, 14, 160)          179200    ['activation_233[0][0]']      \n",
      "                                                                                                  \n",
      " batch_normalization_229 (B  (None, 14, 14, 160)          480       ['conv2d_229[0][0]']          \n",
      " atchNormalization)                                                                               \n",
      "                                                                                                  \n",
      " batch_normalization_234 (B  (None, 14, 14, 160)          480       ['conv2d_234[0][0]']          \n",
      " atchNormalization)                                                                               \n",
      "                                                                                                  \n",
      " activation_229 (Activation  (None, 14, 14, 160)          0         ['batch_normalization_229[0][0\n",
      " )                                                                  ]']                           \n",
      "                                                                                                  \n",
      " activation_234 (Activation  (None, 14, 14, 160)          0         ['batch_normalization_234[0][0\n",
      " )                                                                  ]']                           \n",
      "                                                                                                  \n",
      " conv2d_230 (Conv2D)         (None, 14, 14, 160)          179200    ['activation_229[0][0]']      \n",
      "                                                                                                  \n",
      " conv2d_235 (Conv2D)         (None, 14, 14, 160)          179200    ['activation_234[0][0]']      \n",
      "                                                                                                  \n",
      " batch_normalization_230 (B  (None, 14, 14, 160)          480       ['conv2d_230[0][0]']          \n",
      " atchNormalization)                                                                               \n",
      "                                                                                                  \n",
      " batch_normalization_235 (B  (None, 14, 14, 160)          480       ['conv2d_235[0][0]']          \n",
      " atchNormalization)                                                                               \n",
      "                                                                                                  \n",
      " activation_230 (Activation  (None, 14, 14, 160)          0         ['batch_normalization_230[0][0\n",
      " )                                                                  ]']                           \n",
      "                                                                                                  \n",
      " activation_235 (Activation  (None, 14, 14, 160)          0         ['batch_normalization_235[0][0\n",
      " )                                                                  ]']                           \n",
      "                                                                                                  \n",
      " average_pooling2d_22 (Aver  (None, 14, 14, 768)          0         ['mixed4[0][0]']              \n",
      " agePooling2D)                                                                                    \n",
      "                                                                                                  \n",
      " conv2d_228 (Conv2D)         (None, 14, 14, 192)          147456    ['mixed4[0][0]']              \n",
      "                                                                                                  \n",
      " conv2d_231 (Conv2D)         (None, 14, 14, 192)          215040    ['activation_230[0][0]']      \n",
      "                                                                                                  \n",
      " conv2d_236 (Conv2D)         (None, 14, 14, 192)          215040    ['activation_235[0][0]']      \n",
      "                                                                                                  \n",
      " conv2d_237 (Conv2D)         (None, 14, 14, 192)          147456    ['average_pooling2d_22[0][0]']\n",
      "                                                                                                  \n",
      " batch_normalization_228 (B  (None, 14, 14, 192)          576       ['conv2d_228[0][0]']          \n",
      " atchNormalization)                                                                               \n",
      "                                                                                                  \n",
      " batch_normalization_231 (B  (None, 14, 14, 192)          576       ['conv2d_231[0][0]']          \n",
      " atchNormalization)                                                                               \n",
      "                                                                                                  \n",
      " batch_normalization_236 (B  (None, 14, 14, 192)          576       ['conv2d_236[0][0]']          \n",
      " atchNormalization)                                                                               \n",
      "                                                                                                  \n",
      " batch_normalization_237 (B  (None, 14, 14, 192)          576       ['conv2d_237[0][0]']          \n",
      " atchNormalization)                                                                               \n",
      "                                                                                                  \n",
      " activation_228 (Activation  (None, 14, 14, 192)          0         ['batch_normalization_228[0][0\n",
      " )                                                                  ]']                           \n",
      "                                                                                                  \n",
      " activation_231 (Activation  (None, 14, 14, 192)          0         ['batch_normalization_231[0][0\n",
      " )                                                                  ]']                           \n",
      "                                                                                                  \n",
      " activation_236 (Activation  (None, 14, 14, 192)          0         ['batch_normalization_236[0][0\n",
      " )                                                                  ]']                           \n",
      "                                                                                                  \n",
      " activation_237 (Activation  (None, 14, 14, 192)          0         ['batch_normalization_237[0][0\n",
      " )                                                                  ]']                           \n",
      "                                                                                                  \n",
      " mixed5 (Concatenate)        (None, 14, 14, 768)          0         ['activation_228[0][0]',      \n",
      "                                                                     'activation_231[0][0]',      \n",
      "                                                                     'activation_236[0][0]',      \n",
      "                                                                     'activation_237[0][0]']      \n",
      "                                                                                                  \n",
      " conv2d_242 (Conv2D)         (None, 14, 14, 160)          122880    ['mixed5[0][0]']              \n",
      "                                                                                                  \n",
      " batch_normalization_242 (B  (None, 14, 14, 160)          480       ['conv2d_242[0][0]']          \n",
      " atchNormalization)                                                                               \n",
      "                                                                                                  \n",
      " activation_242 (Activation  (None, 14, 14, 160)          0         ['batch_normalization_242[0][0\n",
      " )                                                                  ]']                           \n",
      "                                                                                                  \n",
      " conv2d_243 (Conv2D)         (None, 14, 14, 160)          179200    ['activation_242[0][0]']      \n",
      "                                                                                                  \n",
      " batch_normalization_243 (B  (None, 14, 14, 160)          480       ['conv2d_243[0][0]']          \n",
      " atchNormalization)                                                                               \n",
      "                                                                                                  \n",
      " activation_243 (Activation  (None, 14, 14, 160)          0         ['batch_normalization_243[0][0\n",
      " )                                                                  ]']                           \n",
      "                                                                                                  \n",
      " conv2d_239 (Conv2D)         (None, 14, 14, 160)          122880    ['mixed5[0][0]']              \n",
      "                                                                                                  \n",
      " conv2d_244 (Conv2D)         (None, 14, 14, 160)          179200    ['activation_243[0][0]']      \n",
      "                                                                                                  \n",
      " batch_normalization_239 (B  (None, 14, 14, 160)          480       ['conv2d_239[0][0]']          \n",
      " atchNormalization)                                                                               \n",
      "                                                                                                  \n",
      " batch_normalization_244 (B  (None, 14, 14, 160)          480       ['conv2d_244[0][0]']          \n",
      " atchNormalization)                                                                               \n",
      "                                                                                                  \n",
      " activation_239 (Activation  (None, 14, 14, 160)          0         ['batch_normalization_239[0][0\n",
      " )                                                                  ]']                           \n",
      "                                                                                                  \n",
      " activation_244 (Activation  (None, 14, 14, 160)          0         ['batch_normalization_244[0][0\n",
      " )                                                                  ]']                           \n",
      "                                                                                                  \n",
      " conv2d_240 (Conv2D)         (None, 14, 14, 160)          179200    ['activation_239[0][0]']      \n",
      "                                                                                                  \n",
      " conv2d_245 (Conv2D)         (None, 14, 14, 160)          179200    ['activation_244[0][0]']      \n",
      "                                                                                                  \n",
      " batch_normalization_240 (B  (None, 14, 14, 160)          480       ['conv2d_240[0][0]']          \n",
      " atchNormalization)                                                                               \n",
      "                                                                                                  \n",
      " batch_normalization_245 (B  (None, 14, 14, 160)          480       ['conv2d_245[0][0]']          \n",
      " atchNormalization)                                                                               \n",
      "                                                                                                  \n",
      " activation_240 (Activation  (None, 14, 14, 160)          0         ['batch_normalization_240[0][0\n",
      " )                                                                  ]']                           \n",
      "                                                                                                  \n",
      " activation_245 (Activation  (None, 14, 14, 160)          0         ['batch_normalization_245[0][0\n",
      " )                                                                  ]']                           \n",
      "                                                                                                  \n",
      " average_pooling2d_23 (Aver  (None, 14, 14, 768)          0         ['mixed5[0][0]']              \n",
      " agePooling2D)                                                                                    \n",
      "                                                                                                  \n",
      " conv2d_238 (Conv2D)         (None, 14, 14, 192)          147456    ['mixed5[0][0]']              \n",
      "                                                                                                  \n",
      " conv2d_241 (Conv2D)         (None, 14, 14, 192)          215040    ['activation_240[0][0]']      \n",
      "                                                                                                  \n",
      " conv2d_246 (Conv2D)         (None, 14, 14, 192)          215040    ['activation_245[0][0]']      \n",
      "                                                                                                  \n",
      " conv2d_247 (Conv2D)         (None, 14, 14, 192)          147456    ['average_pooling2d_23[0][0]']\n",
      "                                                                                                  \n",
      " batch_normalization_238 (B  (None, 14, 14, 192)          576       ['conv2d_238[0][0]']          \n",
      " atchNormalization)                                                                               \n",
      "                                                                                                  \n",
      " batch_normalization_241 (B  (None, 14, 14, 192)          576       ['conv2d_241[0][0]']          \n",
      " atchNormalization)                                                                               \n",
      "                                                                                                  \n",
      " batch_normalization_246 (B  (None, 14, 14, 192)          576       ['conv2d_246[0][0]']          \n",
      " atchNormalization)                                                                               \n",
      "                                                                                                  \n",
      " batch_normalization_247 (B  (None, 14, 14, 192)          576       ['conv2d_247[0][0]']          \n",
      " atchNormalization)                                                                               \n",
      "                                                                                                  \n",
      " activation_238 (Activation  (None, 14, 14, 192)          0         ['batch_normalization_238[0][0\n",
      " )                                                                  ]']                           \n",
      "                                                                                                  \n",
      " activation_241 (Activation  (None, 14, 14, 192)          0         ['batch_normalization_241[0][0\n",
      " )                                                                  ]']                           \n",
      "                                                                                                  \n",
      " activation_246 (Activation  (None, 14, 14, 192)          0         ['batch_normalization_246[0][0\n",
      " )                                                                  ]']                           \n",
      "                                                                                                  \n",
      " activation_247 (Activation  (None, 14, 14, 192)          0         ['batch_normalization_247[0][0\n",
      " )                                                                  ]']                           \n",
      "                                                                                                  \n",
      " mixed6 (Concatenate)        (None, 14, 14, 768)          0         ['activation_238[0][0]',      \n",
      "                                                                     'activation_241[0][0]',      \n",
      "                                                                     'activation_246[0][0]',      \n",
      "                                                                     'activation_247[0][0]']      \n",
      "                                                                                                  \n",
      " conv2d_252 (Conv2D)         (None, 14, 14, 192)          147456    ['mixed6[0][0]']              \n",
      "                                                                                                  \n",
      " batch_normalization_252 (B  (None, 14, 14, 192)          576       ['conv2d_252[0][0]']          \n",
      " atchNormalization)                                                                               \n",
      "                                                                                                  \n",
      " activation_252 (Activation  (None, 14, 14, 192)          0         ['batch_normalization_252[0][0\n",
      " )                                                                  ]']                           \n",
      "                                                                                                  \n",
      " conv2d_253 (Conv2D)         (None, 14, 14, 192)          258048    ['activation_252[0][0]']      \n",
      "                                                                                                  \n",
      " batch_normalization_253 (B  (None, 14, 14, 192)          576       ['conv2d_253[0][0]']          \n",
      " atchNormalization)                                                                               \n",
      "                                                                                                  \n",
      " activation_253 (Activation  (None, 14, 14, 192)          0         ['batch_normalization_253[0][0\n",
      " )                                                                  ]']                           \n",
      "                                                                                                  \n",
      " conv2d_249 (Conv2D)         (None, 14, 14, 192)          147456    ['mixed6[0][0]']              \n",
      "                                                                                                  \n",
      " conv2d_254 (Conv2D)         (None, 14, 14, 192)          258048    ['activation_253[0][0]']      \n",
      "                                                                                                  \n",
      " batch_normalization_249 (B  (None, 14, 14, 192)          576       ['conv2d_249[0][0]']          \n",
      " atchNormalization)                                                                               \n",
      "                                                                                                  \n",
      " batch_normalization_254 (B  (None, 14, 14, 192)          576       ['conv2d_254[0][0]']          \n",
      " atchNormalization)                                                                               \n",
      "                                                                                                  \n",
      " activation_249 (Activation  (None, 14, 14, 192)          0         ['batch_normalization_249[0][0\n",
      " )                                                                  ]']                           \n",
      "                                                                                                  \n",
      " activation_254 (Activation  (None, 14, 14, 192)          0         ['batch_normalization_254[0][0\n",
      " )                                                                  ]']                           \n",
      "                                                                                                  \n",
      " conv2d_250 (Conv2D)         (None, 14, 14, 192)          258048    ['activation_249[0][0]']      \n",
      "                                                                                                  \n",
      " conv2d_255 (Conv2D)         (None, 14, 14, 192)          258048    ['activation_254[0][0]']      \n",
      "                                                                                                  \n",
      " batch_normalization_250 (B  (None, 14, 14, 192)          576       ['conv2d_250[0][0]']          \n",
      " atchNormalization)                                                                               \n",
      "                                                                                                  \n",
      " batch_normalization_255 (B  (None, 14, 14, 192)          576       ['conv2d_255[0][0]']          \n",
      " atchNormalization)                                                                               \n",
      "                                                                                                  \n",
      " activation_250 (Activation  (None, 14, 14, 192)          0         ['batch_normalization_250[0][0\n",
      " )                                                                  ]']                           \n",
      "                                                                                                  \n",
      " activation_255 (Activation  (None, 14, 14, 192)          0         ['batch_normalization_255[0][0\n",
      " )                                                                  ]']                           \n",
      "                                                                                                  \n",
      " average_pooling2d_24 (Aver  (None, 14, 14, 768)          0         ['mixed6[0][0]']              \n",
      " agePooling2D)                                                                                    \n",
      "                                                                                                  \n",
      " conv2d_248 (Conv2D)         (None, 14, 14, 192)          147456    ['mixed6[0][0]']              \n",
      "                                                                                                  \n",
      " conv2d_251 (Conv2D)         (None, 14, 14, 192)          258048    ['activation_250[0][0]']      \n",
      "                                                                                                  \n",
      " conv2d_256 (Conv2D)         (None, 14, 14, 192)          258048    ['activation_255[0][0]']      \n",
      "                                                                                                  \n",
      " conv2d_257 (Conv2D)         (None, 14, 14, 192)          147456    ['average_pooling2d_24[0][0]']\n",
      "                                                                                                  \n",
      " batch_normalization_248 (B  (None, 14, 14, 192)          576       ['conv2d_248[0][0]']          \n",
      " atchNormalization)                                                                               \n",
      "                                                                                                  \n",
      " batch_normalization_251 (B  (None, 14, 14, 192)          576       ['conv2d_251[0][0]']          \n",
      " atchNormalization)                                                                               \n",
      "                                                                                                  \n",
      " batch_normalization_256 (B  (None, 14, 14, 192)          576       ['conv2d_256[0][0]']          \n",
      " atchNormalization)                                                                               \n",
      "                                                                                                  \n",
      " batch_normalization_257 (B  (None, 14, 14, 192)          576       ['conv2d_257[0][0]']          \n",
      " atchNormalization)                                                                               \n",
      "                                                                                                  \n",
      " activation_248 (Activation  (None, 14, 14, 192)          0         ['batch_normalization_248[0][0\n",
      " )                                                                  ]']                           \n",
      "                                                                                                  \n",
      " activation_251 (Activation  (None, 14, 14, 192)          0         ['batch_normalization_251[0][0\n",
      " )                                                                  ]']                           \n",
      "                                                                                                  \n",
      " activation_256 (Activation  (None, 14, 14, 192)          0         ['batch_normalization_256[0][0\n",
      " )                                                                  ]']                           \n",
      "                                                                                                  \n",
      " activation_257 (Activation  (None, 14, 14, 192)          0         ['batch_normalization_257[0][0\n",
      " )                                                                  ]']                           \n",
      "                                                                                                  \n",
      " mixed7 (Concatenate)        (None, 14, 14, 768)          0         ['activation_248[0][0]',      \n",
      "                                                                     'activation_251[0][0]',      \n",
      "                                                                     'activation_256[0][0]',      \n",
      "                                                                     'activation_257[0][0]']      \n",
      "                                                                                                  \n",
      " conv2d_260 (Conv2D)         (None, 14, 14, 192)          147456    ['mixed7[0][0]']              \n",
      "                                                                                                  \n",
      " batch_normalization_260 (B  (None, 14, 14, 192)          576       ['conv2d_260[0][0]']          \n",
      " atchNormalization)                                                                               \n",
      "                                                                                                  \n",
      " activation_260 (Activation  (None, 14, 14, 192)          0         ['batch_normalization_260[0][0\n",
      " )                                                                  ]']                           \n",
      "                                                                                                  \n",
      " conv2d_261 (Conv2D)         (None, 14, 14, 192)          258048    ['activation_260[0][0]']      \n",
      "                                                                                                  \n",
      " batch_normalization_261 (B  (None, 14, 14, 192)          576       ['conv2d_261[0][0]']          \n",
      " atchNormalization)                                                                               \n",
      "                                                                                                  \n",
      " activation_261 (Activation  (None, 14, 14, 192)          0         ['batch_normalization_261[0][0\n",
      " )                                                                  ]']                           \n",
      "                                                                                                  \n",
      " conv2d_258 (Conv2D)         (None, 14, 14, 192)          147456    ['mixed7[0][0]']              \n",
      "                                                                                                  \n",
      " conv2d_262 (Conv2D)         (None, 14, 14, 192)          258048    ['activation_261[0][0]']      \n",
      "                                                                                                  \n",
      " batch_normalization_258 (B  (None, 14, 14, 192)          576       ['conv2d_258[0][0]']          \n",
      " atchNormalization)                                                                               \n",
      "                                                                                                  \n",
      " batch_normalization_262 (B  (None, 14, 14, 192)          576       ['conv2d_262[0][0]']          \n",
      " atchNormalization)                                                                               \n",
      "                                                                                                  \n",
      " activation_258 (Activation  (None, 14, 14, 192)          0         ['batch_normalization_258[0][0\n",
      " )                                                                  ]']                           \n",
      "                                                                                                  \n",
      " activation_262 (Activation  (None, 14, 14, 192)          0         ['batch_normalization_262[0][0\n",
      " )                                                                  ]']                           \n",
      "                                                                                                  \n",
      " conv2d_259 (Conv2D)         (None, 6, 6, 320)            552960    ['activation_258[0][0]']      \n",
      "                                                                                                  \n",
      " conv2d_263 (Conv2D)         (None, 6, 6, 192)            331776    ['activation_262[0][0]']      \n",
      "                                                                                                  \n",
      " batch_normalization_259 (B  (None, 6, 6, 320)            960       ['conv2d_259[0][0]']          \n",
      " atchNormalization)                                                                               \n",
      "                                                                                                  \n",
      " batch_normalization_263 (B  (None, 6, 6, 192)            576       ['conv2d_263[0][0]']          \n",
      " atchNormalization)                                                                               \n",
      "                                                                                                  \n",
      " activation_259 (Activation  (None, 6, 6, 320)            0         ['batch_normalization_259[0][0\n",
      " )                                                                  ]']                           \n",
      "                                                                                                  \n",
      " activation_263 (Activation  (None, 6, 6, 192)            0         ['batch_normalization_263[0][0\n",
      " )                                                                  ]']                           \n",
      "                                                                                                  \n",
      " max_pooling2d_11 (MaxPooli  (None, 6, 6, 768)            0         ['mixed7[0][0]']              \n",
      " ng2D)                                                                                            \n",
      "                                                                                                  \n",
      " mixed8 (Concatenate)        (None, 6, 6, 1280)           0         ['activation_259[0][0]',      \n",
      "                                                                     'activation_263[0][0]',      \n",
      "                                                                     'max_pooling2d_11[0][0]']    \n",
      "                                                                                                  \n",
      " conv2d_268 (Conv2D)         (None, 6, 6, 448)            573440    ['mixed8[0][0]']              \n",
      "                                                                                                  \n",
      " batch_normalization_268 (B  (None, 6, 6, 448)            1344      ['conv2d_268[0][0]']          \n",
      " atchNormalization)                                                                               \n",
      "                                                                                                  \n",
      " activation_268 (Activation  (None, 6, 6, 448)            0         ['batch_normalization_268[0][0\n",
      " )                                                                  ]']                           \n",
      "                                                                                                  \n",
      " conv2d_265 (Conv2D)         (None, 6, 6, 384)            491520    ['mixed8[0][0]']              \n",
      "                                                                                                  \n",
      " conv2d_269 (Conv2D)         (None, 6, 6, 384)            1548288   ['activation_268[0][0]']      \n",
      "                                                                                                  \n",
      " batch_normalization_265 (B  (None, 6, 6, 384)            1152      ['conv2d_265[0][0]']          \n",
      " atchNormalization)                                                                               \n",
      "                                                                                                  \n",
      " batch_normalization_269 (B  (None, 6, 6, 384)            1152      ['conv2d_269[0][0]']          \n",
      " atchNormalization)                                                                               \n",
      "                                                                                                  \n",
      " activation_265 (Activation  (None, 6, 6, 384)            0         ['batch_normalization_265[0][0\n",
      " )                                                                  ]']                           \n",
      "                                                                                                  \n",
      " activation_269 (Activation  (None, 6, 6, 384)            0         ['batch_normalization_269[0][0\n",
      " )                                                                  ]']                           \n",
      "                                                                                                  \n",
      " conv2d_266 (Conv2D)         (None, 6, 6, 384)            442368    ['activation_265[0][0]']      \n",
      "                                                                                                  \n",
      " conv2d_267 (Conv2D)         (None, 6, 6, 384)            442368    ['activation_265[0][0]']      \n",
      "                                                                                                  \n",
      " conv2d_270 (Conv2D)         (None, 6, 6, 384)            442368    ['activation_269[0][0]']      \n",
      "                                                                                                  \n",
      " conv2d_271 (Conv2D)         (None, 6, 6, 384)            442368    ['activation_269[0][0]']      \n",
      "                                                                                                  \n",
      " average_pooling2d_25 (Aver  (None, 6, 6, 1280)           0         ['mixed8[0][0]']              \n",
      " agePooling2D)                                                                                    \n",
      "                                                                                                  \n",
      " conv2d_264 (Conv2D)         (None, 6, 6, 320)            409600    ['mixed8[0][0]']              \n",
      "                                                                                                  \n",
      " batch_normalization_266 (B  (None, 6, 6, 384)            1152      ['conv2d_266[0][0]']          \n",
      " atchNormalization)                                                                               \n",
      "                                                                                                  \n",
      " batch_normalization_267 (B  (None, 6, 6, 384)            1152      ['conv2d_267[0][0]']          \n",
      " atchNormalization)                                                                               \n",
      "                                                                                                  \n",
      " batch_normalization_270 (B  (None, 6, 6, 384)            1152      ['conv2d_270[0][0]']          \n",
      " atchNormalization)                                                                               \n",
      "                                                                                                  \n",
      " batch_normalization_271 (B  (None, 6, 6, 384)            1152      ['conv2d_271[0][0]']          \n",
      " atchNormalization)                                                                               \n",
      "                                                                                                  \n",
      " conv2d_272 (Conv2D)         (None, 6, 6, 192)            245760    ['average_pooling2d_25[0][0]']\n",
      "                                                                                                  \n",
      " batch_normalization_264 (B  (None, 6, 6, 320)            960       ['conv2d_264[0][0]']          \n",
      " atchNormalization)                                                                               \n",
      "                                                                                                  \n",
      " activation_266 (Activation  (None, 6, 6, 384)            0         ['batch_normalization_266[0][0\n",
      " )                                                                  ]']                           \n",
      "                                                                                                  \n",
      " activation_267 (Activation  (None, 6, 6, 384)            0         ['batch_normalization_267[0][0\n",
      " )                                                                  ]']                           \n",
      "                                                                                                  \n",
      " activation_270 (Activation  (None, 6, 6, 384)            0         ['batch_normalization_270[0][0\n",
      " )                                                                  ]']                           \n",
      "                                                                                                  \n",
      " activation_271 (Activation  (None, 6, 6, 384)            0         ['batch_normalization_271[0][0\n",
      " )                                                                  ]']                           \n",
      "                                                                                                  \n",
      " batch_normalization_272 (B  (None, 6, 6, 192)            576       ['conv2d_272[0][0]']          \n",
      " atchNormalization)                                                                               \n",
      "                                                                                                  \n",
      " activation_264 (Activation  (None, 6, 6, 320)            0         ['batch_normalization_264[0][0\n",
      " )                                                                  ]']                           \n",
      "                                                                                                  \n",
      " mixed9_0 (Concatenate)      (None, 6, 6, 768)            0         ['activation_266[0][0]',      \n",
      "                                                                     'activation_267[0][0]']      \n",
      "                                                                                                  \n",
      " concatenate_4 (Concatenate  (None, 6, 6, 768)            0         ['activation_270[0][0]',      \n",
      " )                                                                   'activation_271[0][0]']      \n",
      "                                                                                                  \n",
      " activation_272 (Activation  (None, 6, 6, 192)            0         ['batch_normalization_272[0][0\n",
      " )                                                                  ]']                           \n",
      "                                                                                                  \n",
      " mixed9 (Concatenate)        (None, 6, 6, 2048)           0         ['activation_264[0][0]',      \n",
      "                                                                     'mixed9_0[0][0]',            \n",
      "                                                                     'concatenate_4[0][0]',       \n",
      "                                                                     'activation_272[0][0]']      \n",
      "                                                                                                  \n",
      " conv2d_277 (Conv2D)         (None, 6, 6, 448)            917504    ['mixed9[0][0]']              \n",
      "                                                                                                  \n",
      " batch_normalization_277 (B  (None, 6, 6, 448)            1344      ['conv2d_277[0][0]']          \n",
      " atchNormalization)                                                                               \n",
      "                                                                                                  \n",
      " activation_277 (Activation  (None, 6, 6, 448)            0         ['batch_normalization_277[0][0\n",
      " )                                                                  ]']                           \n",
      "                                                                                                  \n",
      " conv2d_274 (Conv2D)         (None, 6, 6, 384)            786432    ['mixed9[0][0]']              \n",
      "                                                                                                  \n",
      " conv2d_278 (Conv2D)         (None, 6, 6, 384)            1548288   ['activation_277[0][0]']      \n",
      "                                                                                                  \n",
      " batch_normalization_274 (B  (None, 6, 6, 384)            1152      ['conv2d_274[0][0]']          \n",
      " atchNormalization)                                                                               \n",
      "                                                                                                  \n",
      " batch_normalization_278 (B  (None, 6, 6, 384)            1152      ['conv2d_278[0][0]']          \n",
      " atchNormalization)                                                                               \n",
      "                                                                                                  \n",
      " activation_274 (Activation  (None, 6, 6, 384)            0         ['batch_normalization_274[0][0\n",
      " )                                                                  ]']                           \n",
      "                                                                                                  \n",
      " activation_278 (Activation  (None, 6, 6, 384)            0         ['batch_normalization_278[0][0\n",
      " )                                                                  ]']                           \n",
      "                                                                                                  \n",
      " conv2d_275 (Conv2D)         (None, 6, 6, 384)            442368    ['activation_274[0][0]']      \n",
      "                                                                                                  \n",
      " conv2d_276 (Conv2D)         (None, 6, 6, 384)            442368    ['activation_274[0][0]']      \n",
      "                                                                                                  \n",
      " conv2d_279 (Conv2D)         (None, 6, 6, 384)            442368    ['activation_278[0][0]']      \n",
      "                                                                                                  \n",
      " conv2d_280 (Conv2D)         (None, 6, 6, 384)            442368    ['activation_278[0][0]']      \n",
      "                                                                                                  \n",
      " average_pooling2d_26 (Aver  (None, 6, 6, 2048)           0         ['mixed9[0][0]']              \n",
      " agePooling2D)                                                                                    \n",
      "                                                                                                  \n",
      " conv2d_273 (Conv2D)         (None, 6, 6, 320)            655360    ['mixed9[0][0]']              \n",
      "                                                                                                  \n",
      " batch_normalization_275 (B  (None, 6, 6, 384)            1152      ['conv2d_275[0][0]']          \n",
      " atchNormalization)                                                                               \n",
      "                                                                                                  \n",
      " batch_normalization_276 (B  (None, 6, 6, 384)            1152      ['conv2d_276[0][0]']          \n",
      " atchNormalization)                                                                               \n",
      "                                                                                                  \n",
      " batch_normalization_279 (B  (None, 6, 6, 384)            1152      ['conv2d_279[0][0]']          \n",
      " atchNormalization)                                                                               \n",
      "                                                                                                  \n",
      " batch_normalization_280 (B  (None, 6, 6, 384)            1152      ['conv2d_280[0][0]']          \n",
      " atchNormalization)                                                                               \n",
      "                                                                                                  \n",
      " conv2d_281 (Conv2D)         (None, 6, 6, 192)            393216    ['average_pooling2d_26[0][0]']\n",
      "                                                                                                  \n",
      " batch_normalization_273 (B  (None, 6, 6, 320)            960       ['conv2d_273[0][0]']          \n",
      " atchNormalization)                                                                               \n",
      "                                                                                                  \n",
      " activation_275 (Activation  (None, 6, 6, 384)            0         ['batch_normalization_275[0][0\n",
      " )                                                                  ]']                           \n",
      "                                                                                                  \n",
      " activation_276 (Activation  (None, 6, 6, 384)            0         ['batch_normalization_276[0][0\n",
      " )                                                                  ]']                           \n",
      "                                                                                                  \n",
      " activation_279 (Activation  (None, 6, 6, 384)            0         ['batch_normalization_279[0][0\n",
      " )                                                                  ]']                           \n",
      "                                                                                                  \n",
      " activation_280 (Activation  (None, 6, 6, 384)            0         ['batch_normalization_280[0][0\n",
      " )                                                                  ]']                           \n",
      "                                                                                                  \n",
      " batch_normalization_281 (B  (None, 6, 6, 192)            576       ['conv2d_281[0][0]']          \n",
      " atchNormalization)                                                                               \n",
      "                                                                                                  \n",
      " activation_273 (Activation  (None, 6, 6, 320)            0         ['batch_normalization_273[0][0\n",
      " )                                                                  ]']                           \n",
      "                                                                                                  \n",
      " mixed9_1 (Concatenate)      (None, 6, 6, 768)            0         ['activation_275[0][0]',      \n",
      "                                                                     'activation_276[0][0]']      \n",
      "                                                                                                  \n",
      " concatenate_5 (Concatenate  (None, 6, 6, 768)            0         ['activation_279[0][0]',      \n",
      " )                                                                   'activation_280[0][0]']      \n",
      "                                                                                                  \n",
      " activation_281 (Activation  (None, 6, 6, 192)            0         ['batch_normalization_281[0][0\n",
      " )                                                                  ]']                           \n",
      "                                                                                                  \n",
      " mixed10 (Concatenate)       (None, 6, 6, 2048)           0         ['activation_273[0][0]',      \n",
      "                                                                     'mixed9_1[0][0]',            \n",
      "                                                                     'concatenate_5[0][0]',       \n",
      "                                                                     'activation_281[0][0]']      \n",
      "                                                                                                  \n",
      "==================================================================================================\n",
      "Total params: 21802784 (83.17 MB)\n",
      "Trainable params: 0 (0.00 Byte)\n",
      "Non-trainable params: 21802784 (83.17 MB)\n",
      "__________________________________________________________________________________________________\n"
     ]
    }
   ],
   "source": [
    "pre_trained_model.summary()"
   ]
  },
  {
   "cell_type": "code",
   "execution_count": 68,
   "metadata": {
    "colab": {
     "base_uri": "https://localhost:8080/"
    },
    "id": "fNl0t4IqKoxT",
    "outputId": "8d780f71-7151-42e4-dfeb-1273398810d9"
   },
   "outputs": [
    {
     "name": "stdout",
     "output_type": "stream",
     "text": [
      "Model: \"model_3\"\n",
      "_________________________________________________________________\n",
      " Layer (type)                Output Shape              Param #   \n",
      "=================================================================\n",
      " input_8 (InputLayer)        [(None, 256, 256, 3)]     0         \n",
      "                                                                 \n",
      " tf.math.truediv_3 (TFOpLam  (None, 256, 256, 3)       0         \n",
      " bda)                                                            \n",
      "                                                                 \n",
      " tf.math.subtract_3 (TFOpLa  (None, 256, 256, 3)       0         \n",
      " mbda)                                                           \n",
      "                                                                 \n",
      " inception_v3 (Functional)   (None, 6, 6, 2048)        21802784  \n",
      "                                                                 \n",
      " global_average_pooling2d_7  (None, 2048)              0         \n",
      "  (GlobalAveragePooling2D)                                       \n",
      "                                                                 \n",
      " dense_16 (Dense)            (None, 1024)              2098176   \n",
      "                                                                 \n",
      " dense_17 (Dense)            (None, 512)               524800    \n",
      "                                                                 \n",
      " dense_18 (Dense)            (None, 256)               131328    \n",
      "                                                                 \n",
      " dense_19 (Dense)            (None, 14)                3598      \n",
      "                                                                 \n",
      "=================================================================\n",
      "Total params: 24560686 (93.69 MB)\n",
      "Trainable params: 2757902 (10.52 MB)\n",
      "Non-trainable params: 21802784 (83.17 MB)\n",
      "_________________________________________________________________\n"
     ]
    }
   ],
   "source": [
    "# Build Model\n",
    "global_average_layer = tf.keras.layers.GlobalAveragePooling2D()\n",
    "prediction_layer = tf.keras.layers.Dense(1, activation='sigmoid')\n",
    "\n",
    "# Build Model\n",
    "inputs = tf.keras.Input(shape=IMG_SHAPE)\n",
    "x = inputs # data_augmentation(inputs)\n",
    "x = preprocess_input(x)\n",
    "x = pre_trained_model(x, training=False)\n",
    "x = tf.keras.layers.GlobalAveragePooling2D()(x)\n",
    "x = tf.keras.layers.Dense(1024, activation='relu')(x)\n",
    "x = tf.keras.layers.Dense(512, activation='relu')(x)\n",
    "x = tf.keras.layers.Dense(256, activation='relu')(x)\n",
    "outputs = tf.keras.layers.Dense(train_generator.num_classes, activation='softmax')(x)\n",
    "\n",
    "model = Model(inputs, outputs)\n",
    "\n",
    "model.summary()"
   ]
  },
  {
   "cell_type": "code",
   "execution_count": 69,
   "metadata": {
    "id": "J2aKD8cZK4Pe"
   },
   "outputs": [],
   "source": [
    "from tensorflow.keras.optimizers import Adam\n",
    "\n",
    "model.compile(optimizer = Adam(learning_rate=0.001),\n",
    "              loss = 'categorical_crossentropy',\n",
    "              metrics = ['accuracy'])"
   ]
  },
  {
   "cell_type": "code",
   "execution_count": 70,
   "metadata": {},
   "outputs": [
    {
     "name": "stdout",
     "output_type": "stream",
     "text": [
      "81/81 [==============================] - 82s 973ms/step - loss: 2.7251 - accuracy: 0.0692\n",
      "(2.725097894668579, 0.0691799446940422)\n"
     ]
    }
   ],
   "source": [
    "loss0, accuracy0 = model.evaluate(validation_generator)\n",
    "print((loss0, accuracy0))"
   ]
  },
  {
   "cell_type": "code",
   "execution_count": null,
   "metadata": {
    "colab": {
     "base_uri": "https://localhost:8080/"
    },
    "id": "En-iYpY6LIEs",
    "outputId": "cf7ca39e-713f-4d6c-c8ae-38a22ff0828d"
   },
   "outputs": [
    {
     "name": "stdout",
     "output_type": "stream",
     "text": [
      "Epoch 1/100\n",
      "321/321 [==============================] - 382s 1s/step - loss: 1.7480 - accuracy: 0.4312 - val_loss: 1.8031 - val_accuracy: 0.4116\n",
      "Epoch 2/100\n",
      "321/321 [==============================] - 406s 1s/step - loss: 1.6221 - accuracy: 0.4661 - val_loss: 1.9057 - val_accuracy: 0.3735\n",
      "Epoch 3/100\n",
      "321/321 [==============================] - 406s 1s/step - loss: 1.5104 - accuracy: 0.5056 - val_loss: 1.8068 - val_accuracy: 0.4260\n",
      "Epoch 4/100\n",
      "321/321 [==============================] - 390s 1s/step - loss: 1.3862 - accuracy: 0.5448 - val_loss: 1.7856 - val_accuracy: 0.4298\n",
      "Epoch 5/100\n",
      "321/321 [==============================] - 401s 1s/step - loss: 1.2830 - accuracy: 0.5837 - val_loss: 1.7323 - val_accuracy: 0.4567\n",
      "Epoch 6/100\n",
      "321/321 [==============================] - 383s 1s/step - loss: 1.1637 - accuracy: 0.6202 - val_loss: 1.9184 - val_accuracy: 0.4427\n",
      "Epoch 7/100\n",
      "321/321 [==============================] - 377s 1s/step - loss: 1.0569 - accuracy: 0.6514 - val_loss: 1.9278 - val_accuracy: 0.4489\n",
      "Epoch 8/100\n",
      "321/321 [==============================] - 377s 1s/step - loss: 0.9518 - accuracy: 0.6860 - val_loss: 1.9427 - val_accuracy: 0.4648\n",
      "Epoch 9/100\n",
      "321/321 [==============================] - 378s 1s/step - loss: 0.8432 - accuracy: 0.7175 - val_loss: 1.9670 - val_accuracy: 0.4695\n",
      "Epoch 10/100\n",
      "321/321 [==============================] - 388s 1s/step - loss: 0.7200 - accuracy: 0.7606 - val_loss: 2.0130 - val_accuracy: 0.4761\n",
      "Epoch 11/100\n",
      "321/321 [==============================] - 384s 1s/step - loss: 0.6485 - accuracy: 0.7847 - val_loss: 2.1656 - val_accuracy: 0.4710\n",
      "Epoch 12/100\n",
      "321/321 [==============================] - 383s 1s/step - loss: 0.5527 - accuracy: 0.8157 - val_loss: 2.2982 - val_accuracy: 0.4703\n",
      "Epoch 13/100\n",
      "321/321 [==============================] - 383s 1s/step - loss: 0.4674 - accuracy: 0.8429 - val_loss: 2.4542 - val_accuracy: 0.4703\n",
      "Epoch 14/100\n",
      "321/321 [==============================] - 377s 1s/step - loss: 0.4245 - accuracy: 0.8547 - val_loss: 2.5075 - val_accuracy: 0.4625\n",
      "Epoch 15/100\n",
      "321/321 [==============================] - 376s 1s/step - loss: 0.3422 - accuracy: 0.8879 - val_loss: 2.6860 - val_accuracy: 0.4819\n",
      "Epoch 16/100\n",
      "321/321 [==============================] - 373s 1s/step - loss: 0.2889 - accuracy: 0.9042 - val_loss: 2.8131 - val_accuracy: 0.4815\n",
      "Epoch 17/100\n",
      "321/321 [==============================] - 373s 1s/step - loss: 0.2835 - accuracy: 0.9013 - val_loss: 3.0791 - val_accuracy: 0.4897\n",
      "Epoch 18/100\n",
      "321/321 [==============================] - 373s 1s/step - loss: 0.2220 - accuracy: 0.9241 - val_loss: 3.2767 - val_accuracy: 0.4672\n",
      "Epoch 19/100\n",
      "321/321 [==============================] - 372s 1s/step - loss: 0.2159 - accuracy: 0.9258 - val_loss: 3.2638 - val_accuracy: 0.4668\n",
      "Epoch 20/100\n",
      "321/321 [==============================] - 376s 1s/step - loss: 0.1917 - accuracy: 0.9353 - val_loss: 3.4151 - val_accuracy: 0.4823\n",
      "Epoch 21/100\n",
      "321/321 [==============================] - 383s 1s/step - loss: 0.1909 - accuracy: 0.9360 - val_loss: 3.3343 - val_accuracy: 0.4699\n",
      "Epoch 22/100\n",
      "321/321 [==============================] - 379s 1s/step - loss: 0.2034 - accuracy: 0.9316 - val_loss: 3.3768 - val_accuracy: 0.4846\n",
      "Epoch 23/100\n",
      "321/321 [==============================] - 379s 1s/step - loss: 0.1829 - accuracy: 0.9372 - val_loss: 3.9486 - val_accuracy: 0.4606\n",
      "Epoch 24/100\n",
      "321/321 [==============================] - 377s 1s/step - loss: 0.1602 - accuracy: 0.9478 - val_loss: 3.7585 - val_accuracy: 0.4893\n",
      "Epoch 25/100\n",
      "321/321 [==============================] - 375s 1s/step - loss: 0.1079 - accuracy: 0.9631 - val_loss: 3.9833 - val_accuracy: 0.4815\n",
      "Epoch 26/100\n",
      "321/321 [==============================] - 373s 1s/step - loss: 0.1733 - accuracy: 0.9420 - val_loss: 3.9600 - val_accuracy: 0.4656\n",
      "Epoch 27/100\n",
      "321/321 [==============================] - 422s 1s/step - loss: 0.1117 - accuracy: 0.9621 - val_loss: 4.3093 - val_accuracy: 0.4555\n",
      "Epoch 28/100\n",
      "321/321 [==============================] - 442s 1s/step - loss: 0.1311 - accuracy: 0.9546 - val_loss: 4.1048 - val_accuracy: 0.4648\n",
      "Epoch 29/100\n",
      "321/321 [==============================] - 465s 1s/step - loss: 0.1862 - accuracy: 0.9409 - val_loss: 3.8699 - val_accuracy: 0.4784\n",
      "Epoch 30/100\n",
      " 34/321 [==>...........................] - ETA: 5:32 - loss: 0.1385 - accuracy: 0.9504"
     ]
    }
   ],
   "source": [
    "# Train the model.\n",
    "history = model.fit(\n",
    "            train_generator,\n",
    "            validation_data = validation_generator,\n",
    "            epochs = 100,\n",
    "            callbacks = [callbacks])"
   ]
  },
  {
   "cell_type": "code",
   "execution_count": 35,
   "metadata": {
    "colab": {
     "base_uri": "https://localhost:8080/",
     "height": 472
    },
    "id": "ykE3-zuCWODC",
    "outputId": "62f04186-b3aa-491b-96d6-795c08c5da20"
   },
   "outputs": [
    {
     "data": {
      "image/png": "[encoded data removed]",
      "text/plain": [
       "<Figure size 640x480 with 1 Axes>"
      ]
     },
     "metadata": {},
     "output_type": "display_data"
    },
    {
     "data": {
      "image/png": "[encoded data removed]",
      "text/plain": [
       "<Figure size 640x480 with 1 Axes>"
      ]
     },
     "metadata": {},
     "output_type": "display_data"
    }
   ],
   "source": [
    "def plot_hist(hist):\n",
    "    acc = history.history['accuracy']\n",
    "    val_acc = history.history['val_accuracy']\n",
    "    loss = history.history['loss']\n",
    "    val_loss = history.history['val_loss']\n",
    "\n",
    "    epochs = range(len(acc))\n",
    "\n",
    "    plt.plot(epochs, acc, 'bo', label='Training accuracy')\n",
    "    plt.plot(epochs, val_acc, 'b', label='Validation accuracy')\n",
    "    plt.title('Training and validation accuracy')\n",
    "    plt.legend()\n",
    "\n",
    "    plt.figure()\n",
    "\n",
    "    plt.plot(epochs, loss, 'bo', label='Training Loss')\n",
    "    plt.plot(epochs, val_loss, 'b', label='Validation Loss')\n",
    "    plt.title('Training and validation loss')\n",
    "    plt.legend()\n",
    "\n",
    "    plt.show()\n",
    "\n",
    "\n",
    "plot_hist(history)"
   ]
  },
  {
   "cell_type": "code",
   "execution_count": 36,
   "metadata": {},
   "outputs": [
    {
     "name": "stdout",
     "output_type": "stream",
     "text": [
      "0 input_3\n",
      "1 conv2d_188\n",
      "2 batch_normalization_188\n",
      "3 activation_188\n",
      "4 conv2d_189\n",
      "5 batch_normalization_189\n",
      "6 activation_189\n",
      "7 conv2d_190\n",
      "8 batch_normalization_190\n",
      "9 activation_190\n",
      "10 max_pooling2d_8\n",
      "11 conv2d_191\n",
      "12 batch_normalization_191\n",
      "13 activation_191\n",
      "14 conv2d_192\n",
      "15 batch_normalization_192\n",
      "16 activation_192\n",
      "17 max_pooling2d_9\n",
      "18 conv2d_196\n",
      "19 batch_normalization_196\n",
      "20 activation_196\n",
      "21 conv2d_194\n",
      "22 conv2d_197\n",
      "23 batch_normalization_194\n",
      "24 batch_normalization_197\n",
      "25 activation_194\n",
      "26 activation_197\n",
      "27 average_pooling2d_18\n",
      "28 conv2d_193\n",
      "29 conv2d_195\n",
      "30 conv2d_198\n",
      "31 conv2d_199\n",
      "32 batch_normalization_193\n",
      "33 batch_normalization_195\n",
      "34 batch_normalization_198\n",
      "35 batch_normalization_199\n",
      "36 activation_193\n",
      "37 activation_195\n",
      "38 activation_198\n",
      "39 activation_199\n",
      "40 mixed0\n",
      "41 conv2d_203\n",
      "42 batch_normalization_203\n",
      "43 activation_203\n",
      "44 conv2d_201\n",
      "45 conv2d_204\n",
      "46 batch_normalization_201\n",
      "47 batch_normalization_204\n",
      "48 activation_201\n",
      "49 activation_204\n",
      "50 average_pooling2d_19\n",
      "51 conv2d_200\n",
      "52 conv2d_202\n",
      "53 conv2d_205\n",
      "54 conv2d_206\n",
      "55 batch_normalization_200\n",
      "56 batch_normalization_202\n",
      "57 batch_normalization_205\n",
      "58 batch_normalization_206\n",
      "59 activation_200\n",
      "60 activation_202\n",
      "61 activation_205\n",
      "62 activation_206\n",
      "63 mixed1\n",
      "64 conv2d_210\n",
      "65 batch_normalization_210\n",
      "66 activation_210\n",
      "67 conv2d_208\n",
      "68 conv2d_211\n",
      "69 batch_normalization_208\n",
      "70 batch_normalization_211\n",
      "71 activation_208\n",
      "72 activation_211\n",
      "73 average_pooling2d_20\n",
      "74 conv2d_207\n",
      "75 conv2d_209\n",
      "76 conv2d_212\n",
      "77 conv2d_213\n",
      "78 batch_normalization_207\n",
      "79 batch_normalization_209\n",
      "80 batch_normalization_212\n",
      "81 batch_normalization_213\n",
      "82 activation_207\n",
      "83 activation_209\n",
      "84 activation_212\n",
      "85 activation_213\n",
      "86 mixed2\n",
      "87 conv2d_215\n",
      "88 batch_normalization_215\n",
      "89 activation_215\n",
      "90 conv2d_216\n",
      "91 batch_normalization_216\n",
      "92 activation_216\n",
      "93 conv2d_214\n",
      "94 conv2d_217\n",
      "95 batch_normalization_214\n",
      "96 batch_normalization_217\n",
      "97 activation_214\n",
      "98 activation_217\n",
      "99 max_pooling2d_10\n",
      "100 mixed3\n",
      "101 conv2d_222\n",
      "102 batch_normalization_222\n",
      "103 activation_222\n",
      "104 conv2d_223\n",
      "105 batch_normalization_223\n",
      "106 activation_223\n",
      "107 conv2d_219\n",
      "108 conv2d_224\n",
      "109 batch_normalization_219\n",
      "110 batch_normalization_224\n",
      "111 activation_219\n",
      "112 activation_224\n",
      "113 conv2d_220\n",
      "114 conv2d_225\n",
      "115 batch_normalization_220\n",
      "116 batch_normalization_225\n",
      "117 activation_220\n",
      "118 activation_225\n",
      "119 average_pooling2d_21\n",
      "120 conv2d_218\n",
      "121 conv2d_221\n",
      "122 conv2d_226\n",
      "123 conv2d_227\n",
      "124 batch_normalization_218\n",
      "125 batch_normalization_221\n",
      "126 batch_normalization_226\n",
      "127 batch_normalization_227\n",
      "128 activation_218\n",
      "129 activation_221\n",
      "130 activation_226\n",
      "131 activation_227\n",
      "132 mixed4\n",
      "133 conv2d_232\n",
      "134 batch_normalization_232\n",
      "135 activation_232\n",
      "136 conv2d_233\n",
      "137 batch_normalization_233\n",
      "138 activation_233\n",
      "139 conv2d_229\n",
      "140 conv2d_234\n",
      "141 batch_normalization_229\n",
      "142 batch_normalization_234\n",
      "143 activation_229\n",
      "144 activation_234\n",
      "145 conv2d_230\n",
      "146 conv2d_235\n",
      "147 batch_normalization_230\n",
      "148 batch_normalization_235\n",
      "149 activation_230\n",
      "150 activation_235\n",
      "151 average_pooling2d_22\n",
      "152 conv2d_228\n",
      "153 conv2d_231\n",
      "154 conv2d_236\n",
      "155 conv2d_237\n",
      "156 batch_normalization_228\n",
      "157 batch_normalization_231\n",
      "158 batch_normalization_236\n",
      "159 batch_normalization_237\n",
      "160 activation_228\n",
      "161 activation_231\n",
      "162 activation_236\n",
      "163 activation_237\n",
      "164 mixed5\n",
      "165 conv2d_242\n",
      "166 batch_normalization_242\n",
      "167 activation_242\n",
      "168 conv2d_243\n",
      "169 batch_normalization_243\n",
      "170 activation_243\n",
      "171 conv2d_239\n",
      "172 conv2d_244\n",
      "173 batch_normalization_239\n",
      "174 batch_normalization_244\n",
      "175 activation_239\n",
      "176 activation_244\n",
      "177 conv2d_240\n",
      "178 conv2d_245\n",
      "179 batch_normalization_240\n",
      "180 batch_normalization_245\n",
      "181 activation_240\n",
      "182 activation_245\n",
      "183 average_pooling2d_23\n",
      "184 conv2d_238\n",
      "185 conv2d_241\n",
      "186 conv2d_246\n",
      "187 conv2d_247\n",
      "188 batch_normalization_238\n",
      "189 batch_normalization_241\n",
      "190 batch_normalization_246\n",
      "191 batch_normalization_247\n",
      "192 activation_238\n",
      "193 activation_241\n",
      "194 activation_246\n",
      "195 activation_247\n",
      "196 mixed6\n",
      "197 conv2d_252\n",
      "198 batch_normalization_252\n",
      "199 activation_252\n",
      "200 conv2d_253\n",
      "201 batch_normalization_253\n",
      "202 activation_253\n",
      "203 conv2d_249\n",
      "204 conv2d_254\n",
      "205 batch_normalization_249\n",
      "206 batch_normalization_254\n",
      "207 activation_249\n",
      "208 activation_254\n",
      "209 conv2d_250\n",
      "210 conv2d_255\n",
      "211 batch_normalization_250\n",
      "212 batch_normalization_255\n",
      "213 activation_250\n",
      "214 activation_255\n",
      "215 average_pooling2d_24\n",
      "216 conv2d_248\n",
      "217 conv2d_251\n",
      "218 conv2d_256\n",
      "219 conv2d_257\n",
      "220 batch_normalization_248\n",
      "221 batch_normalization_251\n",
      "222 batch_normalization_256\n",
      "223 batch_normalization_257\n",
      "224 activation_248\n",
      "225 activation_251\n",
      "226 activation_256\n",
      "227 activation_257\n",
      "228 mixed7\n",
      "229 flatten_1\n",
      "230 dropout_2\n",
      "231 dense_4\n",
      "232 dense_5\n",
      "233 dense_6\n",
      "234 dropout_3\n",
      "235 dense_7\n"
     ]
    }
   ],
   "source": [
    "for i, layer in enumerate(model.layers):\n",
    "   print(i, layer.name)"
   ]
  },
  {
   "cell_type": "code",
   "execution_count": 37,
   "metadata": {},
   "outputs": [
    {
     "name": "stdout",
     "output_type": "stream",
     "text": [
      "Epoch 1/7\n",
      "321/321 [==============================] - 856s 3s/step - loss: 1.1824 - accuracy: 0.6110 - val_loss: 1.4705 - val_accuracy: 0.5523\n",
      "Epoch 2/7\n",
      "321/321 [==============================] - 759s 2s/step - loss: 1.0539 - accuracy: 0.6555 - val_loss: 1.4494 - val_accuracy: 0.5554\n",
      "Epoch 3/7\n",
      "321/321 [==============================] - 739s 2s/step - loss: 1.0028 - accuracy: 0.6715 - val_loss: 1.4462 - val_accuracy: 0.5624\n",
      "Epoch 4/7\n",
      "321/321 [==============================] - 754s 2s/step - loss: 0.9832 - accuracy: 0.6773 - val_loss: 1.4433 - val_accuracy: 0.5600\n",
      "Epoch 5/7\n",
      "321/321 [==============================] - 776s 2s/step - loss: 0.9768 - accuracy: 0.6801 - val_loss: 1.4509 - val_accuracy: 0.5608\n",
      "Epoch 6/7\n",
      "321/321 [==============================] - 799s 2s/step - loss: 0.9660 - accuracy: 0.6797 - val_loss: 1.4399 - val_accuracy: 0.5659\n",
      "Epoch 7/7\n",
      "321/321 [==============================] - 830s 3s/step - loss: 0.9475 - accuracy: 0.6851 - val_loss: 1.4278 - val_accuracy: 0.5651\n"
     ]
    },
    {
     "data": {
      "image/png": "[encoded data removed]",
      "text/plain": [
       "<Figure size 640x480 with 1 Axes>"
      ]
     },
     "metadata": {},
     "output_type": "display_data"
    },
    {
     "data": {
      "image/png": "[encoded data removed]",
      "text/plain": [
       "<Figure size 640x480 with 1 Axes>"
      ]
     },
     "metadata": {},
     "output_type": "display_data"
    }
   ],
   "source": [
    "def unfreeze_model(model):\n",
    "    # we chose to train the top 2 inception blocks, i.e. we will freeze\n",
    "    # the first 249 layers and unfreeze the rest:\n",
    "    for layer in model.layers[:197]:\n",
    "       layer.trainable = False\n",
    "    for layer in model.layers[197:]:\n",
    "       layer.trainable = True\n",
    "\n",
    "    optimizer = keras.optimizers.SGD(learning_rate=0.0001, momentum=0.9)\n",
    "    model.compile(\n",
    "        optimizer=optimizer, loss=keras.losses.CategoricalCrossentropy(from_logits=True), metrics=[\"accuracy\"]\n",
    "    )\n",
    "\n",
    "\n",
    "unfreeze_model(model)\n",
    "\n",
    "epochs = 7  # @param {type: \"slider\", min:4, max:10}\n",
    "hist = model.fit(train_generator, epochs=epochs, validation_data=validation_generator)\n",
    "plot_hist(hist)"
   ]
  },
  {
   "cell_type": "markdown",
   "metadata": {
    "id": "o5h_QH-5wo_2"
   },
   "source": [
    "### **SAVE MODEL**"
   ]
  },
  {
   "cell_type": "code",
   "execution_count": 19,
   "metadata": {},
   "outputs": [
    {
     "name": "stderr",
     "output_type": "stream",
     "text": [
      "WARNING:absl:Found untraced functions such as _jit_compiled_convolution_op, _jit_compiled_convolution_op, _jit_compiled_convolution_op, _jit_compiled_convolution_op, _jit_compiled_convolution_op while saving (showing 5 of 70). These functions will not be directly callable after loading.\n"
     ]
    },
    {
     "name": "stdout",
     "output_type": "stream",
     "text": [
      "INFO:tensorflow:Assets written to: model.bin\\assets\n"
     ]
    },
    {
     "name": "stderr",
     "output_type": "stream",
     "text": [
      "INFO:tensorflow:Assets written to: model.bin\\assets\n",
      "WARNING:absl:Found untraced functions such as _jit_compiled_convolution_op, _jit_compiled_convolution_op, _jit_compiled_convolution_op, _jit_compiled_convolution_op, _jit_compiled_convolution_op while saving (showing 5 of 70). These functions will not be directly callable after loading.\n"
     ]
    },
    {
     "name": "stdout",
     "output_type": "stream",
     "text": [
      "INFO:tensorflow:Assets written to: model.json\\assets\n"
     ]
    },
    {
     "name": "stderr",
     "output_type": "stream",
     "text": [
      "INFO:tensorflow:Assets written to: model.json\\assets\n"
     ]
    },
    {
     "ename": "NameError",
     "evalue": "name 'files' is not defined",
     "output_type": "error",
     "traceback": [
      "\u001b[1;31m---------------------------------------------------------------------------\u001b[0m",
      "\u001b[1;31mNameError\u001b[0m                                 Traceback (most recent call last)",
      "Cell \u001b[1;32mIn[19], line 6\u001b[0m\n\u001b[0;32m      3\u001b[0m model\u001b[38;5;241m.\u001b[39msave(\u001b[38;5;124m\"\u001b[39m\u001b[38;5;124mmodel.json\u001b[39m\u001b[38;5;124m\"\u001b[39m)  \n\u001b[0;32m      5\u001b[0m \u001b[38;5;66;03m# Download the files\u001b[39;00m\n\u001b[1;32m----> 6\u001b[0m \u001b[43mfiles\u001b[49m\u001b[38;5;241m.\u001b[39mdownload(\u001b[38;5;124m\"\u001b[39m\u001b[38;5;124mmodel.bin\u001b[39m\u001b[38;5;124m\"\u001b[39m)\n\u001b[0;32m      7\u001b[0m files\u001b[38;5;241m.\u001b[39mdownload(\u001b[38;5;124m\"\u001b[39m\u001b[38;5;124mmodel.json\u001b[39m\u001b[38;5;124m\"\u001b[39m)\n",
      "\u001b[1;31mNameError\u001b[0m: name 'files' is not defined"
     ]
    }
   ],
   "source": [
    "# Save the model as .bin and .json\n",
    "model.save(\"model.bin\") \n",
    "model.save(\"model.json\")"
   ]
  },
  {
   "cell_type": "code",
   "execution_count": 20,
   "metadata": {},
   "outputs": [
    {
     "name": "stderr",
     "output_type": "stream",
     "text": [
      "WARNING:absl:Found untraced functions such as _jit_compiled_convolution_op, _jit_compiled_convolution_op, _jit_compiled_convolution_op, _jit_compiled_convolution_op, _jit_compiled_convolution_op while saving (showing 5 of 70). These functions will not be directly callable after loading.\n"
     ]
    },
    {
     "name": "stdout",
     "output_type": "stream",
     "text": [
      "INFO:tensorflow:Assets written to: model2.bin\\assets\n"
     ]
    },
    {
     "name": "stderr",
     "output_type": "stream",
     "text": [
      "INFO:tensorflow:Assets written to: model2.bin\\assets\n",
      "WARNING:absl:Found untraced functions such as _jit_compiled_convolution_op, _jit_compiled_convolution_op, _jit_compiled_convolution_op, _jit_compiled_convolution_op, _jit_compiled_convolution_op while saving (showing 5 of 70). These functions will not be directly callable after loading.\n"
     ]
    },
    {
     "name": "stdout",
     "output_type": "stream",
     "text": [
      "INFO:tensorflow:Assets written to: model2.json\\assets\n"
     ]
    },
    {
     "name": "stderr",
     "output_type": "stream",
     "text": [
      "INFO:tensorflow:Assets written to: model2.json\\assets\n"
     ]
    },
    {
     "ename": "ValueError",
     "evalue": "Cannot display a directory using FileLink. Use FileLinks to display 'model2.bin'.",
     "output_type": "error",
     "traceback": [
      "\u001b[1;31m---------------------------------------------------------------------------\u001b[0m",
      "\u001b[1;31mValueError\u001b[0m                                Traceback (most recent call last)",
      "Cell \u001b[1;32mIn[20], line 7\u001b[0m\n\u001b[0;32m      5\u001b[0m \u001b[38;5;66;03m# Download the files\u001b[39;00m\n\u001b[0;32m      6\u001b[0m \u001b[38;5;28;01mfrom\u001b[39;00m \u001b[38;5;21;01mIPython\u001b[39;00m\u001b[38;5;21;01m.\u001b[39;00m\u001b[38;5;21;01mdisplay\u001b[39;00m \u001b[38;5;28;01mimport\u001b[39;00m FileLink\n\u001b[1;32m----> 7\u001b[0m \u001b[43mFileLink\u001b[49m\u001b[43m(\u001b[49m\u001b[38;5;124;43mr\u001b[39;49m\u001b[38;5;124;43m'\u001b[39;49m\u001b[38;5;124;43mmodel2.bin\u001b[39;49m\u001b[38;5;124;43m'\u001b[39;49m\u001b[43m)\u001b[49m\n\u001b[0;32m      8\u001b[0m FileLink(\u001b[38;5;124mr\u001b[39m\u001b[38;5;124m'\u001b[39m\u001b[38;5;124mmodel2.json\u001b[39m\u001b[38;5;124m'\u001b[39m)\n",
      "File \u001b[1;32mc:\\users\\clara carissa\\appdata\\local\\programs\\python\\python39\\lib\\site-packages\\IPython\\lib\\display.py:407\u001b[0m, in \u001b[0;36mFileLink.__init__\u001b[1;34m(self, path, url_prefix, result_html_prefix, result_html_suffix)\u001b[0m\n\u001b[0;32m    393\u001b[0m \u001b[38;5;250m\u001b[39m\u001b[38;5;124;03m\"\"\"\u001b[39;00m\n\u001b[0;32m    394\u001b[0m \u001b[38;5;124;03mParameters\u001b[39;00m\n\u001b[0;32m    395\u001b[0m \u001b[38;5;124;03m----------\u001b[39;00m\n\u001b[1;32m   (...)\u001b[0m\n\u001b[0;32m    404\u001b[0m \u001b[38;5;124;03m    text to append at the end of link [default: '<br>']\u001b[39;00m\n\u001b[0;32m    405\u001b[0m \u001b[38;5;124;03m\"\"\"\u001b[39;00m\n\u001b[0;32m    406\u001b[0m \u001b[38;5;28;01mif\u001b[39;00m isdir(path):\n\u001b[1;32m--> 407\u001b[0m     \u001b[38;5;28;01mraise\u001b[39;00m \u001b[38;5;167;01mValueError\u001b[39;00m(\u001b[38;5;124m\"\u001b[39m\u001b[38;5;124mCannot display a directory using FileLink. \u001b[39m\u001b[38;5;124m\"\u001b[39m\n\u001b[0;32m    408\u001b[0m       \u001b[38;5;124m\"\u001b[39m\u001b[38;5;124mUse FileLinks to display \u001b[39m\u001b[38;5;124m'\u001b[39m\u001b[38;5;132;01m%s\u001b[39;00m\u001b[38;5;124m'\u001b[39m\u001b[38;5;124m.\u001b[39m\u001b[38;5;124m\"\u001b[39m \u001b[38;5;241m%\u001b[39m path)\n\u001b[0;32m    409\u001b[0m \u001b[38;5;28mself\u001b[39m\u001b[38;5;241m.\u001b[39mpath \u001b[38;5;241m=\u001b[39m fsdecode(path)\n\u001b[0;32m    410\u001b[0m \u001b[38;5;28mself\u001b[39m\u001b[38;5;241m.\u001b[39murl_prefix \u001b[38;5;241m=\u001b[39m url_prefix\n",
      "\u001b[1;31mValueError\u001b[0m: Cannot display a directory using FileLink. Use FileLinks to display 'model2.bin'."
     ]
    }
   ],
   "source": [
    "# Save the model as .bin and .json\n",
    "model.save(\"model2.bin\") \n",
    "model.save(\"model2.json\")  \n",
    "\n",
    "# Download the files\n",
    "from IPython.display import FileLink\n",
    "FileLink(r'model2.bin')\n",
    "FileLink(r'model2.json')"
   ]
  },
  {
   "cell_type": "code",
   "execution_count": 22,
   "metadata": {},
   "outputs": [
    {
     "name": "stdout",
     "output_type": "stream",
     "text": [
      "Requirement already satisfied: h5_to_json in c:\\users\\clara carissa\\appdata\\local\\programs\\python\\python39\\lib\\site-packages (0.1.5)"
     ]
    },
    {
     "name": "stderr",
     "output_type": "stream",
     "text": [
      "WARNING: Ignoring invalid distribution -rotobuf (c:\\users\\clara carissa\\appdata\\local\\programs\\python\\python39\\lib\\site-packages)\n",
      "WARNING: Ignoring invalid distribution -rotobuf (c:\\users\\clara carissa\\appdata\\local\\programs\\python\\python39\\lib\\site-packages)\n"
     ]
    },
    {
     "name": "stdout",
     "output_type": "stream",
     "text": [
      "\n"
     ]
    }
   ],
   "source": [
    "!pip install h5_to_json"
   ]
  },
  {
   "cell_type": "code",
   "execution_count": 23,
   "metadata": {},
   "outputs": [
    {
     "ename": "ImportError",
     "evalue": "cannot import name 'convert_h5_to_json' from 'h5_to_json' (c:\\users\\clara carissa\\appdata\\local\\programs\\python\\python39\\lib\\site-packages\\h5_to_json\\__init__.py)",
     "output_type": "error",
     "traceback": [
      "\u001b[1;31m---------------------------------------------------------------------------\u001b[0m",
      "\u001b[1;31mImportError\u001b[0m                               Traceback (most recent call last)",
      "Cell \u001b[1;32mIn[23], line 1\u001b[0m\n\u001b[1;32m----> 1\u001b[0m \u001b[38;5;28;01mfrom\u001b[39;00m \u001b[38;5;21;01mh5_to_json\u001b[39;00m \u001b[38;5;28;01mimport\u001b[39;00m convert_h5_to_json\n\u001b[0;32m      3\u001b[0m convert_h5_to_json(\u001b[38;5;124m\"\u001b[39m\u001b[38;5;124mmodel3.h5\u001b[39m\u001b[38;5;124m\"\u001b[39m, \u001b[38;5;124m\"\u001b[39m\u001b[38;5;124mmodel3.json\u001b[39m\u001b[38;5;124m\"\u001b[39m, data_dir\u001b[38;5;241m=\u001b[39m\u001b[38;5;124m\"\u001b[39m\u001b[38;5;124mweights\u001b[39m\u001b[38;5;124m\"\u001b[39m)\n\u001b[0;32m      5\u001b[0m \u001b[38;5;66;03m# data_dir (optional): Directory to save extracted binary data (weights).\u001b[39;00m\n",
      "\u001b[1;31mImportError\u001b[0m: cannot import name 'convert_h5_to_json' from 'h5_to_json' (c:\\users\\clara carissa\\appdata\\local\\programs\\python\\python39\\lib\\site-packages\\h5_to_json\\__init__.py)"
     ]
    }
   ],
   "source": [
    "from h5_to_json import convert_h5_to_json\n",
    "\n",
    "convert_h5_to_json(\"model3.h5\", \"model3.json\", data_dir=\"weights\")\n",
    "\n",
    "# data_dir (optional): Directory to save extracted binary data (weights)."
   ]
  },
  {
   "cell_type": "code",
   "execution_count": 30,
   "metadata": {},
   "outputs": [],
   "source": [
    "import torch"
   ]
  },
  {
   "cell_type": "code",
   "execution_count": 31,
   "metadata": {},
   "outputs": [
    {
     "ename": "AttributeError",
     "evalue": "'Functional' object has no attribute 'state_dict'",
     "output_type": "error",
     "traceback": [
      "\u001b[1;31m---------------------------------------------------------------------------\u001b[0m",
      "\u001b[1;31mAttributeError\u001b[0m                            Traceback (most recent call last)",
      "Cell \u001b[1;32mIn[31], line 1\u001b[0m\n\u001b[1;32m----> 1\u001b[0m torch\u001b[38;5;241m.\u001b[39msave(\u001b[43mmodel\u001b[49m\u001b[38;5;241;43m.\u001b[39;49m\u001b[43mstate_dict\u001b[49m(), \u001b[38;5;124m\"\u001b[39m\u001b[38;5;124mweights2.bin\u001b[39m\u001b[38;5;124m\"\u001b[39m)\n",
      "\u001b[1;31mAttributeError\u001b[0m: 'Functional' object has no attribute 'state_dict'"
     ]
    }
   ],
   "source": [
    "torch.save(model.state_dict(), \"weights2.bin\")"
   ]
  },
  {
   "cell_type": "code",
   "execution_count": 32,
   "metadata": {},
   "outputs": [
    {
     "name": "stderr",
     "output_type": "stream",
     "text": [
      "WARNING:absl:Found untraced functions such as _jit_compiled_convolution_op, _jit_compiled_convolution_op, _jit_compiled_convolution_op, _jit_compiled_convolution_op, _jit_compiled_convolution_op while saving (showing 5 of 70). These functions will not be directly callable after loading.\n"
     ]
    },
    {
     "name": "stdout",
     "output_type": "stream",
     "text": [
      "INFO:tensorflow:Assets written to: ram://c5d7727c-92b6-41a7-8133-f7eba370853a/assets\n"
     ]
    },
    {
     "name": "stderr",
     "output_type": "stream",
     "text": [
      "INFO:tensorflow:Assets written to: ram://c5d7727c-92b6-41a7-8133-f7eba370853a/assets\n"
     ]
    }
   ],
   "source": [
    "torch.save(model, 'saved_weights2.bin')"
   ]
  },
  {
   "cell_type": "code",
   "execution_count": 41,
   "metadata": {},
   "outputs": [
    {
     "name": "stdout",
     "output_type": "stream",
     "text": [
      "Saved model .......\n"
     ]
    }
   ],
   "source": [
    "model_json = model.to_json()\n",
    "with open(\"model4.json\", \"w\") as json_file:\n",
    "    json_file.write(model_json)\n",
    "# model.save_weights(\"model3.bin\")\n",
    "print(\"Saved model .......\")"
   ]
  },
  {
   "cell_type": "code",
   "execution_count": 38,
   "metadata": {},
   "outputs": [],
   "source": [
    "model.save(\"model4.h5\")"
   ]
  },
  {
   "cell_type": "code",
   "execution_count": 40,
   "metadata": {},
   "outputs": [
    {
     "name": "stderr",
     "output_type": "stream",
     "text": [
      "WARNING:tensorflow:From C:\\Users\\Clara Carissa\\AppData\\Local\\Programs\\Python\\Python39\\lib\\site-packages\\keras\\src\\losses.py:2976: The name tf.losses.sparse_softmax_cross_entropy is deprecated. Please use tf.compat.v1.losses.sparse_softmax_cross_entropy instead.\n",
      "\n",
      "WARNING:root:Failure to load the inference.so custom c++ tensorflow ops. This error is likely caused the version of TensorFlow and TensorFlow Decision Forests are not compatible. Full error:C:\\Users\\Clara Carissa\\AppData\\Local\\Programs\\Python\\Python39\\lib\\site-packages\\tensorflow_decision_forests\\tensorflow\\ops\\inference\\inference.so not found\n",
      "Traceback (most recent call last):\n",
      "  File \"C:\\Users\\Clara Carissa\\AppData\\Local\\Programs\\Python\\Python39\\lib\\runpy.py\", line 197, in _run_module_as_main\n",
      "    return _run_code(code, main_globals, None,\n",
      "  File \"C:\\Users\\Clara Carissa\\AppData\\Local\\Programs\\Python\\Python39\\lib\\runpy.py\", line 87, in _run_code\n",
      "    exec(code, run_globals)\n",
      "  File \"C:\\Users\\Clara Carissa\\AppData\\Local\\Programs\\Python\\Python39\\Scripts\\tensorflowjs_converter.exe\\__main__.py\", line 4, in <module>\n",
      "  File \"C:\\Users\\Clara Carissa\\AppData\\Local\\Programs\\Python\\Python39\\lib\\site-packages\\tensorflowjs\\__init__.py\", line 21, in <module>\n",
      "    from tensorflowjs import converters\n",
      "  File \"C:\\Users\\Clara Carissa\\AppData\\Local\\Programs\\Python\\Python39\\lib\\site-packages\\tensorflowjs\\converters\\__init__.py\", line 21, in <module>\n",
      "    from tensorflowjs.converters.converter import convert\n",
      "  File \"C:\\Users\\Clara Carissa\\AppData\\Local\\Programs\\Python\\Python39\\lib\\site-packages\\tensorflowjs\\converters\\converter.py\", line 38, in <module>\n",
      "    from tensorflowjs.converters import tf_saved_model_conversion_v2\n",
      "  File \"C:\\Users\\Clara Carissa\\AppData\\Local\\Programs\\Python\\Python39\\lib\\site-packages\\tensorflowjs\\converters\\tf_saved_model_conversion_v2.py\", line 28, in <module>\n",
      "    import tensorflow_decision_forests\n",
      "  File \"C:\\Users\\Clara Carissa\\AppData\\Local\\Programs\\Python\\Python39\\lib\\site-packages\\tensorflow_decision_forests\\__init__.py\", line 64, in <module>\n",
      "    from tensorflow_decision_forests import keras\n",
      "  File \"C:\\Users\\Clara Carissa\\AppData\\Local\\Programs\\Python\\Python39\\lib\\site-packages\\tensorflow_decision_forests\\keras\\__init__.py\", line 53, in <module>\n",
      "    from tensorflow_decision_forests.keras import core\n",
      "  File \"C:\\Users\\Clara Carissa\\AppData\\Local\\Programs\\Python\\Python39\\lib\\site-packages\\tensorflow_decision_forests\\keras\\core.py\", line 62, in <module>\n",
      "    from tensorflow_decision_forests.keras import core_inference\n",
      "  File \"C:\\Users\\Clara Carissa\\AppData\\Local\\Programs\\Python\\Python39\\lib\\site-packages\\tensorflow_decision_forests\\keras\\core_inference.py\", line 36, in <module>\n",
      "    from tensorflow_decision_forests.tensorflow.ops.inference import api as tf_op\n",
      "  File \"C:\\Users\\Clara Carissa\\AppData\\Local\\Programs\\Python\\Python39\\lib\\site-packages\\tensorflow_decision_forests\\tensorflow\\ops\\inference\\api.py\", line 179, in <module>\n",
      "    from tensorflow_decision_forests.tensorflow.ops.inference import op\n",
      "  File \"C:\\Users\\Clara Carissa\\AppData\\Local\\Programs\\Python\\Python39\\lib\\site-packages\\tensorflow_decision_forests\\tensorflow\\ops\\inference\\op.py\", line 15, in <module>\n",
      "    from tensorflow_decision_forests.tensorflow.ops.inference.op_dynamic import *\n",
      "  File \"C:\\Users\\Clara Carissa\\AppData\\Local\\Programs\\Python\\Python39\\lib\\site-packages\\tensorflow_decision_forests\\tensorflow\\ops\\inference\\op_dynamic.py\", line 24, in <module>\n",
      "    raise e\n",
      "  File \"C:\\Users\\Clara Carissa\\AppData\\Local\\Programs\\Python\\Python39\\lib\\site-packages\\tensorflow_decision_forests\\tensorflow\\ops\\inference\\op_dynamic.py\", line 21, in <module>\n",
      "    ops = tf.load_op_library(resource_loader.get_path_to_datafile(\"inference.so\"))\n",
      "  File \"C:\\Users\\Clara Carissa\\AppData\\Local\\Programs\\Python\\Python39\\lib\\site-packages\\tensorflow\\python\\framework\\load_library.py\", line 54, in load_op_library\n",
      "    lib_handle = py_tf.TF_LoadLibrary(library_filename)\n",
      "tensorflow.python.framework.errors_impl.NotFoundError: C:\\Users\\Clara Carissa\\AppData\\Local\\Programs\\Python\\Python39\\lib\\site-packages\\tensorflow_decision_forests\\tensorflow\\ops\\inference\\inference.so not found\n"
     ]
    }
   ],
   "source": [
    "!tensorflowjs_converter --input_format=keras model4.h5 model4.json"
   ]
  },
  {
   "cell_type": "code",
   "execution_count": null,
   "metadata": {
    "colab": {
     "base_uri": "https://localhost:8080/"
    },
    "id": "0HdkhxVnXWW_",
    "outputId": "3291ff42-4db2-4856-ed80-519b695f81ac"
   },
   "outputs": [
    {
     "name": "stderr",
     "output_type": "stream",
     "text": [
      "/usr/local/lib/python3.10/dist-packages/keras/src/engine/training.py:3103: UserWarning: You are saving your model as an HDF5 file via `model.save()`. This file format is considered legacy. We recommend using instead the native Keras format, e.g. `model.save('my_model.keras')`.\n",
      "  saving_api.save_model(\n"
     ]
    }
   ],
   "source": [
    "model_save_path = \"./tmp/dummymodel.h5\"\n",
    "modelin.save(model_save_path)"
   ]
  },
  {
   "cell_type": "code",
   "execution_count": null,
   "metadata": {
    "colab": {
     "base_uri": "https://localhost:8080/",
     "height": 34
    },
    "id": "tjuVM8YTUjEu",
    "outputId": "54b9c369-639c-4ef4-b48e-803397b136d4"
   },
   "outputs": [
    {
     "data": {
      "application/javascript": "\n    async function download(id, filename, size) {\n      if (!google.colab.kernel.accessAllowed) {\n        return;\n      }\n      const div = document.createElement('div');\n      const label = document.createElement('label');\n      label.textContent = `Downloading \"${filename}\": `;\n      div.appendChild(label);\n      const progress = document.createElement('progress');\n      progress.max = size;\n      div.appendChild(progress);\n      document.body.appendChild(div);\n\n      const buffers = [];\n      let downloaded = 0;\n\n      const channel = await google.colab.kernel.comms.open(id);\n      // Send a message to notify the kernel that we're ready.\n      channel.send({})\n\n      for await (const message of channel.messages) {\n        // Send a message to notify the kernel that we're ready.\n        channel.send({})\n        if (message.buffers) {\n          for (const buffer of message.buffers) {\n            buffers.push(buffer);\n            downloaded += buffer.byteLength;\n            progress.value = downloaded;\n          }\n        }\n      }\n      const blob = new Blob(buffers, {type: 'application/binary'});\n      const a = document.createElement('a');\n      a.href = window.URL.createObjectURL(blob);\n      a.download = filename;\n      div.appendChild(a);\n      a.click();\n      div.remove();\n    }\n  ",
      "text/plain": [
       "<IPython.core.display.Javascript object>"
      ]
     },
     "metadata": {},
     "output_type": "display_data"
    },
    {
     "data": {
      "application/javascript": "download(\"download_a9e659fe-3a69-40e3-a187-01c122ba6392\", \"dummymodel.h5\", 116287840)",
      "text/plain": [
       "<IPython.core.display.Javascript object>"
      ]
     },
     "metadata": {},
     "output_type": "display_data"
    }
   ],
   "source": [
    "files.download('/content/tmp/dummymodel.h5')"
   ]
  },
  {
   "cell_type": "code",
   "execution_count": null,
   "metadata": {
    "colab": {
     "base_uri": "https://localhost:8080/"
    },
    "id": "Tta_OpRDTx7b",
    "outputId": "bc6a6bc9-40aa-42fd-dc05-9bab0ab7a2b3"
   },
   "outputs": [
    {
     "name": "stdout",
     "output_type": "stream",
     "text": [
      "Requirement already satisfied: tensorflowjs in /usr/local/lib/python3.10/dist-packages (4.19.0)\n",
      "Requirement already satisfied: flax>=0.7.2 in /usr/local/lib/python3.10/dist-packages (from tensorflowjs) (0.8.3)\n",
      "Requirement already satisfied: importlib_resources>=5.9.0 in /usr/local/lib/python3.10/dist-packages (from tensorflowjs) (6.4.0)\n",
      "Requirement already satisfied: jax>=0.4.13 in /usr/local/lib/python3.10/dist-packages (from tensorflowjs) (0.4.26)\n",
      "Requirement already satisfied: jaxlib>=0.4.13 in /usr/local/lib/python3.10/dist-packages (from tensorflowjs) (0.4.26+cuda12.cudnn89)\n",
      "Requirement already satisfied: tensorflow<3,>=2.13.0 in /usr/local/lib/python3.10/dist-packages (from tensorflowjs) (2.16.1)\n",
      "Requirement already satisfied: tf-keras>=2.13.0 in /usr/local/lib/python3.10/dist-packages (from tensorflowjs) (2.16.0)\n",
      "Requirement already satisfied: tensorflow-decision-forests>=1.5.0 in /usr/local/lib/python3.10/dist-packages (from tensorflowjs) (1.9.1)\n",
      "Requirement already satisfied: six<2,>=1.16.0 in /usr/local/lib/python3.10/dist-packages (from tensorflowjs) (1.16.0)\n",
      "Requirement already satisfied: tensorflow-hub>=0.16.1 in /usr/local/lib/python3.10/dist-packages (from tensorflowjs) (0.16.1)\n",
      "Requirement already satisfied: packaging~=23.1 in /usr/local/lib/python3.10/dist-packages (from tensorflowjs) (23.2)\n",
      "Requirement already satisfied: numpy>=1.22 in /usr/local/lib/python3.10/dist-packages (from flax>=0.7.2->tensorflowjs) (1.25.2)\n",
      "Requirement already satisfied: msgpack in /usr/local/lib/python3.10/dist-packages (from flax>=0.7.2->tensorflowjs) (1.0.8)\n",
      "Requirement already satisfied: optax in /usr/local/lib/python3.10/dist-packages (from flax>=0.7.2->tensorflowjs) (0.2.2)\n",
      "Requirement already satisfied: orbax-checkpoint in /usr/local/lib/python3.10/dist-packages (from flax>=0.7.2->tensorflowjs) (0.4.4)\n",
      "Requirement already satisfied: tensorstore in /usr/local/lib/python3.10/dist-packages (from flax>=0.7.2->tensorflowjs) (0.1.45)\n",
      "Requirement already satisfied: rich>=11.1 in /usr/local/lib/python3.10/dist-packages (from flax>=0.7.2->tensorflowjs) (13.7.1)\n",
      "Requirement already satisfied: typing-extensions>=4.2 in /usr/local/lib/python3.10/dist-packages (from flax>=0.7.2->tensorflowjs) (4.11.0)\n",
      "Requirement already satisfied: PyYAML>=5.4.1 in /usr/local/lib/python3.10/dist-packages (from flax>=0.7.2->tensorflowjs) (6.0.1)\n",
      "Requirement already satisfied: ml-dtypes>=0.2.0 in /usr/local/lib/python3.10/dist-packages (from jax>=0.4.13->tensorflowjs) (0.3.2)\n",
      "Requirement already satisfied: opt-einsum in /usr/local/lib/python3.10/dist-packages (from jax>=0.4.13->tensorflowjs) (3.3.0)\n",
      "Requirement already satisfied: scipy>=1.9 in /usr/local/lib/python3.10/dist-packages (from jax>=0.4.13->tensorflowjs) (1.11.4)\n",
      "Requirement already satisfied: absl-py>=1.0.0 in /usr/local/lib/python3.10/dist-packages (from tensorflow<3,>=2.13.0->tensorflowjs) (1.4.0)\n",
      "Requirement already satisfied: astunparse>=1.6.0 in /usr/local/lib/python3.10/dist-packages (from tensorflow<3,>=2.13.0->tensorflowjs) (1.6.3)\n",
      "Requirement already satisfied: flatbuffers>=23.5.26 in /usr/local/lib/python3.10/dist-packages (from tensorflow<3,>=2.13.0->tensorflowjs) (24.3.25)\n",
      "Requirement already satisfied: gast!=0.5.0,!=0.5.1,!=0.5.2,>=0.2.1 in /usr/local/lib/python3.10/dist-packages (from tensorflow<3,>=2.13.0->tensorflowjs) (0.5.4)\n",
      "Requirement already satisfied: google-pasta>=0.1.1 in /usr/local/lib/python3.10/dist-packages (from tensorflow<3,>=2.13.0->tensorflowjs) (0.2.0)\n",
      "Requirement already satisfied: h5py>=3.10.0 in /usr/local/lib/python3.10/dist-packages (from tensorflow<3,>=2.13.0->tensorflowjs) (3.11.0)\n",
      "Requirement already satisfied: libclang>=13.0.0 in /usr/local/lib/python3.10/dist-packages (from tensorflow<3,>=2.13.0->tensorflowjs) (18.1.1)\n",
      "Requirement already satisfied: protobuf!=4.21.0,!=4.21.1,!=4.21.2,!=4.21.3,!=4.21.4,!=4.21.5,<5.0.0dev,>=3.20.3 in /usr/local/lib/python3.10/dist-packages (from tensorflow<3,>=2.13.0->tensorflowjs) (3.20.3)\n",
      "Requirement already satisfied: requests<3,>=2.21.0 in /usr/local/lib/python3.10/dist-packages (from tensorflow<3,>=2.13.0->tensorflowjs) (2.31.0)\n",
      "Requirement already satisfied: setuptools in /usr/local/lib/python3.10/dist-packages (from tensorflow<3,>=2.13.0->tensorflowjs) (67.7.2)\n",
      "Requirement already satisfied: termcolor>=1.1.0 in /usr/local/lib/python3.10/dist-packages (from tensorflow<3,>=2.13.0->tensorflowjs) (2.4.0)\n",
      "Requirement already satisfied: wrapt>=1.11.0 in /usr/local/lib/python3.10/dist-packages (from tensorflow<3,>=2.13.0->tensorflowjs) (1.14.1)\n",
      "Requirement already satisfied: grpcio<2.0,>=1.24.3 in /usr/local/lib/python3.10/dist-packages (from tensorflow<3,>=2.13.0->tensorflowjs) (1.63.0)\n",
      "Requirement already satisfied: tensorboard<2.17,>=2.16 in /usr/local/lib/python3.10/dist-packages (from tensorflow<3,>=2.13.0->tensorflowjs) (2.16.2)\n",
      "Requirement already satisfied: keras>=3.0.0 in /usr/local/lib/python3.10/dist-packages (from tensorflow<3,>=2.13.0->tensorflowjs) (3.3.3)\n",
      "Requirement already satisfied: tensorflow-io-gcs-filesystem>=0.23.1 in /usr/local/lib/python3.10/dist-packages (from tensorflow<3,>=2.13.0->tensorflowjs) (0.37.0)\n",
      "Requirement already satisfied: pandas in /usr/local/lib/python3.10/dist-packages (from tensorflow-decision-forests>=1.5.0->tensorflowjs) (2.0.3)\n",
      "Requirement already satisfied: wheel in /usr/local/lib/python3.10/dist-packages (from tensorflow-decision-forests>=1.5.0->tensorflowjs) (0.43.0)\n",
      "Requirement already satisfied: wurlitzer in /usr/local/lib/python3.10/dist-packages (from tensorflow-decision-forests>=1.5.0->tensorflowjs) (3.1.0)\n",
      "Requirement already satisfied: ydf in /usr/local/lib/python3.10/dist-packages (from tensorflow-decision-forests>=1.5.0->tensorflowjs) (0.4.3)\n",
      "Requirement already satisfied: namex in /usr/local/lib/python3.10/dist-packages (from keras>=3.0.0->tensorflow<3,>=2.13.0->tensorflowjs) (0.0.8)\n",
      "Requirement already satisfied: optree in /usr/local/lib/python3.10/dist-packages (from keras>=3.0.0->tensorflow<3,>=2.13.0->tensorflowjs) (0.11.0)\n",
      "Requirement already satisfied: charset-normalizer<4,>=2 in /usr/local/lib/python3.10/dist-packages (from requests<3,>=2.21.0->tensorflow<3,>=2.13.0->tensorflowjs) (3.3.2)\n",
      "Requirement already satisfied: idna<4,>=2.5 in /usr/local/lib/python3.10/dist-packages (from requests<3,>=2.21.0->tensorflow<3,>=2.13.0->tensorflowjs) (3.7)\n",
      "Requirement already satisfied: urllib3<3,>=1.21.1 in /usr/local/lib/python3.10/dist-packages (from requests<3,>=2.21.0->tensorflow<3,>=2.13.0->tensorflowjs) (2.0.7)\n",
      "Requirement already satisfied: certifi>=2017.4.17 in /usr/local/lib/python3.10/dist-packages (from requests<3,>=2.21.0->tensorflow<3,>=2.13.0->tensorflowjs) (2024.2.2)\n",
      "Requirement already satisfied: markdown-it-py>=2.2.0 in /usr/local/lib/python3.10/dist-packages (from rich>=11.1->flax>=0.7.2->tensorflowjs) (3.0.0)\n",
      "Requirement already satisfied: pygments<3.0.0,>=2.13.0 in /usr/local/lib/python3.10/dist-packages (from rich>=11.1->flax>=0.7.2->tensorflowjs) (2.16.1)\n",
      "Requirement already satisfied: markdown>=2.6.8 in /usr/local/lib/python3.10/dist-packages (from tensorboard<2.17,>=2.16->tensorflow<3,>=2.13.0->tensorflowjs) (3.6)\n",
      "Requirement already satisfied: tensorboard-data-server<0.8.0,>=0.7.0 in /usr/local/lib/python3.10/dist-packages (from tensorboard<2.17,>=2.16->tensorflow<3,>=2.13.0->tensorflowjs) (0.7.2)\n",
      "Requirement already satisfied: werkzeug>=1.0.1 in /usr/local/lib/python3.10/dist-packages (from tensorboard<2.17,>=2.16->tensorflow<3,>=2.13.0->tensorflowjs) (3.0.3)\n",
      "Requirement already satisfied: chex>=0.1.86 in /usr/local/lib/python3.10/dist-packages (from optax->flax>=0.7.2->tensorflowjs) (0.1.86)\n",
      "Requirement already satisfied: etils[epath,epy] in /usr/local/lib/python3.10/dist-packages (from orbax-checkpoint->flax>=0.7.2->tensorflowjs) (1.7.0)\n",
      "Requirement already satisfied: nest_asyncio in /usr/local/lib/python3.10/dist-packages (from orbax-checkpoint->flax>=0.7.2->tensorflowjs) (1.6.0)\n",
      "Requirement already satisfied: python-dateutil>=2.8.2 in /usr/local/lib/python3.10/dist-packages (from pandas->tensorflow-decision-forests>=1.5.0->tensorflowjs) (2.8.2)\n",
      "Requirement already satisfied: pytz>=2020.1 in /usr/local/lib/python3.10/dist-packages (from pandas->tensorflow-decision-forests>=1.5.0->tensorflowjs) (2023.4)\n",
      "Requirement already satisfied: tzdata>=2022.1 in /usr/local/lib/python3.10/dist-packages (from pandas->tensorflow-decision-forests>=1.5.0->tensorflowjs) (2024.1)\n",
      "Requirement already satisfied: toolz>=0.9.0 in /usr/local/lib/python3.10/dist-packages (from chex>=0.1.86->optax->flax>=0.7.2->tensorflowjs) (0.12.1)\n",
      "Requirement already satisfied: mdurl~=0.1 in /usr/local/lib/python3.10/dist-packages (from markdown-it-py>=2.2.0->rich>=11.1->flax>=0.7.2->tensorflowjs) (0.1.2)\n",
      "Requirement already satisfied: MarkupSafe>=2.1.1 in /usr/local/lib/python3.10/dist-packages (from werkzeug>=1.0.1->tensorboard<2.17,>=2.16->tensorflow<3,>=2.13.0->tensorflowjs) (2.1.5)\n",
      "Requirement already satisfied: fsspec in /usr/local/lib/python3.10/dist-packages (from etils[epath,epy]->orbax-checkpoint->flax>=0.7.2->tensorflowjs) (2023.6.0)\n",
      "Requirement already satisfied: zipp in /usr/local/lib/python3.10/dist-packages (from etils[epath,epy]->orbax-checkpoint->flax>=0.7.2->tensorflowjs) (3.18.2)\n"
     ]
    }
   ],
   "source": [
    "!pip install tensorflowjs"
   ]
  },
  {
   "cell_type": "code",
   "execution_count": null,
   "metadata": {
    "colab": {
     "background_save": true,
     "base_uri": "https://localhost:8080/",
     "height": 38
    },
    "id": "uPDCxlfWVTxJ",
    "outputId": "8f361f47-f092-48a5-c7f2-6aeb71eef8f4"
   },
   "outputs": [
    {
     "data": {
      "text/html": [
       "\n",
       "     <input type=\"file\" id=\"files-7d88734f-1484-49a4-819a-733d9acc9171\" name=\"files[]\" multiple disabled\n",
       "        style=\"border:none\" />\n",
       "     <output id=\"result-7d88734f-1484-49a4-819a-733d9acc9171\">\n",
       "      Upload widget is only available when the cell has been executed in the\n",
       "      current browser session. Please rerun this cell to enable.\n",
       "      </output>\n",
       "      <script>// Copyright 2017 Google LLC\n",
       "//\n",
       "// Licensed under the Apache License, Version 2.0 (the \"License\");\n",
       "// you may not use this file except in compliance with the License.\n",
       "// You may obtain a copy of the License at\n",
       "//\n",
       "//      http://www.apache.org/licenses/LICENSE-2.0\n",
       "//\n",
       "// Unless required by applicable law or agreed to in writing, software\n",
       "// distributed under the License is distributed on an \"AS IS\" BASIS,\n",
       "// WITHOUT WARRANTIES OR CONDITIONS OF ANY KIND, either express or implied.\n",
       "// See the License for the specific language governing permissions and\n",
       "// limitations under the License.\n",
       "\n",
       "/**\n",
       " * @fileoverview Helpers for google.colab Python module.\n",
       " */\n",
       "(function(scope) {\n",
       "function span(text, styleAttributes = {}) {\n",
       "  const element = document.createElement('span');\n",
       "  element.textContent = text;\n",
       "  for (const key of Object.keys(styleAttributes)) {\n",
       "    element.style[key] = styleAttributes[key];\n",
       "  }\n",
       "  return element;\n",
       "}\n",
       "\n",
       "// Max number of bytes which will be uploaded at a time.\n",
       "const MAX_PAYLOAD_SIZE = 100 * 1024;\n",
       "\n",
       "function _uploadFiles(inputId, outputId) {\n",
       "  const steps = uploadFilesStep(inputId, outputId);\n",
       "  const outputElement = document.getElementById(outputId);\n",
       "  // Cache steps on the outputElement to make it available for the next call\n",
       "  // to uploadFilesContinue from Python.\n",
       "  outputElement.steps = steps;\n",
       "\n",
       "  return _uploadFilesContinue(outputId);\n",
       "}\n",
       "\n",
       "// This is roughly an async generator (not supported in the browser yet),\n",
       "// where there are multiple asynchronous steps and the Python side is going\n",
       "// to poll for completion of each step.\n",
       "// This uses a Promise to block the python side on completion of each step,\n",
       "// then passes the result of the previous step as the input to the next step.\n",
       "function _uploadFilesContinue(outputId) {\n",
       "  const outputElement = document.getElementById(outputId);\n",
       "  const steps = outputElement.steps;\n",
       "\n",
       "  const next = steps.next(outputElement.lastPromiseValue);\n",
       "  return Promise.resolve(next.value.promise).then((value) => {\n",
       "    // Cache the last promise value to make it available to the next\n",
       "    // step of the generator.\n",
       "    outputElement.lastPromiseValue = value;\n",
       "    return next.value.response;\n",
       "  });\n",
       "}\n",
       "\n",
       "/**\n",
       " * Generator function which is called between each async step of the upload\n",
       " * process.\n",
       " * @param {string} inputId Element ID of the input file picker element.\n",
       " * @param {string} outputId Element ID of the output display.\n",
       " * @return {!Iterable<!Object>} Iterable of next steps.\n",
       " */\n",
       "function* uploadFilesStep(inputId, outputId) {\n",
       "  const inputElement = document.getElementById(inputId);\n",
       "  inputElement.disabled = false;\n",
       "\n",
       "  const outputElement = document.getElementById(outputId);\n",
       "  outputElement.innerHTML = '';\n",
       "\n",
       "  const pickedPromise = new Promise((resolve) => {\n",
       "    inputElement.addEventListener('change', (e) => {\n",
       "      resolve(e.target.files);\n",
       "    });\n",
       "  });\n",
       "\n",
       "  const cancel = document.createElement('button');\n",
       "  inputElement.parentElement.appendChild(cancel);\n",
       "  cancel.textContent = 'Cancel upload';\n",
       "  const cancelPromise = new Promise((resolve) => {\n",
       "    cancel.onclick = () => {\n",
       "      resolve(null);\n",
       "    };\n",
       "  });\n",
       "\n",
       "  // Wait for the user to pick the files.\n",
       "  const files = yield {\n",
       "    promise: Promise.race([pickedPromise, cancelPromise]),\n",
       "    response: {\n",
       "      action: 'starting',\n",
       "    }\n",
       "  };\n",
       "\n",
       "  cancel.remove();\n",
       "\n",
       "  // Disable the input element since further picks are not allowed.\n",
       "  inputElement.disabled = true;\n",
       "\n",
       "  if (!files) {\n",
       "    return {\n",
       "      response: {\n",
       "        action: 'complete',\n",
       "      }\n",
       "    };\n",
       "  }\n",
       "\n",
       "  for (const file of files) {\n",
       "    const li = document.createElement('li');\n",
       "    li.append(span(file.name, {fontWeight: 'bold'}));\n",
       "    li.append(span(\n",
       "        `(${file.type || 'n/a'}) - ${file.size} bytes, ` +\n",
       "        `last modified: ${\n",
       "            file.lastModifiedDate ? file.lastModifiedDate.toLocaleDateString() :\n",
       "                                    'n/a'} - `));\n",
       "    const percent = span('0% done');\n",
       "    li.appendChild(percent);\n",
       "\n",
       "    outputElement.appendChild(li);\n",
       "\n",
       "    const fileDataPromise = new Promise((resolve) => {\n",
       "      const reader = new FileReader();\n",
       "      reader.onload = (e) => {\n",
       "        resolve(e.target.result);\n",
       "      };\n",
       "      reader.readAsArrayBuffer(file);\n",
       "    });\n",
       "    // Wait for the data to be ready.\n",
       "    let fileData = yield {\n",
       "      promise: fileDataPromise,\n",
       "      response: {\n",
       "        action: 'continue',\n",
       "      }\n",
       "    };\n",
       "\n",
       "    // Use a chunked sending to avoid message size limits. See b/62115660.\n",
       "    let position = 0;\n",
       "    do {\n",
       "      const length = Math.min(fileData.byteLength - position, MAX_PAYLOAD_SIZE);\n",
       "      const chunk = new Uint8Array(fileData, position, length);\n",
       "      position += length;\n",
       "\n",
       "      const base64 = btoa(String.fromCharCode.apply(null, chunk));\n",
       "      yield {\n",
       "        response: {\n",
       "          action: 'append',\n",
       "          file: file.name,\n",
       "          data: base64,\n",
       "        },\n",
       "      };\n",
       "\n",
       "      let percentDone = fileData.byteLength === 0 ?\n",
       "          100 :\n",
       "          Math.round((position / fileData.byteLength) * 100);\n",
       "      percent.textContent = `${percentDone}% done`;\n",
       "\n",
       "    } while (position < fileData.byteLength);\n",
       "  }\n",
       "\n",
       "  // All done.\n",
       "  yield {\n",
       "    response: {\n",
       "      action: 'complete',\n",
       "    }\n",
       "  };\n",
       "}\n",
       "\n",
       "scope.google = scope.google || {};\n",
       "scope.google.colab = scope.google.colab || {};\n",
       "scope.google.colab._files = {\n",
       "  _uploadFiles,\n",
       "  _uploadFilesContinue,\n",
       "};\n",
       "})(self);\n",
       "</script> "
      ],
      "text/plain": [
       "<IPython.core.display.HTML object>"
      ]
     },
     "metadata": {},
     "output_type": "display_data"
    }
   ],
   "source": [
    "from google.colab import files\n",
    "files.upload()"
   ]
  },
  {
   "cell_type": "code",
   "execution_count": null,
   "metadata": {
    "colab": {
     "base_uri": "https://localhost:8080/"
    },
    "id": "O8YCvDm4SVxT",
    "outputId": "ea28349c-c59b-45c6-b86d-aa93c7636a5a"
   },
   "outputs": [
    {
     "name": "stdout",
     "output_type": "stream",
     "text": [
      "2024-05-22 08:00:39.657255: I tensorflow/core/platform/cpu_feature_guard.cc:210] This TensorFlow binary is optimized to use available CPU instructions in performance-critical operations.\n",
      "To enable the following instructions: AVX2 AVX512F FMA, in other operations, rebuild TensorFlow with the appropriate compiler flags.\n",
      "2024-05-22 08:00:41.916920: W tensorflow/compiler/tf2tensorrt/utils/py_utils.cc:38] TF-TRT Warning: Could not find TensorRT\n",
      "Traceback (most recent call last):\n",
      "  File \"/usr/local/bin/tensorflowjs_converter\", line 8, in <module>\n",
      "    sys.exit(pip_main())\n",
      "  File \"/usr/local/lib/python3.10/dist-packages/tensorflowjs/converters/converter.py\", line 959, in pip_main\n",
      "    main([' '.join(sys.argv[1:])])\n",
      "  File \"/usr/local/lib/python3.10/dist-packages/tensorflowjs/converters/converter.py\", line 963, in main\n",
      "    convert(argv[0].split(' '))\n",
      "  File \"/usr/local/lib/python3.10/dist-packages/tensorflowjs/converters/converter.py\", line 949, in convert\n",
      "    _dispatch_converter(input_format, output_format, args, quantization_dtype_map,\n",
      "  File \"/usr/local/lib/python3.10/dist-packages/tensorflowjs/converters/converter.py\", line 619, in _dispatch_converter\n",
      "    dispatch_keras_h5_to_tfjs_layers_model_conversion(\n",
      "  File \"/usr/local/lib/python3.10/dist-packages/tensorflowjs/converters/converter.py\", line 78, in dispatch_keras_h5_to_tfjs_layers_model_conversion\n",
      "    raise ValueError('Nonexistent path to HDF5 file: %s' % h5_path)\n",
      "ValueError: Nonexistent path to HDF5 file: {model_save_path}\n"
     ]
    }
   ],
   "source": [
    "import time\n",
    "!tensorflowjs_converter \\\n",
    "    --input_format=keras dummymodel.h5 ./\n",
    "# !tensorflowjs_converter --input_format=keras dummymodel.h5 dummymodel.json"
   ]
  },
  {
   "cell_type": "code",
   "execution_count": null,
   "metadata": {
    "colab": {
     "base_uri": "https://localhost:8080/"
    },
    "id": "PydsT2HGQBAY",
    "outputId": "9301b809-32b2-48d1-a9fc-b9690322e7ce"
   },
   "outputs": [
    {
     "name": "stdout",
     "output_type": "stream",
     "text": [
      "\tzip warning: name not matched: *.bin\n",
      "\tzip warning: name not matched: modelin.json\n",
      "\n",
      "zip error: Nothing to do! (dummypol.zip)\n"
     ]
    }
   ],
   "source": [
    "!zip dummypol.zip *.bin modelin.json"
   ]
  },
  {
   "cell_type": "markdown",
   "metadata": {
    "id": "R2TDWRSnum95"
   },
   "source": []
  }
 ],
 "metadata": {
  "accelerator": "GPU",
  "colab": {
   "gpuType": "T4",
   "provenance": []
  },
  "kernelspec": {
   "display_name": "Python 3 (ipykernel)",
   "language": "python",
   "name": "python3"
  },
  "language_info": {
   "codemirror_mode": {
    "name": "ipython",
    "version": 3
   },
   "file_extension": ".py",
   "mimetype": "text/x-python",
   "name": "python",
   "nbconvert_exporter": "python",
   "pygments_lexer": "ipython3",
   "version": "3.9.0"
  }
 },
 "nbformat": 4,
 "nbformat_minor": 4
}
