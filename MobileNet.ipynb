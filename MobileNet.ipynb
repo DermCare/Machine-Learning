{
  "cells": [
    {
      "cell_type": "code",
      "execution_count": null,
      "metadata": {
        "colab": {
          "base_uri": "https://localhost:8080/"
        },
        "id": "Os32fyfH4Cme",
        "outputId": "0572c0fb-1f8d-42ff-ea09-f302dfb53cc8"
      },
      "outputs": [
        {
          "name": "stdout",
          "output_type": "stream",
          "text": [
            "Colab only includes TensorFlow 2.x; %tensorflow_version has no effect.\n"
          ]
        }
      ],
      "source": [
        "try:\n",
        "  # %tensorflow_version only exists in Colab.\n",
        "  %tensorflow_version 2.x\n",
        "except Exception:\n",
        "  pass\n",
        "\n",
        "import os\n",
        "import zipfile\n",
        "import matplotlib.pyplot as plt\n",
        "import shutil\n",
        "import tensorflow as tf\n",
        "from tensorflow.keras import layers\n",
        "from tensorflow.keras import Model\n",
        "from tensorflow.keras.optimizers import SGD\n",
        "from tensorflow.keras.layers import Dropout\n",
        "from tensorflow.keras.preprocessing.image import ImageDataGenerator\n",
        "from tensorflow.keras.preprocessing.image import img_to_array, load_img\n",
        "from tensorflow import keras"
      ]
    },
    {
      "cell_type": "code",
      "execution_count": null,
      "metadata": {
        "colab": {
          "base_uri": "https://localhost:8080/",
          "height": 91
        },
        "id": "QpteXGL9Pfxv",
        "outputId": "53d59d18-a1dd-4134-e601-987ed12d0918"
      },
      "outputs": [
        {
          "data": {
            "text/html": [
              "\n",
              "     <input type=\"file\" id=\"files-29ae780a-6d82-420b-9b7f-bd09f09a7a6a\" name=\"files[]\" multiple disabled\n",
              "        style=\"border:none\" />\n",
              "     <output id=\"result-29ae780a-6d82-420b-9b7f-bd09f09a7a6a\">\n",
              "      Upload widget is only available when the cell has been executed in the\n",
              "      current browser session. Please rerun this cell to enable.\n",
              "      </output>\n",
              "      <script>// Copyright 2017 Google LLC\n",
              "//\n",
              "// Licensed under the Apache License, Version 2.0 (the \"License\");\n",
              "// you may not use this file except in compliance with the License.\n",
              "// You may obtain a copy of the License at\n",
              "//\n",
              "//      http://www.apache.org/licenses/LICENSE-2.0\n",
              "//\n",
              "// Unless required by applicable law or agreed to in writing, software\n",
              "// distributed under the License is distributed on an \"AS IS\" BASIS,\n",
              "// WITHOUT WARRANTIES OR CONDITIONS OF ANY KIND, either express or implied.\n",
              "// See the License for the specific language governing permissions and\n",
              "// limitations under the License.\n",
              "\n",
              "/**\n",
              " * @fileoverview Helpers for google.colab Python module.\n",
              " */\n",
              "(function(scope) {\n",
              "function span(text, styleAttributes = {}) {\n",
              "  const element = document.createElement('span');\n",
              "  element.textContent = text;\n",
              "  for (const key of Object.keys(styleAttributes)) {\n",
              "    element.style[key] = styleAttributes[key];\n",
              "  }\n",
              "  return element;\n",
              "}\n",
              "\n",
              "// Max number of bytes which will be uploaded at a time.\n",
              "const MAX_PAYLOAD_SIZE = 100 * 1024;\n",
              "\n",
              "function _uploadFiles(inputId, outputId) {\n",
              "  const steps = uploadFilesStep(inputId, outputId);\n",
              "  const outputElement = document.getElementById(outputId);\n",
              "  // Cache steps on the outputElement to make it available for the next call\n",
              "  // to uploadFilesContinue from Python.\n",
              "  outputElement.steps = steps;\n",
              "\n",
              "  return _uploadFilesContinue(outputId);\n",
              "}\n",
              "\n",
              "// This is roughly an async generator (not supported in the browser yet),\n",
              "// where there are multiple asynchronous steps and the Python side is going\n",
              "// to poll for completion of each step.\n",
              "// This uses a Promise to block the python side on completion of each step,\n",
              "// then passes the result of the previous step as the input to the next step.\n",
              "function _uploadFilesContinue(outputId) {\n",
              "  const outputElement = document.getElementById(outputId);\n",
              "  const steps = outputElement.steps;\n",
              "\n",
              "  const next = steps.next(outputElement.lastPromiseValue);\n",
              "  return Promise.resolve(next.value.promise).then((value) => {\n",
              "    // Cache the last promise value to make it available to the next\n",
              "    // step of the generator.\n",
              "    outputElement.lastPromiseValue = value;\n",
              "    return next.value.response;\n",
              "  });\n",
              "}\n",
              "\n",
              "/**\n",
              " * Generator function which is called between each async step of the upload\n",
              " * process.\n",
              " * @param {string} inputId Element ID of the input file picker element.\n",
              " * @param {string} outputId Element ID of the output display.\n",
              " * @return {!Iterable<!Object>} Iterable of next steps.\n",
              " */\n",
              "function* uploadFilesStep(inputId, outputId) {\n",
              "  const inputElement = document.getElementById(inputId);\n",
              "  inputElement.disabled = false;\n",
              "\n",
              "  const outputElement = document.getElementById(outputId);\n",
              "  outputElement.innerHTML = '';\n",
              "\n",
              "  const pickedPromise = new Promise((resolve) => {\n",
              "    inputElement.addEventListener('change', (e) => {\n",
              "      resolve(e.target.files);\n",
              "    });\n",
              "  });\n",
              "\n",
              "  const cancel = document.createElement('button');\n",
              "  inputElement.parentElement.appendChild(cancel);\n",
              "  cancel.textContent = 'Cancel upload';\n",
              "  const cancelPromise = new Promise((resolve) => {\n",
              "    cancel.onclick = () => {\n",
              "      resolve(null);\n",
              "    };\n",
              "  });\n",
              "\n",
              "  // Wait for the user to pick the files.\n",
              "  const files = yield {\n",
              "    promise: Promise.race([pickedPromise, cancelPromise]),\n",
              "    response: {\n",
              "      action: 'starting',\n",
              "    }\n",
              "  };\n",
              "\n",
              "  cancel.remove();\n",
              "\n",
              "  // Disable the input element since further picks are not allowed.\n",
              "  inputElement.disabled = true;\n",
              "\n",
              "  if (!files) {\n",
              "    return {\n",
              "      response: {\n",
              "        action: 'complete',\n",
              "      }\n",
              "    };\n",
              "  }\n",
              "\n",
              "  for (const file of files) {\n",
              "    const li = document.createElement('li');\n",
              "    li.append(span(file.name, {fontWeight: 'bold'}));\n",
              "    li.append(span(\n",
              "        `(${file.type || 'n/a'}) - ${file.size} bytes, ` +\n",
              "        `last modified: ${\n",
              "            file.lastModifiedDate ? file.lastModifiedDate.toLocaleDateString() :\n",
              "                                    'n/a'} - `));\n",
              "    const percent = span('0% done');\n",
              "    li.appendChild(percent);\n",
              "\n",
              "    outputElement.appendChild(li);\n",
              "\n",
              "    const fileDataPromise = new Promise((resolve) => {\n",
              "      const reader = new FileReader();\n",
              "      reader.onload = (e) => {\n",
              "        resolve(e.target.result);\n",
              "      };\n",
              "      reader.readAsArrayBuffer(file);\n",
              "    });\n",
              "    // Wait for the data to be ready.\n",
              "    let fileData = yield {\n",
              "      promise: fileDataPromise,\n",
              "      response: {\n",
              "        action: 'continue',\n",
              "      }\n",
              "    };\n",
              "\n",
              "    // Use a chunked sending to avoid message size limits. See b/62115660.\n",
              "    let position = 0;\n",
              "    do {\n",
              "      const length = Math.min(fileData.byteLength - position, MAX_PAYLOAD_SIZE);\n",
              "      const chunk = new Uint8Array(fileData, position, length);\n",
              "      position += length;\n",
              "\n",
              "      const base64 = btoa(String.fromCharCode.apply(null, chunk));\n",
              "      yield {\n",
              "        response: {\n",
              "          action: 'append',\n",
              "          file: file.name,\n",
              "          data: base64,\n",
              "        },\n",
              "      };\n",
              "\n",
              "      let percentDone = fileData.byteLength === 0 ?\n",
              "          100 :\n",
              "          Math.round((position / fileData.byteLength) * 100);\n",
              "      percent.textContent = `${percentDone}% done`;\n",
              "\n",
              "    } while (position < fileData.byteLength);\n",
              "  }\n",
              "\n",
              "  // All done.\n",
              "  yield {\n",
              "    response: {\n",
              "      action: 'complete',\n",
              "    }\n",
              "  };\n",
              "}\n",
              "\n",
              "scope.google = scope.google || {};\n",
              "scope.google.colab = scope.google.colab || {};\n",
              "scope.google.colab._files = {\n",
              "  _uploadFiles,\n",
              "  _uploadFilesContinue,\n",
              "};\n",
              "})(self);\n",
              "</script> "
            ],
            "text/plain": [
              "<IPython.core.display.HTML object>"
            ]
          },
          "metadata": {},
          "output_type": "display_data"
        },
        {
          "name": "stdout",
          "output_type": "stream",
          "text": [
            "Saving kaggle.json to kaggle.json\n"
          ]
        },
        {
          "data": {
            "text/plain": [
              "{'kaggle.json': b'{\"username\":\"azkaprivanna\",\"key\":\"841300ca256a5fda39dbb15657efb0a9\"}'}"
            ]
          },
          "execution_count": 3,
          "metadata": {},
          "output_type": "execute_result"
        }
      ],
      "source": [
        "from google.colab import files\n",
        "drive.mount(\"/content/drive\")"
      ]
    },
    {
      "cell_type": "code",
      "execution_count": null,
      "metadata": {
        "colab": {
          "base_uri": "https://localhost:8080/"
        },
        "id": "5xCuZkLUPjIx",
        "outputId": "f53858b5-c890-4a6a-9bf1-5cdb2b8be9ef"
      },
      "outputs": [
        {
          "name": "stdout",
          "output_type": "stream",
          "text": [
            "Dataset URL: https://www.kaggle.com/datasets/shubhamgoel27/dermnet\n",
            "License(s): Attribution-NonCommercial-NoDerivatives 4.0 International (CC BY-NC-ND 4.0)\n",
            "Downloading dermnet.zip to /content\n",
            "100% 1.72G/1.72G [00:44<00:00, 39.5MB/s]\n",
            "100% 1.72G/1.72G [00:44<00:00, 41.1MB/s]\n"
          ]
        }
      ],
      "source": [
        "!unzip -q /content/drive/MyDrive/Bangkit/dataset_disease-20240604T091501Z-001.zip"
      ]
    },
    {
      "cell_type": "code",
      "execution_count": null,
      "metadata": {
        "id": "JTjnB4vfPAhP"
      },
      "outputs": [],
      "source": [
        "BATCH_SIZE = 32 # 32\n",
        "IMG_SIZE = (256, 256)\n",
        "IMG_SHAPE = IMG_SIZE + (3,)"
      ]
    },
    {
      "cell_type": "code",
      "execution_count": null,
      "metadata": {
        "id": "KX34_4OvcY8c"
      },
      "outputs": [],
      "source": [
        "# Define the training and validation base directories\n",
        "# DATASET_DIR = 'dermnet'\n",
        "TRAINING_DIR='/content/train'\n",
        "VALIDATION_DIR='/content/test'"
      ]
    },
    {
      "cell_type": "code",
      "execution_count": null,
      "metadata": {
        "colab": {
          "base_uri": "https://localhost:8080/"
        },
        "id": "v-7_9p8DPAhQ",
        "outputId": "78f1421f-6e41-4897-f730-325df33586ea"
      },
      "outputs": [
        {
          "name": "stdout",
          "output_type": "stream",
          "text": [
            "IMG_SIZE: (256, 256)\n",
            "IMG_SHAPE: (256, 256, 3)\n",
            "TRAINING_DIR: /content/train\n",
            "VALIDATION_DIR: /content/test\n"
          ]
        }
      ],
      "source": [
        "# print(f'DATASET_DIR: {DATASET_DIR}')\n",
        "print(f'IMG_SIZE: {IMG_SIZE}')\n",
        "print(f'IMG_SHAPE: {IMG_SHAPE}')\n",
        "print(f'TRAINING_DIR: {TRAINING_DIR}')\n",
        "print(f'VALIDATION_DIR: {VALIDATION_DIR}')"
      ]
    },
    {
      "cell_type": "code",
      "execution_count": null,
      "metadata": {
        "cellView": "code",
        "id": "3a071cf2"
      },
      "outputs": [],
      "source": [
        "def train_val_generators(TRAINING_DIR, VALIDATION_DIR):\n",
        "  # Instantiate the ImageDataGenerator class (don't forget to set the arguments to augment the images)\n",
        "  train_datagen = ImageDataGenerator()\n",
        "\n",
        "  # Pass in the appropriate arguments to the flow_from_directory method\n",
        "  train_generator = train_datagen.flow_from_directory(directory=TRAINING_DIR,\n",
        "                                                      batch_size=BATCH_SIZE,\n",
        "                                                      class_mode='categorical',\n",
        "                                                      target_size=IMG_SIZE,\n",
        "                                                      shuffle=True)\n",
        "\n",
        "  # Instantiate the ImageDataGenerator class (don't forget to set the rescale argument)\n",
        "  validation_datagen = ImageDataGenerator()\n",
        "\n",
        "  # Pass in the appropriate arguments to the flow_from_directory method\n",
        "  validation_generator = validation_datagen.flow_from_directory(directory=VALIDATION_DIR,\n",
        "                                                                batch_size=BATCH_SIZE,\n",
        "                                                                class_mode='categorical',\n",
        "                                                                target_size=IMG_SIZE)\n",
        "  ### END CODE HERE\n",
        "  return train_generator, validation_generator"
      ]
    },
    {
      "cell_type": "code",
      "execution_count": null,
      "metadata": {
        "colab": {
          "base_uri": "https://localhost:8080/"
        },
        "id": "kPCGBUa-PAhR",
        "outputId": "c37dbe11-73f9-4d19-a6e7-970d61aaedd6"
      },
      "outputs": [
        {
          "name": "stdout",
          "output_type": "stream",
          "text": [
            "Found 10265 images belonging to 14 classes.\n",
            "Found 2573 images belonging to 14 classes.\n"
          ]
        }
      ],
      "source": [
        "train_generator, validation_generator = train_val_generators(TRAINING_DIR, VALIDATION_DIR)"
      ]
    },
    {
      "cell_type": "code",
      "execution_count": null,
      "metadata": {
        "colab": {
          "base_uri": "https://localhost:8080/"
        },
        "id": "6mbf3Ub6PAhS",
        "outputId": "e6d0ea9e-61bd-4bde-8e1a-a0583019f7be"
      },
      "outputs": [
        {
          "data": {
            "text/plain": [
              "{'Actinic Keratosis Basal Cell Carcinoma and other Malignant Lesions': 0,\n",
              " 'Atopic Dermatitis Photos': 1,\n",
              " 'Cellulitis Impetigo and other Bacterial Infections': 2,\n",
              " 'Eczema Photos': 3,\n",
              " 'Light Diseases and Disorders of Pigmentation': 4,\n",
              " 'Lupus and other Connective Tissue diseases': 5,\n",
              " 'Nail Fungus and other Nail Disease': 6,\n",
              " 'Poison Ivy Photos and other Contact Dermatitis': 7,\n",
              " 'Scabies Lyme Disease and other Infestations and Bites': 8,\n",
              " 'Seborrheic Keratoses and other Benign Tumors': 9,\n",
              " 'Tinea Ringworm Candidiasis and other Fungal Infections': 10,\n",
              " 'Urticaria Hives': 11,\n",
              " 'Vasculitis Photos': 12,\n",
              " 'Warts Molluscum and other Viral Infections': 13}"
            ]
          },
          "execution_count": 14,
          "metadata": {},
          "output_type": "execute_result"
        }
      ],
      "source": [
        "train_generator.class_indices"
      ]
    },
    {
      "cell_type": "code",
      "execution_count": null,
      "metadata": {},
      "outputs": [],
      "source": [
        "labels = train_generator.class_indices.keys()\n",
        "print(labels)"
      ]
    },
    {
      "cell_type": "markdown",
      "metadata": {
        "id": "VshuQfSNuBoc"
      },
      "source": [
        "### **CALLBACK**"
      ]
    },
    {
      "cell_type": "code",
      "execution_count": null,
      "metadata": {
        "id": "2IGLGEQnKNhU"
      },
      "outputs": [],
      "source": [
        "# Define a Callback class that stops training once accuracy reaches 95.0%\n",
        "class myCallback(tf.keras.callbacks.Callback):\n",
        "  def on_epoch_end(self, epoch, logs={}):\n",
        "    if(logs.get('accuracy') > 0.95 and logs.get('val_accuracy')>0.95):\n",
        "      print(\"\\nReached 95.0% accuracy so cancelling training!\")\n",
        "      self.model.stop_training = True\n",
        "\n",
        "callbacks=myCallback()"
      ]
    },
    {
      "cell_type": "markdown",
      "metadata": {
        "id": "IYVyEYJgtuue"
      },
      "source": [
        "### **MobileNetV3**"
      ]
    },
    {
      "cell_type": "code",
      "execution_count": null,
      "metadata": {
        "colab": {
          "base_uri": "https://localhost:8080/"
        },
        "id": "O7N8b3lqPAhX",
        "outputId": "6762cd28-a8db-417b-cdc5-0a3c40ef7b2a"
      },
      "outputs": [
        {
          "name": "stderr",
          "output_type": "stream",
          "text": [
            "WARNING:tensorflow:`input_shape` is undefined or non-square, or `rows` is not 224. Weights for input shape (224, 224) will be loaded as the default.\n"
          ]
        },
        {
          "name": "stdout",
          "output_type": "stream",
          "text": [
            "Downloading data from https://storage.googleapis.com/tensorflow/keras-applications/mobilenet_v3/weights_mobilenet_v3_large_224_1.0_float_no_top_v2.h5\n",
            "12683000/12683000 [==============================] - 1s 0us/step\n"
          ]
        }
      ],
      "source": [
        "preprocess_input = tf.keras.applications.mobilenet_v3.preprocess_input\n",
        "base_model = tf.keras.applications.MobileNetV3Small(\n",
        "    input_shape=IMG_SHAPE,\n",
        "    include_top=False,\n",
        "    weights='imagenet',\n",
        ")\n",
        "\n",
        "base_model.trainable = False"
      ]
    },
    {
      "cell_type": "code",
      "execution_count": null,
      "metadata": {
        "colab": {
          "base_uri": "https://localhost:8080/"
        },
        "id": "VGjymQ4jH2yu",
        "outputId": "9a438e35-9c54-43a8-f8ec-4f6896b667f5"
      },
      "outputs": [
        {
          "name": "stdout",
          "output_type": "stream",
          "text": [
            "Model: \"MobilenetV3large\"\n",
            "__________________________________________________________________________________________________\n",
            " Layer (type)                Output Shape                 Param #   Connected to                  \n",
            "==================================================================================================\n",
            " input_1 (InputLayer)        [(None, 256, 256, 3)]        0         []                            \n",
            "                                                                                                  \n",
            " rescaling (Rescaling)       (None, 256, 256, 3)          0         ['input_1[0][0]']             \n",
            "                                                                                                  \n",
            " Conv (Conv2D)               (None, 128, 128, 16)         432       ['rescaling[0][0]']           \n",
            "                                                                                                  \n",
            " Conv/BatchNorm (BatchNorma  (None, 128, 128, 16)         64        ['Conv[0][0]']                \n",
            " lization)                                                                                        \n",
            "                                                                                                  \n",
            " tf.__operators__.add (TFOp  (None, 128, 128, 16)         0         ['Conv/BatchNorm[0][0]']      \n",
            " Lambda)                                                                                          \n",
            "                                                                                                  \n",
            " re_lu (ReLU)                (None, 128, 128, 16)         0         ['tf.__operators__.add[0][0]']\n",
            "                                                                                                  \n",
            " tf.math.multiply (TFOpLamb  (None, 128, 128, 16)         0         ['re_lu[0][0]']               \n",
            " da)                                                                                              \n",
            "                                                                                                  \n",
            " multiply (Multiply)         (None, 128, 128, 16)         0         ['Conv/BatchNorm[0][0]',      \n",
            "                                                                     'tf.math.multiply[0][0]']    \n",
            "                                                                                                  \n",
            " expanded_conv/depthwise (D  (None, 128, 128, 16)         144       ['multiply[0][0]']            \n",
            " epthwiseConv2D)                                                                                  \n",
            "                                                                                                  \n",
            " expanded_conv/depthwise/Ba  (None, 128, 128, 16)         64        ['expanded_conv/depthwise[0][0\n",
            " tchNorm (BatchNormalizatio                                         ]']                           \n",
            " n)                                                                                               \n",
            "                                                                                                  \n",
            " re_lu_1 (ReLU)              (None, 128, 128, 16)         0         ['expanded_conv/depthwise/Batc\n",
            "                                                                    hNorm[0][0]']                 \n",
            "                                                                                                  \n",
            " expanded_conv/project (Con  (None, 128, 128, 16)         256       ['re_lu_1[0][0]']             \n",
            " v2D)                                                                                             \n",
            "                                                                                                  \n",
            " expanded_conv/project/Batc  (None, 128, 128, 16)         64        ['expanded_conv/project[0][0]'\n",
            " hNorm (BatchNormalization)                                         ]                             \n",
            "                                                                                                  \n",
            " expanded_conv/Add (Add)     (None, 128, 128, 16)         0         ['multiply[0][0]',            \n",
            "                                                                     'expanded_conv/project/BatchN\n",
            "                                                                    orm[0][0]']                   \n",
            "                                                                                                  \n",
            " expanded_conv_1/expand (Co  (None, 128, 128, 64)         1024      ['expanded_conv/Add[0][0]']   \n",
            " nv2D)                                                                                            \n",
            "                                                                                                  \n",
            " expanded_conv_1/expand/Bat  (None, 128, 128, 64)         256       ['expanded_conv_1/expand[0][0]\n",
            " chNorm (BatchNormalization                                         ']                            \n",
            " )                                                                                                \n",
            "                                                                                                  \n",
            " re_lu_2 (ReLU)              (None, 128, 128, 64)         0         ['expanded_conv_1/expand/Batch\n",
            "                                                                    Norm[0][0]']                  \n",
            "                                                                                                  \n",
            " expanded_conv_1/depthwise/  (None, 129, 129, 64)         0         ['re_lu_2[0][0]']             \n",
            " pad (ZeroPadding2D)                                                                              \n",
            "                                                                                                  \n",
            " expanded_conv_1/depthwise   (None, 64, 64, 64)           576       ['expanded_conv_1/depthwise/pa\n",
            " (DepthwiseConv2D)                                                  d[0][0]']                     \n",
            "                                                                                                  \n",
            " expanded_conv_1/depthwise/  (None, 64, 64, 64)           256       ['expanded_conv_1/depthwise[0]\n",
            " BatchNorm (BatchNormalizat                                         [0]']                         \n",
            " ion)                                                                                             \n",
            "                                                                                                  \n",
            " re_lu_3 (ReLU)              (None, 64, 64, 64)           0         ['expanded_conv_1/depthwise/Ba\n",
            "                                                                    tchNorm[0][0]']               \n",
            "                                                                                                  \n",
            " expanded_conv_1/project (C  (None, 64, 64, 24)           1536      ['re_lu_3[0][0]']             \n",
            " onv2D)                                                                                           \n",
            "                                                                                                  \n",
            " expanded_conv_1/project/Ba  (None, 64, 64, 24)           96        ['expanded_conv_1/project[0][0\n",
            " tchNorm (BatchNormalizatio                                         ]']                           \n",
            " n)                                                                                               \n",
            "                                                                                                  \n",
            " expanded_conv_2/expand (Co  (None, 64, 64, 72)           1728      ['expanded_conv_1/project/Batc\n",
            " nv2D)                                                              hNorm[0][0]']                 \n",
            "                                                                                                  \n",
            " expanded_conv_2/expand/Bat  (None, 64, 64, 72)           288       ['expanded_conv_2/expand[0][0]\n",
            " chNorm (BatchNormalization                                         ']                            \n",
            " )                                                                                                \n",
            "                                                                                                  \n",
            " re_lu_4 (ReLU)              (None, 64, 64, 72)           0         ['expanded_conv_2/expand/Batch\n",
            "                                                                    Norm[0][0]']                  \n",
            "                                                                                                  \n",
            " expanded_conv_2/depthwise   (None, 64, 64, 72)           648       ['re_lu_4[0][0]']             \n",
            " (DepthwiseConv2D)                                                                                \n",
            "                                                                                                  \n",
            " expanded_conv_2/depthwise/  (None, 64, 64, 72)           288       ['expanded_conv_2/depthwise[0]\n",
            " BatchNorm (BatchNormalizat                                         [0]']                         \n",
            " ion)                                                                                             \n",
            "                                                                                                  \n",
            " re_lu_5 (ReLU)              (None, 64, 64, 72)           0         ['expanded_conv_2/depthwise/Ba\n",
            "                                                                    tchNorm[0][0]']               \n",
            "                                                                                                  \n",
            " expanded_conv_2/project (C  (None, 64, 64, 24)           1728      ['re_lu_5[0][0]']             \n",
            " onv2D)                                                                                           \n",
            "                                                                                                  \n",
            " expanded_conv_2/project/Ba  (None, 64, 64, 24)           96        ['expanded_conv_2/project[0][0\n",
            " tchNorm (BatchNormalizatio                                         ]']                           \n",
            " n)                                                                                               \n",
            "                                                                                                  \n",
            " expanded_conv_2/Add (Add)   (None, 64, 64, 24)           0         ['expanded_conv_1/project/Batc\n",
            "                                                                    hNorm[0][0]',                 \n",
            "                                                                     'expanded_conv_2/project/Batc\n",
            "                                                                    hNorm[0][0]']                 \n",
            "                                                                                                  \n",
            " expanded_conv_3/expand (Co  (None, 64, 64, 72)           1728      ['expanded_conv_2/Add[0][0]'] \n",
            " nv2D)                                                                                            \n",
            "                                                                                                  \n",
            " expanded_conv_3/expand/Bat  (None, 64, 64, 72)           288       ['expanded_conv_3/expand[0][0]\n",
            " chNorm (BatchNormalization                                         ']                            \n",
            " )                                                                                                \n",
            "                                                                                                  \n",
            " re_lu_6 (ReLU)              (None, 64, 64, 72)           0         ['expanded_conv_3/expand/Batch\n",
            "                                                                    Norm[0][0]']                  \n",
            "                                                                                                  \n",
            " expanded_conv_3/depthwise/  (None, 67, 67, 72)           0         ['re_lu_6[0][0]']             \n",
            " pad (ZeroPadding2D)                                                                              \n",
            "                                                                                                  \n",
            " expanded_conv_3/depthwise   (None, 32, 32, 72)           1800      ['expanded_conv_3/depthwise/pa\n",
            " (DepthwiseConv2D)                                                  d[0][0]']                     \n",
            "                                                                                                  \n",
            " expanded_conv_3/depthwise/  (None, 32, 32, 72)           288       ['expanded_conv_3/depthwise[0]\n",
            " BatchNorm (BatchNormalizat                                         [0]']                         \n",
            " ion)                                                                                             \n",
            "                                                                                                  \n",
            " re_lu_7 (ReLU)              (None, 32, 32, 72)           0         ['expanded_conv_3/depthwise/Ba\n",
            "                                                                    tchNorm[0][0]']               \n",
            "                                                                                                  \n",
            " expanded_conv_3/squeeze_ex  (None, 1, 1, 72)             0         ['re_lu_7[0][0]']             \n",
            " cite/AvgPool (GlobalAverag                                                                       \n",
            " ePooling2D)                                                                                      \n",
            "                                                                                                  \n",
            " expanded_conv_3/squeeze_ex  (None, 1, 1, 24)             1752      ['expanded_conv_3/squeeze_exci\n",
            " cite/Conv (Conv2D)                                                 te/AvgPool[0][0]']            \n",
            "                                                                                                  \n",
            " expanded_conv_3/squeeze_ex  (None, 1, 1, 24)             0         ['expanded_conv_3/squeeze_exci\n",
            " cite/Relu (ReLU)                                                   te/Conv[0][0]']               \n",
            "                                                                                                  \n",
            " expanded_conv_3/squeeze_ex  (None, 1, 1, 72)             1800      ['expanded_conv_3/squeeze_exci\n",
            " cite/Conv_1 (Conv2D)                                               te/Relu[0][0]']               \n",
            "                                                                                                  \n",
            " tf.__operators__.add_1 (TF  (None, 1, 1, 72)             0         ['expanded_conv_3/squeeze_exci\n",
            " OpLambda)                                                          te/Conv_1[0][0]']             \n",
            "                                                                                                  \n",
            " re_lu_8 (ReLU)              (None, 1, 1, 72)             0         ['tf.__operators__.add_1[0][0]\n",
            "                                                                    ']                            \n",
            "                                                                                                  \n",
            " tf.math.multiply_1 (TFOpLa  (None, 1, 1, 72)             0         ['re_lu_8[0][0]']             \n",
            " mbda)                                                                                            \n",
            "                                                                                                  \n",
            " expanded_conv_3/squeeze_ex  (None, 32, 32, 72)           0         ['re_lu_7[0][0]',             \n",
            " cite/Mul (Multiply)                                                 'tf.math.multiply_1[0][0]']  \n",
            "                                                                                                  \n",
            " expanded_conv_3/project (C  (None, 32, 32, 40)           2880      ['expanded_conv_3/squeeze_exci\n",
            " onv2D)                                                             te/Mul[0][0]']                \n",
            "                                                                                                  \n",
            " expanded_conv_3/project/Ba  (None, 32, 32, 40)           160       ['expanded_conv_3/project[0][0\n",
            " tchNorm (BatchNormalizatio                                         ]']                           \n",
            " n)                                                                                               \n",
            "                                                                                                  \n",
            " expanded_conv_4/expand (Co  (None, 32, 32, 120)          4800      ['expanded_conv_3/project/Batc\n",
            " nv2D)                                                              hNorm[0][0]']                 \n",
            "                                                                                                  \n",
            " expanded_conv_4/expand/Bat  (None, 32, 32, 120)          480       ['expanded_conv_4/expand[0][0]\n",
            " chNorm (BatchNormalization                                         ']                            \n",
            " )                                                                                                \n",
            "                                                                                                  \n",
            " re_lu_9 (ReLU)              (None, 32, 32, 120)          0         ['expanded_conv_4/expand/Batch\n",
            "                                                                    Norm[0][0]']                  \n",
            "                                                                                                  \n",
            " expanded_conv_4/depthwise   (None, 32, 32, 120)          3000      ['re_lu_9[0][0]']             \n",
            " (DepthwiseConv2D)                                                                                \n",
            "                                                                                                  \n",
            " expanded_conv_4/depthwise/  (None, 32, 32, 120)          480       ['expanded_conv_4/depthwise[0]\n",
            " BatchNorm (BatchNormalizat                                         [0]']                         \n",
            " ion)                                                                                             \n",
            "                                                                                                  \n",
            " re_lu_10 (ReLU)             (None, 32, 32, 120)          0         ['expanded_conv_4/depthwise/Ba\n",
            "                                                                    tchNorm[0][0]']               \n",
            "                                                                                                  \n",
            " expanded_conv_4/squeeze_ex  (None, 1, 1, 120)            0         ['re_lu_10[0][0]']            \n",
            " cite/AvgPool (GlobalAverag                                                                       \n",
            " ePooling2D)                                                                                      \n",
            "                                                                                                  \n",
            " expanded_conv_4/squeeze_ex  (None, 1, 1, 32)             3872      ['expanded_conv_4/squeeze_exci\n",
            " cite/Conv (Conv2D)                                                 te/AvgPool[0][0]']            \n",
            "                                                                                                  \n",
            " expanded_conv_4/squeeze_ex  (None, 1, 1, 32)             0         ['expanded_conv_4/squeeze_exci\n",
            " cite/Relu (ReLU)                                                   te/Conv[0][0]']               \n",
            "                                                                                                  \n",
            " expanded_conv_4/squeeze_ex  (None, 1, 1, 120)            3960      ['expanded_conv_4/squeeze_exci\n",
            " cite/Conv_1 (Conv2D)                                               te/Relu[0][0]']               \n",
            "                                                                                                  \n",
            " tf.__operators__.add_2 (TF  (None, 1, 1, 120)            0         ['expanded_conv_4/squeeze_exci\n",
            " OpLambda)                                                          te/Conv_1[0][0]']             \n",
            "                                                                                                  \n",
            " re_lu_11 (ReLU)             (None, 1, 1, 120)            0         ['tf.__operators__.add_2[0][0]\n",
            "                                                                    ']                            \n",
            "                                                                                                  \n",
            " tf.math.multiply_2 (TFOpLa  (None, 1, 1, 120)            0         ['re_lu_11[0][0]']            \n",
            " mbda)                                                                                            \n",
            "                                                                                                  \n",
            " expanded_conv_4/squeeze_ex  (None, 32, 32, 120)          0         ['re_lu_10[0][0]',            \n",
            " cite/Mul (Multiply)                                                 'tf.math.multiply_2[0][0]']  \n",
            "                                                                                                  \n",
            " expanded_conv_4/project (C  (None, 32, 32, 40)           4800      ['expanded_conv_4/squeeze_exci\n",
            " onv2D)                                                             te/Mul[0][0]']                \n",
            "                                                                                                  \n",
            " expanded_conv_4/project/Ba  (None, 32, 32, 40)           160       ['expanded_conv_4/project[0][0\n",
            " tchNorm (BatchNormalizatio                                         ]']                           \n",
            " n)                                                                                               \n",
            "                                                                                                  \n",
            " expanded_conv_4/Add (Add)   (None, 32, 32, 40)           0         ['expanded_conv_3/project/Batc\n",
            "                                                                    hNorm[0][0]',                 \n",
            "                                                                     'expanded_conv_4/project/Batc\n",
            "                                                                    hNorm[0][0]']                 \n",
            "                                                                                                  \n",
            " expanded_conv_5/expand (Co  (None, 32, 32, 120)          4800      ['expanded_conv_4/Add[0][0]'] \n",
            " nv2D)                                                                                            \n",
            "                                                                                                  \n",
            " expanded_conv_5/expand/Bat  (None, 32, 32, 120)          480       ['expanded_conv_5/expand[0][0]\n",
            " chNorm (BatchNormalization                                         ']                            \n",
            " )                                                                                                \n",
            "                                                                                                  \n",
            " re_lu_12 (ReLU)             (None, 32, 32, 120)          0         ['expanded_conv_5/expand/Batch\n",
            "                                                                    Norm[0][0]']                  \n",
            "                                                                                                  \n",
            " expanded_conv_5/depthwise   (None, 32, 32, 120)          3000      ['re_lu_12[0][0]']            \n",
            " (DepthwiseConv2D)                                                                                \n",
            "                                                                                                  \n",
            " expanded_conv_5/depthwise/  (None, 32, 32, 120)          480       ['expanded_conv_5/depthwise[0]\n",
            " BatchNorm (BatchNormalizat                                         [0]']                         \n",
            " ion)                                                                                             \n",
            "                                                                                                  \n",
            " re_lu_13 (ReLU)             (None, 32, 32, 120)          0         ['expanded_conv_5/depthwise/Ba\n",
            "                                                                    tchNorm[0][0]']               \n",
            "                                                                                                  \n",
            " expanded_conv_5/squeeze_ex  (None, 1, 1, 120)            0         ['re_lu_13[0][0]']            \n",
            " cite/AvgPool (GlobalAverag                                                                       \n",
            " ePooling2D)                                                                                      \n",
            "                                                                                                  \n",
            " expanded_conv_5/squeeze_ex  (None, 1, 1, 32)             3872      ['expanded_conv_5/squeeze_exci\n",
            " cite/Conv (Conv2D)                                                 te/AvgPool[0][0]']            \n",
            "                                                                                                  \n",
            " expanded_conv_5/squeeze_ex  (None, 1, 1, 32)             0         ['expanded_conv_5/squeeze_exci\n",
            " cite/Relu (ReLU)                                                   te/Conv[0][0]']               \n",
            "                                                                                                  \n",
            " expanded_conv_5/squeeze_ex  (None, 1, 1, 120)            3960      ['expanded_conv_5/squeeze_exci\n",
            " cite/Conv_1 (Conv2D)                                               te/Relu[0][0]']               \n",
            "                                                                                                  \n",
            " tf.__operators__.add_3 (TF  (None, 1, 1, 120)            0         ['expanded_conv_5/squeeze_exci\n",
            " OpLambda)                                                          te/Conv_1[0][0]']             \n",
            "                                                                                                  \n",
            " re_lu_14 (ReLU)             (None, 1, 1, 120)            0         ['tf.__operators__.add_3[0][0]\n",
            "                                                                    ']                            \n",
            "                                                                                                  \n",
            " tf.math.multiply_3 (TFOpLa  (None, 1, 1, 120)            0         ['re_lu_14[0][0]']            \n",
            " mbda)                                                                                            \n",
            "                                                                                                  \n",
            " expanded_conv_5/squeeze_ex  (None, 32, 32, 120)          0         ['re_lu_13[0][0]',            \n",
            " cite/Mul (Multiply)                                                 'tf.math.multiply_3[0][0]']  \n",
            "                                                                                                  \n",
            " expanded_conv_5/project (C  (None, 32, 32, 40)           4800      ['expanded_conv_5/squeeze_exci\n",
            " onv2D)                                                             te/Mul[0][0]']                \n",
            "                                                                                                  \n",
            " expanded_conv_5/project/Ba  (None, 32, 32, 40)           160       ['expanded_conv_5/project[0][0\n",
            " tchNorm (BatchNormalizatio                                         ]']                           \n",
            " n)                                                                                               \n",
            "                                                                                                  \n",
            " expanded_conv_5/Add (Add)   (None, 32, 32, 40)           0         ['expanded_conv_4/Add[0][0]', \n",
            "                                                                     'expanded_conv_5/project/Batc\n",
            "                                                                    hNorm[0][0]']                 \n",
            "                                                                                                  \n",
            " expanded_conv_6/expand (Co  (None, 32, 32, 240)          9600      ['expanded_conv_5/Add[0][0]'] \n",
            " nv2D)                                                                                            \n",
            "                                                                                                  \n",
            " expanded_conv_6/expand/Bat  (None, 32, 32, 240)          960       ['expanded_conv_6/expand[0][0]\n",
            " chNorm (BatchNormalization                                         ']                            \n",
            " )                                                                                                \n",
            "                                                                                                  \n",
            " tf.__operators__.add_4 (TF  (None, 32, 32, 240)          0         ['expanded_conv_6/expand/Batch\n",
            " OpLambda)                                                          Norm[0][0]']                  \n",
            "                                                                                                  \n",
            " re_lu_15 (ReLU)             (None, 32, 32, 240)          0         ['tf.__operators__.add_4[0][0]\n",
            "                                                                    ']                            \n",
            "                                                                                                  \n",
            " tf.math.multiply_4 (TFOpLa  (None, 32, 32, 240)          0         ['re_lu_15[0][0]']            \n",
            " mbda)                                                                                            \n",
            "                                                                                                  \n",
            " multiply_1 (Multiply)       (None, 32, 32, 240)          0         ['expanded_conv_6/expand/Batch\n",
            "                                                                    Norm[0][0]',                  \n",
            "                                                                     'tf.math.multiply_4[0][0]']  \n",
            "                                                                                                  \n",
            " expanded_conv_6/depthwise/  (None, 33, 33, 240)          0         ['multiply_1[0][0]']          \n",
            " pad (ZeroPadding2D)                                                                              \n",
            "                                                                                                  \n",
            " expanded_conv_6/depthwise   (None, 16, 16, 240)          2160      ['expanded_conv_6/depthwise/pa\n",
            " (DepthwiseConv2D)                                                  d[0][0]']                     \n",
            "                                                                                                  \n",
            " expanded_conv_6/depthwise/  (None, 16, 16, 240)          960       ['expanded_conv_6/depthwise[0]\n",
            " BatchNorm (BatchNormalizat                                         [0]']                         \n",
            " ion)                                                                                             \n",
            "                                                                                                  \n",
            " tf.__operators__.add_5 (TF  (None, 16, 16, 240)          0         ['expanded_conv_6/depthwise/Ba\n",
            " OpLambda)                                                          tchNorm[0][0]']               \n",
            "                                                                                                  \n",
            " re_lu_16 (ReLU)             (None, 16, 16, 240)          0         ['tf.__operators__.add_5[0][0]\n",
            "                                                                    ']                            \n",
            "                                                                                                  \n",
            " tf.math.multiply_5 (TFOpLa  (None, 16, 16, 240)          0         ['re_lu_16[0][0]']            \n",
            " mbda)                                                                                            \n",
            "                                                                                                  \n",
            " multiply_2 (Multiply)       (None, 16, 16, 240)          0         ['expanded_conv_6/depthwise/Ba\n",
            "                                                                    tchNorm[0][0]',               \n",
            "                                                                     'tf.math.multiply_5[0][0]']  \n",
            "                                                                                                  \n",
            " expanded_conv_6/project (C  (None, 16, 16, 80)           19200     ['multiply_2[0][0]']          \n",
            " onv2D)                                                                                           \n",
            "                                                                                                  \n",
            " expanded_conv_6/project/Ba  (None, 16, 16, 80)           320       ['expanded_conv_6/project[0][0\n",
            " tchNorm (BatchNormalizatio                                         ]']                           \n",
            " n)                                                                                               \n",
            "                                                                                                  \n",
            " expanded_conv_7/expand (Co  (None, 16, 16, 200)          16000     ['expanded_conv_6/project/Batc\n",
            " nv2D)                                                              hNorm[0][0]']                 \n",
            "                                                                                                  \n",
            " expanded_conv_7/expand/Bat  (None, 16, 16, 200)          800       ['expanded_conv_7/expand[0][0]\n",
            " chNorm (BatchNormalization                                         ']                            \n",
            " )                                                                                                \n",
            "                                                                                                  \n",
            " tf.__operators__.add_6 (TF  (None, 16, 16, 200)          0         ['expanded_conv_7/expand/Batch\n",
            " OpLambda)                                                          Norm[0][0]']                  \n",
            "                                                                                                  \n",
            " re_lu_17 (ReLU)             (None, 16, 16, 200)          0         ['tf.__operators__.add_6[0][0]\n",
            "                                                                    ']                            \n",
            "                                                                                                  \n",
            " tf.math.multiply_6 (TFOpLa  (None, 16, 16, 200)          0         ['re_lu_17[0][0]']            \n",
            " mbda)                                                                                            \n",
            "                                                                                                  \n",
            " multiply_3 (Multiply)       (None, 16, 16, 200)          0         ['expanded_conv_7/expand/Batch\n",
            "                                                                    Norm[0][0]',                  \n",
            "                                                                     'tf.math.multiply_6[0][0]']  \n",
            "                                                                                                  \n",
            " expanded_conv_7/depthwise   (None, 16, 16, 200)          1800      ['multiply_3[0][0]']          \n",
            " (DepthwiseConv2D)                                                                                \n",
            "                                                                                                  \n",
            " expanded_conv_7/depthwise/  (None, 16, 16, 200)          800       ['expanded_conv_7/depthwise[0]\n",
            " BatchNorm (BatchNormalizat                                         [0]']                         \n",
            " ion)                                                                                             \n",
            "                                                                                                  \n",
            " tf.__operators__.add_7 (TF  (None, 16, 16, 200)          0         ['expanded_conv_7/depthwise/Ba\n",
            " OpLambda)                                                          tchNorm[0][0]']               \n",
            "                                                                                                  \n",
            " re_lu_18 (ReLU)             (None, 16, 16, 200)          0         ['tf.__operators__.add_7[0][0]\n",
            "                                                                    ']                            \n",
            "                                                                                                  \n",
            " tf.math.multiply_7 (TFOpLa  (None, 16, 16, 200)          0         ['re_lu_18[0][0]']            \n",
            " mbda)                                                                                            \n",
            "                                                                                                  \n",
            " multiply_4 (Multiply)       (None, 16, 16, 200)          0         ['expanded_conv_7/depthwise/Ba\n",
            "                                                                    tchNorm[0][0]',               \n",
            "                                                                     'tf.math.multiply_7[0][0]']  \n",
            "                                                                                                  \n",
            " expanded_conv_7/project (C  (None, 16, 16, 80)           16000     ['multiply_4[0][0]']          \n",
            " onv2D)                                                                                           \n",
            "                                                                                                  \n",
            " expanded_conv_7/project/Ba  (None, 16, 16, 80)           320       ['expanded_conv_7/project[0][0\n",
            " tchNorm (BatchNormalizatio                                         ]']                           \n",
            " n)                                                                                               \n",
            "                                                                                                  \n",
            " expanded_conv_7/Add (Add)   (None, 16, 16, 80)           0         ['expanded_conv_6/project/Batc\n",
            "                                                                    hNorm[0][0]',                 \n",
            "                                                                     'expanded_conv_7/project/Batc\n",
            "                                                                    hNorm[0][0]']                 \n",
            "                                                                                                  \n",
            " expanded_conv_8/expand (Co  (None, 16, 16, 184)          14720     ['expanded_conv_7/Add[0][0]'] \n",
            " nv2D)                                                                                            \n",
            "                                                                                                  \n",
            " expanded_conv_8/expand/Bat  (None, 16, 16, 184)          736       ['expanded_conv_8/expand[0][0]\n",
            " chNorm (BatchNormalization                                         ']                            \n",
            " )                                                                                                \n",
            "                                                                                                  \n",
            " tf.__operators__.add_8 (TF  (None, 16, 16, 184)          0         ['expanded_conv_8/expand/Batch\n",
            " OpLambda)                                                          Norm[0][0]']                  \n",
            "                                                                                                  \n",
            " re_lu_19 (ReLU)             (None, 16, 16, 184)          0         ['tf.__operators__.add_8[0][0]\n",
            "                                                                    ']                            \n",
            "                                                                                                  \n",
            " tf.math.multiply_8 (TFOpLa  (None, 16, 16, 184)          0         ['re_lu_19[0][0]']            \n",
            " mbda)                                                                                            \n",
            "                                                                                                  \n",
            " multiply_5 (Multiply)       (None, 16, 16, 184)          0         ['expanded_conv_8/expand/Batch\n",
            "                                                                    Norm[0][0]',                  \n",
            "                                                                     'tf.math.multiply_8[0][0]']  \n",
            "                                                                                                  \n",
            " expanded_conv_8/depthwise   (None, 16, 16, 184)          1656      ['multiply_5[0][0]']          \n",
            " (DepthwiseConv2D)                                                                                \n",
            "                                                                                                  \n",
            " expanded_conv_8/depthwise/  (None, 16, 16, 184)          736       ['expanded_conv_8/depthwise[0]\n",
            " BatchNorm (BatchNormalizat                                         [0]']                         \n",
            " ion)                                                                                             \n",
            "                                                                                                  \n",
            " tf.__operators__.add_9 (TF  (None, 16, 16, 184)          0         ['expanded_conv_8/depthwise/Ba\n",
            " OpLambda)                                                          tchNorm[0][0]']               \n",
            "                                                                                                  \n",
            " re_lu_20 (ReLU)             (None, 16, 16, 184)          0         ['tf.__operators__.add_9[0][0]\n",
            "                                                                    ']                            \n",
            "                                                                                                  \n",
            " tf.math.multiply_9 (TFOpLa  (None, 16, 16, 184)          0         ['re_lu_20[0][0]']            \n",
            " mbda)                                                                                            \n",
            "                                                                                                  \n",
            " multiply_6 (Multiply)       (None, 16, 16, 184)          0         ['expanded_conv_8/depthwise/Ba\n",
            "                                                                    tchNorm[0][0]',               \n",
            "                                                                     'tf.math.multiply_9[0][0]']  \n",
            "                                                                                                  \n",
            " expanded_conv_8/project (C  (None, 16, 16, 80)           14720     ['multiply_6[0][0]']          \n",
            " onv2D)                                                                                           \n",
            "                                                                                                  \n",
            " expanded_conv_8/project/Ba  (None, 16, 16, 80)           320       ['expanded_conv_8/project[0][0\n",
            " tchNorm (BatchNormalizatio                                         ]']                           \n",
            " n)                                                                                               \n",
            "                                                                                                  \n",
            " expanded_conv_8/Add (Add)   (None, 16, 16, 80)           0         ['expanded_conv_7/Add[0][0]', \n",
            "                                                                     'expanded_conv_8/project/Batc\n",
            "                                                                    hNorm[0][0]']                 \n",
            "                                                                                                  \n",
            " expanded_conv_9/expand (Co  (None, 16, 16, 184)          14720     ['expanded_conv_8/Add[0][0]'] \n",
            " nv2D)                                                                                            \n",
            "                                                                                                  \n",
            " expanded_conv_9/expand/Bat  (None, 16, 16, 184)          736       ['expanded_conv_9/expand[0][0]\n",
            " chNorm (BatchNormalization                                         ']                            \n",
            " )                                                                                                \n",
            "                                                                                                  \n",
            " tf.__operators__.add_10 (T  (None, 16, 16, 184)          0         ['expanded_conv_9/expand/Batch\n",
            " FOpLambda)                                                         Norm[0][0]']                  \n",
            "                                                                                                  \n",
            " re_lu_21 (ReLU)             (None, 16, 16, 184)          0         ['tf.__operators__.add_10[0][0\n",
            "                                                                    ]']                           \n",
            "                                                                                                  \n",
            " tf.math.multiply_10 (TFOpL  (None, 16, 16, 184)          0         ['re_lu_21[0][0]']            \n",
            " ambda)                                                                                           \n",
            "                                                                                                  \n",
            " multiply_7 (Multiply)       (None, 16, 16, 184)          0         ['expanded_conv_9/expand/Batch\n",
            "                                                                    Norm[0][0]',                  \n",
            "                                                                     'tf.math.multiply_10[0][0]'] \n",
            "                                                                                                  \n",
            " expanded_conv_9/depthwise   (None, 16, 16, 184)          1656      ['multiply_7[0][0]']          \n",
            " (DepthwiseConv2D)                                                                                \n",
            "                                                                                                  \n",
            " expanded_conv_9/depthwise/  (None, 16, 16, 184)          736       ['expanded_conv_9/depthwise[0]\n",
            " BatchNorm (BatchNormalizat                                         [0]']                         \n",
            " ion)                                                                                             \n",
            "                                                                                                  \n",
            " tf.__operators__.add_11 (T  (None, 16, 16, 184)          0         ['expanded_conv_9/depthwise/Ba\n",
            " FOpLambda)                                                         tchNorm[0][0]']               \n",
            "                                                                                                  \n",
            " re_lu_22 (ReLU)             (None, 16, 16, 184)          0         ['tf.__operators__.add_11[0][0\n",
            "                                                                    ]']                           \n",
            "                                                                                                  \n",
            " tf.math.multiply_11 (TFOpL  (None, 16, 16, 184)          0         ['re_lu_22[0][0]']            \n",
            " ambda)                                                                                           \n",
            "                                                                                                  \n",
            " multiply_8 (Multiply)       (None, 16, 16, 184)          0         ['expanded_conv_9/depthwise/Ba\n",
            "                                                                    tchNorm[0][0]',               \n",
            "                                                                     'tf.math.multiply_11[0][0]'] \n",
            "                                                                                                  \n",
            " expanded_conv_9/project (C  (None, 16, 16, 80)           14720     ['multiply_8[0][0]']          \n",
            " onv2D)                                                                                           \n",
            "                                                                                                  \n",
            " expanded_conv_9/project/Ba  (None, 16, 16, 80)           320       ['expanded_conv_9/project[0][0\n",
            " tchNorm (BatchNormalizatio                                         ]']                           \n",
            " n)                                                                                               \n",
            "                                                                                                  \n",
            " expanded_conv_9/Add (Add)   (None, 16, 16, 80)           0         ['expanded_conv_8/Add[0][0]', \n",
            "                                                                     'expanded_conv_9/project/Batc\n",
            "                                                                    hNorm[0][0]']                 \n",
            "                                                                                                  \n",
            " expanded_conv_10/expand (C  (None, 16, 16, 480)          38400     ['expanded_conv_9/Add[0][0]'] \n",
            " onv2D)                                                                                           \n",
            "                                                                                                  \n",
            " expanded_conv_10/expand/Ba  (None, 16, 16, 480)          1920      ['expanded_conv_10/expand[0][0\n",
            " tchNorm (BatchNormalizatio                                         ]']                           \n",
            " n)                                                                                               \n",
            "                                                                                                  \n",
            " tf.__operators__.add_12 (T  (None, 16, 16, 480)          0         ['expanded_conv_10/expand/Batc\n",
            " FOpLambda)                                                         hNorm[0][0]']                 \n",
            "                                                                                                  \n",
            " re_lu_23 (ReLU)             (None, 16, 16, 480)          0         ['tf.__operators__.add_12[0][0\n",
            "                                                                    ]']                           \n",
            "                                                                                                  \n",
            " tf.math.multiply_12 (TFOpL  (None, 16, 16, 480)          0         ['re_lu_23[0][0]']            \n",
            " ambda)                                                                                           \n",
            "                                                                                                  \n",
            " multiply_9 (Multiply)       (None, 16, 16, 480)          0         ['expanded_conv_10/expand/Batc\n",
            "                                                                    hNorm[0][0]',                 \n",
            "                                                                     'tf.math.multiply_12[0][0]'] \n",
            "                                                                                                  \n",
            " expanded_conv_10/depthwise  (None, 16, 16, 480)          4320      ['multiply_9[0][0]']          \n",
            "  (DepthwiseConv2D)                                                                               \n",
            "                                                                                                  \n",
            " expanded_conv_10/depthwise  (None, 16, 16, 480)          1920      ['expanded_conv_10/depthwise[0\n",
            " /BatchNorm (BatchNormaliza                                         ][0]']                        \n",
            " tion)                                                                                            \n",
            "                                                                                                  \n",
            " tf.__operators__.add_13 (T  (None, 16, 16, 480)          0         ['expanded_conv_10/depthwise/B\n",
            " FOpLambda)                                                         atchNorm[0][0]']              \n",
            "                                                                                                  \n",
            " re_lu_24 (ReLU)             (None, 16, 16, 480)          0         ['tf.__operators__.add_13[0][0\n",
            "                                                                    ]']                           \n",
            "                                                                                                  \n",
            " tf.math.multiply_13 (TFOpL  (None, 16, 16, 480)          0         ['re_lu_24[0][0]']            \n",
            " ambda)                                                                                           \n",
            "                                                                                                  \n",
            " multiply_10 (Multiply)      (None, 16, 16, 480)          0         ['expanded_conv_10/depthwise/B\n",
            "                                                                    atchNorm[0][0]',              \n",
            "                                                                     'tf.math.multiply_13[0][0]'] \n",
            "                                                                                                  \n",
            " expanded_conv_10/squeeze_e  (None, 1, 1, 480)            0         ['multiply_10[0][0]']         \n",
            " xcite/AvgPool (GlobalAvera                                                                       \n",
            " gePooling2D)                                                                                     \n",
            "                                                                                                  \n",
            " expanded_conv_10/squeeze_e  (None, 1, 1, 120)            57720     ['expanded_conv_10/squeeze_exc\n",
            " xcite/Conv (Conv2D)                                                ite/AvgPool[0][0]']           \n",
            "                                                                                                  \n",
            " expanded_conv_10/squeeze_e  (None, 1, 1, 120)            0         ['expanded_conv_10/squeeze_exc\n",
            " xcite/Relu (ReLU)                                                  ite/Conv[0][0]']              \n",
            "                                                                                                  \n",
            " expanded_conv_10/squeeze_e  (None, 1, 1, 480)            58080     ['expanded_conv_10/squeeze_exc\n",
            " xcite/Conv_1 (Conv2D)                                              ite/Relu[0][0]']              \n",
            "                                                                                                  \n",
            " tf.__operators__.add_14 (T  (None, 1, 1, 480)            0         ['expanded_conv_10/squeeze_exc\n",
            " FOpLambda)                                                         ite/Conv_1[0][0]']            \n",
            "                                                                                                  \n",
            " re_lu_25 (ReLU)             (None, 1, 1, 480)            0         ['tf.__operators__.add_14[0][0\n",
            "                                                                    ]']                           \n",
            "                                                                                                  \n",
            " tf.math.multiply_14 (TFOpL  (None, 1, 1, 480)            0         ['re_lu_25[0][0]']            \n",
            " ambda)                                                                                           \n",
            "                                                                                                  \n",
            " expanded_conv_10/squeeze_e  (None, 16, 16, 480)          0         ['multiply_10[0][0]',         \n",
            " xcite/Mul (Multiply)                                                'tf.math.multiply_14[0][0]'] \n",
            "                                                                                                  \n",
            " expanded_conv_10/project (  (None, 16, 16, 112)          53760     ['expanded_conv_10/squeeze_exc\n",
            " Conv2D)                                                            ite/Mul[0][0]']               \n",
            "                                                                                                  \n",
            " expanded_conv_10/project/B  (None, 16, 16, 112)          448       ['expanded_conv_10/project[0][\n",
            " atchNorm (BatchNormalizati                                         0]']                          \n",
            " on)                                                                                              \n",
            "                                                                                                  \n",
            " expanded_conv_11/expand (C  (None, 16, 16, 672)          75264     ['expanded_conv_10/project/Bat\n",
            " onv2D)                                                             chNorm[0][0]']                \n",
            "                                                                                                  \n",
            " expanded_conv_11/expand/Ba  (None, 16, 16, 672)          2688      ['expanded_conv_11/expand[0][0\n",
            " tchNorm (BatchNormalizatio                                         ]']                           \n",
            " n)                                                                                               \n",
            "                                                                                                  \n",
            " tf.__operators__.add_15 (T  (None, 16, 16, 672)          0         ['expanded_conv_11/expand/Batc\n",
            " FOpLambda)                                                         hNorm[0][0]']                 \n",
            "                                                                                                  \n",
            " re_lu_26 (ReLU)             (None, 16, 16, 672)          0         ['tf.__operators__.add_15[0][0\n",
            "                                                                    ]']                           \n",
            "                                                                                                  \n",
            " tf.math.multiply_15 (TFOpL  (None, 16, 16, 672)          0         ['re_lu_26[0][0]']            \n",
            " ambda)                                                                                           \n",
            "                                                                                                  \n",
            " multiply_11 (Multiply)      (None, 16, 16, 672)          0         ['expanded_conv_11/expand/Batc\n",
            "                                                                    hNorm[0][0]',                 \n",
            "                                                                     'tf.math.multiply_15[0][0]'] \n",
            "                                                                                                  \n",
            " expanded_conv_11/depthwise  (None, 16, 16, 672)          6048      ['multiply_11[0][0]']         \n",
            "  (DepthwiseConv2D)                                                                               \n",
            "                                                                                                  \n",
            " expanded_conv_11/depthwise  (None, 16, 16, 672)          2688      ['expanded_conv_11/depthwise[0\n",
            " /BatchNorm (BatchNormaliza                                         ][0]']                        \n",
            " tion)                                                                                            \n",
            "                                                                                                  \n",
            " tf.__operators__.add_16 (T  (None, 16, 16, 672)          0         ['expanded_conv_11/depthwise/B\n",
            " FOpLambda)                                                         atchNorm[0][0]']              \n",
            "                                                                                                  \n",
            " re_lu_27 (ReLU)             (None, 16, 16, 672)          0         ['tf.__operators__.add_16[0][0\n",
            "                                                                    ]']                           \n",
            "                                                                                                  \n",
            " tf.math.multiply_16 (TFOpL  (None, 16, 16, 672)          0         ['re_lu_27[0][0]']            \n",
            " ambda)                                                                                           \n",
            "                                                                                                  \n",
            " multiply_12 (Multiply)      (None, 16, 16, 672)          0         ['expanded_conv_11/depthwise/B\n",
            "                                                                    atchNorm[0][0]',              \n",
            "                                                                     'tf.math.multiply_16[0][0]'] \n",
            "                                                                                                  \n",
            " expanded_conv_11/squeeze_e  (None, 1, 1, 672)            0         ['multiply_12[0][0]']         \n",
            " xcite/AvgPool (GlobalAvera                                                                       \n",
            " gePooling2D)                                                                                     \n",
            "                                                                                                  \n",
            " expanded_conv_11/squeeze_e  (None, 1, 1, 168)            113064    ['expanded_conv_11/squeeze_exc\n",
            " xcite/Conv (Conv2D)                                                ite/AvgPool[0][0]']           \n",
            "                                                                                                  \n",
            " expanded_conv_11/squeeze_e  (None, 1, 1, 168)            0         ['expanded_conv_11/squeeze_exc\n",
            " xcite/Relu (ReLU)                                                  ite/Conv[0][0]']              \n",
            "                                                                                                  \n",
            " expanded_conv_11/squeeze_e  (None, 1, 1, 672)            113568    ['expanded_conv_11/squeeze_exc\n",
            " xcite/Conv_1 (Conv2D)                                              ite/Relu[0][0]']              \n",
            "                                                                                                  \n",
            " tf.__operators__.add_17 (T  (None, 1, 1, 672)            0         ['expanded_conv_11/squeeze_exc\n",
            " FOpLambda)                                                         ite/Conv_1[0][0]']            \n",
            "                                                                                                  \n",
            " re_lu_28 (ReLU)             (None, 1, 1, 672)            0         ['tf.__operators__.add_17[0][0\n",
            "                                                                    ]']                           \n",
            "                                                                                                  \n",
            " tf.math.multiply_17 (TFOpL  (None, 1, 1, 672)            0         ['re_lu_28[0][0]']            \n",
            " ambda)                                                                                           \n",
            "                                                                                                  \n",
            " expanded_conv_11/squeeze_e  (None, 16, 16, 672)          0         ['multiply_12[0][0]',         \n",
            " xcite/Mul (Multiply)                                                'tf.math.multiply_17[0][0]'] \n",
            "                                                                                                  \n",
            " expanded_conv_11/project (  (None, 16, 16, 112)          75264     ['expanded_conv_11/squeeze_exc\n",
            " Conv2D)                                                            ite/Mul[0][0]']               \n",
            "                                                                                                  \n",
            " expanded_conv_11/project/B  (None, 16, 16, 112)          448       ['expanded_conv_11/project[0][\n",
            " atchNorm (BatchNormalizati                                         0]']                          \n",
            " on)                                                                                              \n",
            "                                                                                                  \n",
            " expanded_conv_11/Add (Add)  (None, 16, 16, 112)          0         ['expanded_conv_10/project/Bat\n",
            "                                                                    chNorm[0][0]',                \n",
            "                                                                     'expanded_conv_11/project/Bat\n",
            "                                                                    chNorm[0][0]']                \n",
            "                                                                                                  \n",
            " expanded_conv_12/expand (C  (None, 16, 16, 672)          75264     ['expanded_conv_11/Add[0][0]']\n",
            " onv2D)                                                                                           \n",
            "                                                                                                  \n",
            " expanded_conv_12/expand/Ba  (None, 16, 16, 672)          2688      ['expanded_conv_12/expand[0][0\n",
            " tchNorm (BatchNormalizatio                                         ]']                           \n",
            " n)                                                                                               \n",
            "                                                                                                  \n",
            " tf.__operators__.add_18 (T  (None, 16, 16, 672)          0         ['expanded_conv_12/expand/Batc\n",
            " FOpLambda)                                                         hNorm[0][0]']                 \n",
            "                                                                                                  \n",
            " re_lu_29 (ReLU)             (None, 16, 16, 672)          0         ['tf.__operators__.add_18[0][0\n",
            "                                                                    ]']                           \n",
            "                                                                                                  \n",
            " tf.math.multiply_18 (TFOpL  (None, 16, 16, 672)          0         ['re_lu_29[0][0]']            \n",
            " ambda)                                                                                           \n",
            "                                                                                                  \n",
            " multiply_13 (Multiply)      (None, 16, 16, 672)          0         ['expanded_conv_12/expand/Batc\n",
            "                                                                    hNorm[0][0]',                 \n",
            "                                                                     'tf.math.multiply_18[0][0]'] \n",
            "                                                                                                  \n",
            " expanded_conv_12/depthwise  (None, 19, 19, 672)          0         ['multiply_13[0][0]']         \n",
            " /pad (ZeroPadding2D)                                                                             \n",
            "                                                                                                  \n",
            " expanded_conv_12/depthwise  (None, 8, 8, 672)            16800     ['expanded_conv_12/depthwise/p\n",
            "  (DepthwiseConv2D)                                                 ad[0][0]']                    \n",
            "                                                                                                  \n",
            " expanded_conv_12/depthwise  (None, 8, 8, 672)            2688      ['expanded_conv_12/depthwise[0\n",
            " /BatchNorm (BatchNormaliza                                         ][0]']                        \n",
            " tion)                                                                                            \n",
            "                                                                                                  \n",
            " tf.__operators__.add_19 (T  (None, 8, 8, 672)            0         ['expanded_conv_12/depthwise/B\n",
            " FOpLambda)                                                         atchNorm[0][0]']              \n",
            "                                                                                                  \n",
            " re_lu_30 (ReLU)             (None, 8, 8, 672)            0         ['tf.__operators__.add_19[0][0\n",
            "                                                                    ]']                           \n",
            "                                                                                                  \n",
            " tf.math.multiply_19 (TFOpL  (None, 8, 8, 672)            0         ['re_lu_30[0][0]']            \n",
            " ambda)                                                                                           \n",
            "                                                                                                  \n",
            " multiply_14 (Multiply)      (None, 8, 8, 672)            0         ['expanded_conv_12/depthwise/B\n",
            "                                                                    atchNorm[0][0]',              \n",
            "                                                                     'tf.math.multiply_19[0][0]'] \n",
            "                                                                                                  \n",
            " expanded_conv_12/squeeze_e  (None, 1, 1, 672)            0         ['multiply_14[0][0]']         \n",
            " xcite/AvgPool (GlobalAvera                                                                       \n",
            " gePooling2D)                                                                                     \n",
            "                                                                                                  \n",
            " expanded_conv_12/squeeze_e  (None, 1, 1, 168)            113064    ['expanded_conv_12/squeeze_exc\n",
            " xcite/Conv (Conv2D)                                                ite/AvgPool[0][0]']           \n",
            "                                                                                                  \n",
            " expanded_conv_12/squeeze_e  (None, 1, 1, 168)            0         ['expanded_conv_12/squeeze_exc\n",
            " xcite/Relu (ReLU)                                                  ite/Conv[0][0]']              \n",
            "                                                                                                  \n",
            " expanded_conv_12/squeeze_e  (None, 1, 1, 672)            113568    ['expanded_conv_12/squeeze_exc\n",
            " xcite/Conv_1 (Conv2D)                                              ite/Relu[0][0]']              \n",
            "                                                                                                  \n",
            " tf.__operators__.add_20 (T  (None, 1, 1, 672)            0         ['expanded_conv_12/squeeze_exc\n",
            " FOpLambda)                                                         ite/Conv_1[0][0]']            \n",
            "                                                                                                  \n",
            " re_lu_31 (ReLU)             (None, 1, 1, 672)            0         ['tf.__operators__.add_20[0][0\n",
            "                                                                    ]']                           \n",
            "                                                                                                  \n",
            " tf.math.multiply_20 (TFOpL  (None, 1, 1, 672)            0         ['re_lu_31[0][0]']            \n",
            " ambda)                                                                                           \n",
            "                                                                                                  \n",
            " expanded_conv_12/squeeze_e  (None, 8, 8, 672)            0         ['multiply_14[0][0]',         \n",
            " xcite/Mul (Multiply)                                                'tf.math.multiply_20[0][0]'] \n",
            "                                                                                                  \n",
            " expanded_conv_12/project (  (None, 8, 8, 160)            107520    ['expanded_conv_12/squeeze_exc\n",
            " Conv2D)                                                            ite/Mul[0][0]']               \n",
            "                                                                                                  \n",
            " expanded_conv_12/project/B  (None, 8, 8, 160)            640       ['expanded_conv_12/project[0][\n",
            " atchNorm (BatchNormalizati                                         0]']                          \n",
            " on)                                                                                              \n",
            "                                                                                                  \n",
            " expanded_conv_13/expand (C  (None, 8, 8, 960)            153600    ['expanded_conv_12/project/Bat\n",
            " onv2D)                                                             chNorm[0][0]']                \n",
            "                                                                                                  \n",
            " expanded_conv_13/expand/Ba  (None, 8, 8, 960)            3840      ['expanded_conv_13/expand[0][0\n",
            " tchNorm (BatchNormalizatio                                         ]']                           \n",
            " n)                                                                                               \n",
            "                                                                                                  \n",
            " tf.__operators__.add_21 (T  (None, 8, 8, 960)            0         ['expanded_conv_13/expand/Batc\n",
            " FOpLambda)                                                         hNorm[0][0]']                 \n",
            "                                                                                                  \n",
            " re_lu_32 (ReLU)             (None, 8, 8, 960)            0         ['tf.__operators__.add_21[0][0\n",
            "                                                                    ]']                           \n",
            "                                                                                                  \n",
            " tf.math.multiply_21 (TFOpL  (None, 8, 8, 960)            0         ['re_lu_32[0][0]']            \n",
            " ambda)                                                                                           \n",
            "                                                                                                  \n",
            " multiply_15 (Multiply)      (None, 8, 8, 960)            0         ['expanded_conv_13/expand/Batc\n",
            "                                                                    hNorm[0][0]',                 \n",
            "                                                                     'tf.math.multiply_21[0][0]'] \n",
            "                                                                                                  \n",
            " expanded_conv_13/depthwise  (None, 8, 8, 960)            24000     ['multiply_15[0][0]']         \n",
            "  (DepthwiseConv2D)                                                                               \n",
            "                                                                                                  \n",
            " expanded_conv_13/depthwise  (None, 8, 8, 960)            3840      ['expanded_conv_13/depthwise[0\n",
            " /BatchNorm (BatchNormaliza                                         ][0]']                        \n",
            " tion)                                                                                            \n",
            "                                                                                                  \n",
            " tf.__operators__.add_22 (T  (None, 8, 8, 960)            0         ['expanded_conv_13/depthwise/B\n",
            " FOpLambda)                                                         atchNorm[0][0]']              \n",
            "                                                                                                  \n",
            " re_lu_33 (ReLU)             (None, 8, 8, 960)            0         ['tf.__operators__.add_22[0][0\n",
            "                                                                    ]']                           \n",
            "                                                                                                  \n",
            " tf.math.multiply_22 (TFOpL  (None, 8, 8, 960)            0         ['re_lu_33[0][0]']            \n",
            " ambda)                                                                                           \n",
            "                                                                                                  \n",
            " multiply_16 (Multiply)      (None, 8, 8, 960)            0         ['expanded_conv_13/depthwise/B\n",
            "                                                                    atchNorm[0][0]',              \n",
            "                                                                     'tf.math.multiply_22[0][0]'] \n",
            "                                                                                                  \n",
            " expanded_conv_13/squeeze_e  (None, 1, 1, 960)            0         ['multiply_16[0][0]']         \n",
            " xcite/AvgPool (GlobalAvera                                                                       \n",
            " gePooling2D)                                                                                     \n",
            "                                                                                                  \n",
            " expanded_conv_13/squeeze_e  (None, 1, 1, 240)            230640    ['expanded_conv_13/squeeze_exc\n",
            " xcite/Conv (Conv2D)                                                ite/AvgPool[0][0]']           \n",
            "                                                                                                  \n",
            " expanded_conv_13/squeeze_e  (None, 1, 1, 240)            0         ['expanded_conv_13/squeeze_exc\n",
            " xcite/Relu (ReLU)                                                  ite/Conv[0][0]']              \n",
            "                                                                                                  \n",
            " expanded_conv_13/squeeze_e  (None, 1, 1, 960)            231360    ['expanded_conv_13/squeeze_exc\n",
            " xcite/Conv_1 (Conv2D)                                              ite/Relu[0][0]']              \n",
            "                                                                                                  \n",
            " tf.__operators__.add_23 (T  (None, 1, 1, 960)            0         ['expanded_conv_13/squeeze_exc\n",
            " FOpLambda)                                                         ite/Conv_1[0][0]']            \n",
            "                                                                                                  \n",
            " re_lu_34 (ReLU)             (None, 1, 1, 960)            0         ['tf.__operators__.add_23[0][0\n",
            "                                                                    ]']                           \n",
            "                                                                                                  \n",
            " tf.math.multiply_23 (TFOpL  (None, 1, 1, 960)            0         ['re_lu_34[0][0]']            \n",
            " ambda)                                                                                           \n",
            "                                                                                                  \n",
            " expanded_conv_13/squeeze_e  (None, 8, 8, 960)            0         ['multiply_16[0][0]',         \n",
            " xcite/Mul (Multiply)                                                'tf.math.multiply_23[0][0]'] \n",
            "                                                                                                  \n",
            " expanded_conv_13/project (  (None, 8, 8, 160)            153600    ['expanded_conv_13/squeeze_exc\n",
            " Conv2D)                                                            ite/Mul[0][0]']               \n",
            "                                                                                                  \n",
            " expanded_conv_13/project/B  (None, 8, 8, 160)            640       ['expanded_conv_13/project[0][\n",
            " atchNorm (BatchNormalizati                                         0]']                          \n",
            " on)                                                                                              \n",
            "                                                                                                  \n",
            " expanded_conv_13/Add (Add)  (None, 8, 8, 160)            0         ['expanded_conv_12/project/Bat\n",
            "                                                                    chNorm[0][0]',                \n",
            "                                                                     'expanded_conv_13/project/Bat\n",
            "                                                                    chNorm[0][0]']                \n",
            "                                                                                                  \n",
            " expanded_conv_14/expand (C  (None, 8, 8, 960)            153600    ['expanded_conv_13/Add[0][0]']\n",
            " onv2D)                                                                                           \n",
            "                                                                                                  \n",
            " expanded_conv_14/expand/Ba  (None, 8, 8, 960)            3840      ['expanded_conv_14/expand[0][0\n",
            " tchNorm (BatchNormalizatio                                         ]']                           \n",
            " n)                                                                                               \n",
            "                                                                                                  \n",
            " tf.__operators__.add_24 (T  (None, 8, 8, 960)            0         ['expanded_conv_14/expand/Batc\n",
            " FOpLambda)                                                         hNorm[0][0]']                 \n",
            "                                                                                                  \n",
            " re_lu_35 (ReLU)             (None, 8, 8, 960)            0         ['tf.__operators__.add_24[0][0\n",
            "                                                                    ]']                           \n",
            "                                                                                                  \n",
            " tf.math.multiply_24 (TFOpL  (None, 8, 8, 960)            0         ['re_lu_35[0][0]']            \n",
            " ambda)                                                                                           \n",
            "                                                                                                  \n",
            " multiply_17 (Multiply)      (None, 8, 8, 960)            0         ['expanded_conv_14/expand/Batc\n",
            "                                                                    hNorm[0][0]',                 \n",
            "                                                                     'tf.math.multiply_24[0][0]'] \n",
            "                                                                                                  \n",
            " expanded_conv_14/depthwise  (None, 8, 8, 960)            24000     ['multiply_17[0][0]']         \n",
            "  (DepthwiseConv2D)                                                                               \n",
            "                                                                                                  \n",
            " expanded_conv_14/depthwise  (None, 8, 8, 960)            3840      ['expanded_conv_14/depthwise[0\n",
            " /BatchNorm (BatchNormaliza                                         ][0]']                        \n",
            " tion)                                                                                            \n",
            "                                                                                                  \n",
            " tf.__operators__.add_25 (T  (None, 8, 8, 960)            0         ['expanded_conv_14/depthwise/B\n",
            " FOpLambda)                                                         atchNorm[0][0]']              \n",
            "                                                                                                  \n",
            " re_lu_36 (ReLU)             (None, 8, 8, 960)            0         ['tf.__operators__.add_25[0][0\n",
            "                                                                    ]']                           \n",
            "                                                                                                  \n",
            " tf.math.multiply_25 (TFOpL  (None, 8, 8, 960)            0         ['re_lu_36[0][0]']            \n",
            " ambda)                                                                                           \n",
            "                                                                                                  \n",
            " multiply_18 (Multiply)      (None, 8, 8, 960)            0         ['expanded_conv_14/depthwise/B\n",
            "                                                                    atchNorm[0][0]',              \n",
            "                                                                     'tf.math.multiply_25[0][0]'] \n",
            "                                                                                                  \n",
            " expanded_conv_14/squeeze_e  (None, 1, 1, 960)            0         ['multiply_18[0][0]']         \n",
            " xcite/AvgPool (GlobalAvera                                                                       \n",
            " gePooling2D)                                                                                     \n",
            "                                                                                                  \n",
            " expanded_conv_14/squeeze_e  (None, 1, 1, 240)            230640    ['expanded_conv_14/squeeze_exc\n",
            " xcite/Conv (Conv2D)                                                ite/AvgPool[0][0]']           \n",
            "                                                                                                  \n",
            " expanded_conv_14/squeeze_e  (None, 1, 1, 240)            0         ['expanded_conv_14/squeeze_exc\n",
            " xcite/Relu (ReLU)                                                  ite/Conv[0][0]']              \n",
            "                                                                                                  \n",
            " expanded_conv_14/squeeze_e  (None, 1, 1, 960)            231360    ['expanded_conv_14/squeeze_exc\n",
            " xcite/Conv_1 (Conv2D)                                              ite/Relu[0][0]']              \n",
            "                                                                                                  \n",
            " tf.__operators__.add_26 (T  (None, 1, 1, 960)            0         ['expanded_conv_14/squeeze_exc\n",
            " FOpLambda)                                                         ite/Conv_1[0][0]']            \n",
            "                                                                                                  \n",
            " re_lu_37 (ReLU)             (None, 1, 1, 960)            0         ['tf.__operators__.add_26[0][0\n",
            "                                                                    ]']                           \n",
            "                                                                                                  \n",
            " tf.math.multiply_26 (TFOpL  (None, 1, 1, 960)            0         ['re_lu_37[0][0]']            \n",
            " ambda)                                                                                           \n",
            "                                                                                                  \n",
            " expanded_conv_14/squeeze_e  (None, 8, 8, 960)            0         ['multiply_18[0][0]',         \n",
            " xcite/Mul (Multiply)                                                'tf.math.multiply_26[0][0]'] \n",
            "                                                                                                  \n",
            " expanded_conv_14/project (  (None, 8, 8, 160)            153600    ['expanded_conv_14/squeeze_exc\n",
            " Conv2D)                                                            ite/Mul[0][0]']               \n",
            "                                                                                                  \n",
            " expanded_conv_14/project/B  (None, 8, 8, 160)            640       ['expanded_conv_14/project[0][\n",
            " atchNorm (BatchNormalizati                                         0]']                          \n",
            " on)                                                                                              \n",
            "                                                                                                  \n",
            " expanded_conv_14/Add (Add)  (None, 8, 8, 160)            0         ['expanded_conv_13/Add[0][0]',\n",
            "                                                                     'expanded_conv_14/project/Bat\n",
            "                                                                    chNorm[0][0]']                \n",
            "                                                                                                  \n",
            " Conv_1 (Conv2D)             (None, 8, 8, 960)            153600    ['expanded_conv_14/Add[0][0]']\n",
            "                                                                                                  \n",
            " Conv_1/BatchNorm (BatchNor  (None, 8, 8, 960)            3840      ['Conv_1[0][0]']              \n",
            " malization)                                                                                      \n",
            "                                                                                                  \n",
            " tf.__operators__.add_27 (T  (None, 8, 8, 960)            0         ['Conv_1/BatchNorm[0][0]']    \n",
            " FOpLambda)                                                                                       \n",
            "                                                                                                  \n",
            " re_lu_38 (ReLU)             (None, 8, 8, 960)            0         ['tf.__operators__.add_27[0][0\n",
            "                                                                    ]']                           \n",
            "                                                                                                  \n",
            " tf.math.multiply_27 (TFOpL  (None, 8, 8, 960)            0         ['re_lu_38[0][0]']            \n",
            " ambda)                                                                                           \n",
            "                                                                                                  \n",
            " multiply_19 (Multiply)      (None, 8, 8, 960)            0         ['Conv_1/BatchNorm[0][0]',    \n",
            "                                                                     'tf.math.multiply_27[0][0]'] \n",
            "                                                                                                  \n",
            "==================================================================================================\n",
            "Total params: 2996352 (11.43 MB)\n",
            "Trainable params: 0 (0.00 Byte)\n",
            "Non-trainable params: 2996352 (11.43 MB)\n",
            "__________________________________________________________________________________________________\n"
          ]
        }
      ],
      "source": [
        "base_model.summary()"
      ]
    },
    {
      "cell_type": "code",
      "execution_count": null,
      "metadata": {
        "colab": {
          "base_uri": "https://localhost:8080/"
        },
        "id": "fNl0t4IqKoxT",
        "outputId": "69eb67b7-3fac-4643-8701-894ca394348d"
      },
      "outputs": [
        {
          "name": "stdout",
          "output_type": "stream",
          "text": [
            "Model: \"model\"\n",
            "_________________________________________________________________\n",
            " Layer (type)                Output Shape              Param #   \n",
            "=================================================================\n",
            " input_2 (InputLayer)        [(None, 256, 256, 3)]     0         \n",
            "                                                                 \n",
            " MobilenetV3large (Function  (None, 8, 8, 960)         2996352   \n",
            " al)                                                             \n",
            "                                                                 \n",
            " global_average_pooling2d_1  (None, 960)               0         \n",
            "  (GlobalAveragePooling2D)                                       \n",
            "                                                                 \n",
            " custom_layer (CustomLayer)  (None, 960)               0         \n",
            "                                                                 \n",
            " dense_1 (Dense)             (None, 1024)              984064    \n",
            "                                                                 \n",
            " dropout (Dropout)           (None, 1024)              0         \n",
            "                                                                 \n",
            " dense_2 (Dense)             (None, 512)               524800    \n",
            "                                                                 \n",
            " dropout_1 (Dropout)         (None, 512)               0         \n",
            "                                                                 \n",
            " dense_3 (Dense)             (None, 256)               131328    \n",
            "                                                                 \n",
            " dropout_2 (Dropout)         (None, 256)               0         \n",
            "                                                                 \n",
            " dense_4 (Dense)             (None, 14)                3598      \n",
            "                                                                 \n",
            "=================================================================\n",
            "Total params: 4640142 (17.70 MB)\n",
            "Trainable params: 1643790 (6.27 MB)\n",
            "Non-trainable params: 2996352 (11.43 MB)\n",
            "_________________________________________________________________\n"
          ]
        }
      ],
      "source": [
        "# Build Model\n",
        "global_average_layer = tf.keras.layers.GlobalAveragePooling2D()\n",
        "prediction_layer = tf.keras.layers.Dense(1, activation='sigmoid')\n",
        "\n",
        "# Build Model\n",
        "inputs = tf.keras.Input(shape=IMG_SHAPE)\n",
        "x = inputs # data_augmentation(inputs)\n",
        "x = preprocess_input(x)\n",
        "x = base_model(x, training=False)\n",
        "x = tf.keras.layers.GlobalAveragePooling2D()(x)\n",
        "x = tf.keras.layers.Dense(256, activation='relu')(x)\n",
        "x = tf.keras.layers.Dense(128, activation='relu')(x)\n",
        "outputs = tf.keras.layers.Dense(train_generator.num_classes, activation='softmax')(x)\n",
        "\n",
        "model = Model(inputs, outputs)\n",
        "\n",
        "model.summary()"
      ]
    },
    {
      "cell_type": "code",
      "execution_count": null,
      "metadata": {
        "id": "J2aKD8cZK4Pe"
      },
      "outputs": [],
      "source": [
        "from tensorflow.keras.optimizers import Adam\n",
        "\n",
        "model.compile(optimizer = Adam(learning_rate=0.001),\n",
        "              loss = 'categorical_crossentropy',\n",
        "              metrics = ['accuracy'])"
      ]
    },
    {
      "cell_type": "code",
      "execution_count": null,
      "metadata": {
        "colab": {
          "base_uri": "https://localhost:8080/"
        },
        "id": "9iQzZw3uPAhZ",
        "outputId": "653f0c68-e094-4ab1-e73c-6a3b08770a6b"
      },
      "outputs": [
        {
          "name": "stdout",
          "output_type": "stream",
          "text": [
            "81/81 [==============================] - 128s 2s/step - loss: 2.7995 - accuracy: 0.0859\n",
            "(2.799473762512207, 0.085891954600811)\n"
          ]
        }
      ],
      "source": [
        "loss0, accuracy0 = model.evaluate(validation_generator)\n",
        "print((loss0, accuracy0))"
      ]
    },
    {
      "cell_type": "code",
      "execution_count": null,
      "metadata": {
        "colab": {
          "background_save": true,
          "base_uri": "https://localhost:8080/"
        },
        "id": "En-iYpY6LIEs",
        "outputId": "1a7e5401-05e6-4e0b-8c38-4e1f079d023c"
      },
      "outputs": [
        {
          "name": "stdout",
          "output_type": "stream",
          "text": [
            "Epoch 1/70\n",
            "321/321 [==============================] - 793s 2s/step - loss: 2.3279 - accuracy: 0.2510 - val_loss: 2.0562 - val_accuracy: 0.3455\n",
            "Epoch 2/70\n",
            "321/321 [==============================] - 772s 2s/step - loss: 2.0912 - accuracy: 0.3259 - val_loss: 2.0067 - val_accuracy: 0.3653\n",
            "Epoch 3/70\n",
            "321/321 [==============================] - 754s 2s/step - loss: 2.0147 - accuracy: 0.3555 - val_loss: 1.9109 - val_accuracy: 0.3859\n",
            "Epoch 4/70\n",
            "321/321 [==============================] - 746s 2s/step - loss: 1.9685 - accuracy: 0.3722 - val_loss: 1.8573 - val_accuracy: 0.4205\n",
            "Epoch 5/70\n",
            "278/321 [========================>.....] - ETA: 1:22 - loss: 1.9289 - accuracy: 0.3949"
          ]
        }
      ],
      "source": [
        "# Train the model.\n",
        "EPOCH = 90\n",
        "\n",
        "history = model.fit(\n",
        "            train_generator,\n",
        "            validation_data = validation_generator,\n",
        "            epochs = EPOCH,\n",
        "            callbacks = [callbacks])"
      ]
    },
    {
      "cell_type": "code",
      "execution_count": null,
      "metadata": {},
      "outputs": [],
      "source": [
        "acc = history.history['accuracy']\n",
        "val_acc = history.history['val_accuracy']\n",
        "loss = history.history['loss']\n",
        "val_loss = history.history['val_loss']\n",
        "\n",
        "epochs = range(len(acc))"
      ]
    },
    {
      "cell_type": "code",
      "execution_count": null,
      "metadata": {
        "colab": {
          "base_uri": "https://localhost:8080/",
          "height": 887
        },
        "id": "ykE3-zuCWODC",
        "outputId": "e4b6d1fc-cb14-4d85-bb34-44d7e9d7cd97"
      },
      "outputs": [
        {
          "data": {
            "image/png": "[encoded data removed]",
            "text/plain": [
              "<Figure size 640x480 with 1 Axes>"
            ]
          },
          "metadata": {},
          "output_type": "display_data"
        },
        {
          "data": {
            "image/png": "[encoded data removed]",
            "text/plain": [
              "<Figure size 640x480 with 1 Axes>"
            ]
          },
          "metadata": {},
          "output_type": "display_data"
        }
      ],
      "source": [
        "def plot_hist(hist):\n",
        "    plt.plot(epochs, acc, 'bo', label='Training accuracy')\n",
        "    plt.plot(epochs, val_acc, 'b', label='Validation accuracy')\n",
        "    plt.title('Training and validation accuracy')\n",
        "    plt.legend()\n",
        "\n",
        "    plt.figure()\n",
        "\n",
        "    plt.plot(epochs, loss, 'bo', label='Training Loss')\n",
        "    plt.plot(epochs, val_loss, 'b', label='Validation Loss')\n",
        "    plt.title('Training and validation loss')\n",
        "    plt.legend()\n",
        "\n",
        "    plt.show()\n",
        "\n",
        "\n",
        "plot_hist(history)"
      ]
    },
    {
      "cell_type": "markdown",
      "metadata": {
        "id": "2avSukmvmyg3"
      },
      "source": [
        "### **Fine Tuning**"
      ]
    },
    {
      "cell_type": "code",
      "execution_count": null,
      "metadata": {
        "id": "Jcgo3RZ_PAhc"
      },
      "outputs": [],
      "source": [
        "#unfreeze base_model\n",
        "base_model.trainable = True"
      ]
    },
    {
      "cell_type": "code",
      "execution_count": null,
      "metadata": {
        "colab": {
          "base_uri": "https://localhost:8080/"
        },
        "id": "GCDIYDjinBG8",
        "outputId": "40ce867b-94a9-440f-f836-ea1fd01d9b00"
      },
      "outputs": [
        {
          "name": "stdout",
          "output_type": "stream",
          "text": [
            "Number of layers in the base model:  263\n"
          ]
        }
      ],
      "source": [
        "# Let's take a look to see how many layers are in the base model\n",
        "print(\"Number of layers in the base model: \", len(base_model.layers))\n",
        "\n",
        "# Fine-tune from this layer onwards\n",
        "fine_tune_at = 100\n",
        "\n",
        "# Freeze all the layers before the `fine_tune_at` layer\n",
        "for layer in base_model.layers[:fine_tune_at]:\n",
        "  layer.trainable = False"
      ]
    },
    {
      "cell_type": "code",
      "execution_count": null,
      "metadata": {
        "id": "pEOVnDQznLCW"
      },
      "outputs": [],
      "source": [
        "model.compile(loss=tf.keras.losses.CategoricalCrossentropy(),\n",
        "              optimizer = tf.keras.optimizers.RMSprop(learning_rate=0.0001),\n",
        "              metrics=[tf.keras.metrics.BinaryAccuracy(threshold=0.5, name='accuracy')])"
      ]
    },
    {
      "cell_type": "code",
      "execution_count": null,
      "metadata": {
        "colab": {
          "base_uri": "https://localhost:8080/"
        },
        "id": "iFyOcFpUnZrU",
        "outputId": "11537e16-b53b-4bab-cd8c-2ffff56d9858"
      },
      "outputs": [
        {
          "name": "stdout",
          "output_type": "stream",
          "text": [
            "Model: \"model\"\n",
            "_________________________________________________________________\n",
            " Layer (type)                Output Shape              Param #   \n",
            "=================================================================\n",
            " input_3 (InputLayer)        [(None, 256, 256, 3)]     0         \n",
            "                                                                 \n",
            " MobilenetV3large (Function  (None, 8, 8, 960)         2996352   \n",
            " al)                                                             \n",
            "                                                                 \n",
            " global_average_pooling2d_2  (None, 960)               0         \n",
            "  (GlobalAveragePooling2D)                                       \n",
            "                                                                 \n",
            " dense_2 (Dense)             (None, 1024)              984064    \n",
            "                                                                 \n",
            " dense_3 (Dense)             (None, 512)               524800    \n",
            "                                                                 \n",
            " dense_4 (Dense)             (None, 256)               131328    \n",
            "                                                                 \n",
            " dense_5 (Dense)             (None, 14)                3598      \n",
            "                                                                 \n",
            "=================================================================\n",
            "Total params: 4640142 (17.70 MB)\n",
            "Trainable params: 4506142 (17.19 MB)\n",
            "Non-trainable params: 134000 (523.44 KB)\n",
            "_________________________________________________________________\n"
          ]
        }
      ],
      "source": [
        "model.summary()"
      ]
    },
    {
      "cell_type": "code",
      "execution_count": null,
      "metadata": {
        "colab": {
          "base_uri": "https://localhost:8080/"
        },
        "id": "lV96LlxJndp9",
        "outputId": "b1c44230-d99c-45e2-d0f2-2ac7f31f444d"
      },
      "outputs": [
        {
          "data": {
            "text/plain": [
              "100"
            ]
          },
          "execution_count": 33,
          "metadata": {},
          "output_type": "execute_result"
        }
      ],
      "source": [
        "len(model.trainable_variables)"
      ]
    },
    {
      "cell_type": "code",
      "execution_count": null,
      "metadata": {
        "colab": {
          "base_uri": "https://localhost:8080/"
        },
        "id": "3IZKgl7Bnj5l",
        "outputId": "64d5128b-affa-4f72-bfc2-3f2f1d8fcd75"
      },
      "outputs": [
        {
          "name": "stdout",
          "output_type": "stream",
          "text": [
            "Epoch 71/80\n",
            "321/321 [==============================] - 77s 199ms/step - loss: 0.1954 - accuracy: 0.9927 - val_loss: 3.1080 - val_accuracy: 0.9461\n",
            "Epoch 72/80\n",
            "321/321 [==============================] - 64s 198ms/step - loss: 0.1204 - accuracy: 0.9950 - val_loss: 2.9951 - val_accuracy: 0.9481\n",
            "Epoch 73/80\n",
            "321/321 [==============================] - 60s 186ms/step - loss: 0.0835 - accuracy: 0.9962 - val_loss: 3.0289 - val_accuracy: 0.9463\n",
            "Epoch 74/80\n",
            "321/321 [==============================] - 62s 192ms/step - loss: 0.0847 - accuracy: 0.9965 - val_loss: 3.1185 - val_accuracy: 0.9469\n",
            "Epoch 75/80\n",
            "321/321 [==============================] - 59s 184ms/step - loss: 0.0786 - accuracy: 0.9965 - val_loss: 3.2352 - val_accuracy: 0.9458\n",
            "Epoch 76/80\n",
            "321/321 [==============================] - 58s 182ms/step - loss: 0.0597 - accuracy: 0.9973 - val_loss: 3.2759 - val_accuracy: 0.9477\n",
            "Epoch 77/80\n",
            "321/321 [==============================] - 58s 179ms/step - loss: 0.0624 - accuracy: 0.9974 - val_loss: 3.3795 - val_accuracy: 0.9490\n",
            "Epoch 78/80\n",
            "321/321 [==============================] - 62s 193ms/step - loss: 0.0512 - accuracy: 0.9978 - val_loss: 3.5641 - val_accuracy: 0.9488\n",
            "Epoch 79/80\n",
            "321/321 [==============================] - 58s 181ms/step - loss: 0.0487 - accuracy: 0.9979 - val_loss: 3.4637 - val_accuracy: 0.9481\n",
            "Epoch 80/80\n",
            "321/321 [==============================] - 57s 178ms/step - loss: 0.0471 - accuracy: 0.9978 - val_loss: 3.5403 - val_accuracy: 0.9463\n"
          ]
        }
      ],
      "source": [
        "fine_tune_epochs = 10\n",
        "total_epochs =  EPOCH + fine_tune_epochs\n",
        "\n",
        "history_fine = model.fit(train_generator,\n",
        "                         validation_data = validation_generator,\n",
        "                         epochs=total_epochs,\n",
        "                         initial_epoch=len(history.epoch))"
      ]
    },
    {
      "cell_type": "code",
      "execution_count": null,
      "metadata": {},
      "outputs": [],
      "source": [
        "acc += history_fine.history['accuracy']\n",
        "val_acc += history_fine.history['val_accuracy']\n",
        "\n",
        "loss += history_fine.history['loss']\n",
        "val_loss += history_fine.history['val_loss']"
      ]
    },
    {
      "cell_type": "code",
      "execution_count": null,
      "metadata": {
        "colab": {
          "base_uri": "https://localhost:8080/",
          "height": 887
        },
        "id": "KnjW2jHqq61f",
        "outputId": "75e74306-d175-4480-91cb-7c709b41319a"
      },
      "outputs": [
        {
          "data": {
            "image/png": "[encoded data removed]",
            "text/plain": [
              "<Figure size 640x480 with 1 Axes>"
            ]
          },
          "metadata": {},
          "output_type": "display_data"
        },
        {
          "data": {
            "image/png": "[encoded data removed]",
            "text/plain": [
              "<Figure size 640x480 with 1 Axes>"
            ]
          },
          "metadata": {},
          "output_type": "display_data"
        }
      ],
      "source": [
        "plot_hist(history_fine)"
      ]
    },
    {
      "cell_type": "markdown",
      "metadata": {
        "id": "5UBVQay7uerE"
      },
      "source": [
        "### **Evaluation & Testing**"
      ]
    },
    {
      "cell_type": "code",
      "execution_count": null,
      "metadata": {
        "colab": {
          "base_uri": "https://localhost:8080/"
        },
        "id": "GUhg8PyVujuw",
        "outputId": "7b3c77f0-3fe3-4b33-8057-531e1d8aa926"
      },
      "outputs": [
        {
          "name": "stdout",
          "output_type": "stream",
          "text": [
            "81/81 [==============================] - 12s 141ms/step - loss: 3.5403 - accuracy: 0.9463\n",
            "Test accuracy : 0.9462828040122986\n"
          ]
        }
      ],
      "source": [
        "loss, accuracy = model.evaluate(validation_generator)\n",
        "print('Test accuracy :', accuracy)"
      ]
    },
    {
      "cell_type": "markdown",
      "metadata": {
        "id": "o5h_QH-5wo_2"
      },
      "source": [
        "### **SAVE MODEL**"
      ]
    },
    {
      "cell_type": "code",
      "execution_count": null,
      "metadata": {
        "colab": {
          "base_uri": "https://localhost:8080/"
        },
        "id": "JWG3CMLsPAho",
        "outputId": "0fd2a472-f6c4-4c5b-c75e-4f840b96db9f"
      },
      "outputs": [
        {
          "name": "stderr",
          "output_type": "stream",
          "text": [
            "/usr/local/lib/python3.10/dist-packages/keras/src/engine/training.py:3103: UserWarning: You are saving your model as an HDF5 file via `model.save()`. This file format is considered legacy. We recommend using instead the native Keras format, e.g. `model.save('my_model.keras')`.\n",
            "  saving_api.save_model(\n"
          ]
        }
      ],
      "source": [
        "model.save(\"model_mobilenet.h5\")"
      ]
    },
    {
      "cell_type": "code",
      "execution_count": null,
      "metadata": {},
      "outputs": [],
      "source": [
        "model.save('saved_model/my_model_mobil2')"
      ]
    },
    {
      "cell_type": "code",
      "execution_count": null,
      "metadata": {
        "colab": {
          "base_uri": "https://localhost:8080/",
          "height": 1000
        },
        "id": "oosFVkXbrnhS",
        "outputId": "e26fbc59-c7c7-4aff-9724-155e7044f4fc"
      },
      "outputs": [
        {
          "name": "stdout",
          "output_type": "stream",
          "text": [
            "Collecting tensorflowjs\n",
            "  Downloading tensorflowjs-4.19.0-py3-none-any.whl (89 kB)\n",
            "\u001b[?25l     \u001b[90m━━━━━━━━━━━━━━━━━━━━━━━━━━━━━━━━━━━━━━━━\u001b[0m \u001b[32m0.0/89.1 kB\u001b[0m \u001b[31m?\u001b[0m eta \u001b[36m-:--:--\u001b[0m\r\u001b[2K     \u001b[90m━━━━━━━━━━━━━━━━━━━━━━━━━━━━━━━━━━━━━━━━\u001b[0m \u001b[32m89.1/89.1 kB\u001b[0m \u001b[31m2.5 MB/s\u001b[0m eta \u001b[36m0:00:00\u001b[0m\n",
            "\u001b[?25hRequirement already satisfied: flax>=0.7.2 in /usr/local/lib/python3.10/dist-packages (from tensorflowjs) (0.8.3)\n",
            "Requirement already satisfied: importlib_resources>=5.9.0 in /usr/local/lib/python3.10/dist-packages (from tensorflowjs) (6.4.0)\n",
            "Requirement already satisfied: jax>=0.4.13 in /usr/local/lib/python3.10/dist-packages (from tensorflowjs) (0.4.26)\n",
            "Requirement already satisfied: jaxlib>=0.4.13 in /usr/local/lib/python3.10/dist-packages (from tensorflowjs) (0.4.26+cuda12.cudnn89)\n",
            "Requirement already satisfied: tensorflow<3,>=2.13.0 in /usr/local/lib/python3.10/dist-packages (from tensorflowjs) (2.15.0)\n",
            "Requirement already satisfied: tf-keras>=2.13.0 in /usr/local/lib/python3.10/dist-packages (from tensorflowjs) (2.15.1)\n",
            "Collecting tensorflow-decision-forests>=1.5.0 (from tensorflowjs)\n",
            "  Downloading tensorflow_decision_forests-1.9.1-cp310-cp310-manylinux_2_17_x86_64.manylinux2014_x86_64.whl (15.5 MB)\n",
            "\u001b[2K     \u001b[90m━━━━━━━━━━━━━━━━━━━━━━━━━━━━━━━━━━━━━━━━\u001b[0m \u001b[32m15.5/15.5 MB\u001b[0m \u001b[31m50.1 MB/s\u001b[0m eta \u001b[36m0:00:00\u001b[0m\n",
            "\u001b[?25hRequirement already satisfied: six<2,>=1.16.0 in /usr/local/lib/python3.10/dist-packages (from tensorflowjs) (1.16.0)\n",
            "Requirement already satisfied: tensorflow-hub>=0.16.1 in /usr/local/lib/python3.10/dist-packages (from tensorflowjs) (0.16.1)\n",
            "Collecting packaging~=23.1 (from tensorflowjs)\n",
            "  Downloading packaging-23.2-py3-none-any.whl (53 kB)\n",
            "\u001b[2K     \u001b[90m━━━━━━━━━━━━━━━━━━━━━━━━━━━━━━━━━━━━━━━━\u001b[0m \u001b[32m53.0/53.0 kB\u001b[0m \u001b[31m8.5 MB/s\u001b[0m eta \u001b[36m0:00:00\u001b[0m\n",
            "\u001b[?25hRequirement already satisfied: numpy>=1.22 in /usr/local/lib/python3.10/dist-packages (from flax>=0.7.2->tensorflowjs) (1.25.2)\n",
            "Requirement already satisfied: msgpack in /usr/local/lib/python3.10/dist-packages (from flax>=0.7.2->tensorflowjs) (1.0.8)\n",
            "Requirement already satisfied: optax in /usr/local/lib/python3.10/dist-packages (from flax>=0.7.2->tensorflowjs) (0.2.2)\n",
            "Requirement already satisfied: orbax-checkpoint in /usr/local/lib/python3.10/dist-packages (from flax>=0.7.2->tensorflowjs) (0.4.4)\n",
            "Requirement already satisfied: tensorstore in /usr/local/lib/python3.10/dist-packages (from flax>=0.7.2->tensorflowjs) (0.1.45)\n",
            "Requirement already satisfied: rich>=11.1 in /usr/local/lib/python3.10/dist-packages (from flax>=0.7.2->tensorflowjs) (13.7.1)\n",
            "Requirement already satisfied: typing-extensions>=4.2 in /usr/local/lib/python3.10/dist-packages (from flax>=0.7.2->tensorflowjs) (4.11.0)\n",
            "Requirement already satisfied: PyYAML>=5.4.1 in /usr/local/lib/python3.10/dist-packages (from flax>=0.7.2->tensorflowjs) (6.0.1)\n",
            "Requirement already satisfied: ml-dtypes>=0.2.0 in /usr/local/lib/python3.10/dist-packages (from jax>=0.4.13->tensorflowjs) (0.2.0)\n",
            "Requirement already satisfied: opt-einsum in /usr/local/lib/python3.10/dist-packages (from jax>=0.4.13->tensorflowjs) (3.3.0)\n",
            "Requirement already satisfied: scipy>=1.9 in /usr/local/lib/python3.10/dist-packages (from jax>=0.4.13->tensorflowjs) (1.11.4)\n",
            "Requirement already satisfied: absl-py>=1.0.0 in /usr/local/lib/python3.10/dist-packages (from tensorflow<3,>=2.13.0->tensorflowjs) (1.4.0)\n",
            "Requirement already satisfied: astunparse>=1.6.0 in /usr/local/lib/python3.10/dist-packages (from tensorflow<3,>=2.13.0->tensorflowjs) (1.6.3)\n",
            "Requirement already satisfied: flatbuffers>=23.5.26 in /usr/local/lib/python3.10/dist-packages (from tensorflow<3,>=2.13.0->tensorflowjs) (24.3.25)\n",
            "Requirement already satisfied: gast!=0.5.0,!=0.5.1,!=0.5.2,>=0.2.1 in /usr/local/lib/python3.10/dist-packages (from tensorflow<3,>=2.13.0->tensorflowjs) (0.5.4)\n",
            "Requirement already satisfied: google-pasta>=0.1.1 in /usr/local/lib/python3.10/dist-packages (from tensorflow<3,>=2.13.0->tensorflowjs) (0.2.0)\n",
            "Requirement already satisfied: h5py>=2.9.0 in /usr/local/lib/python3.10/dist-packages (from tensorflow<3,>=2.13.0->tensorflowjs) (3.9.0)\n",
            "Requirement already satisfied: libclang>=13.0.0 in /usr/local/lib/python3.10/dist-packages (from tensorflow<3,>=2.13.0->tensorflowjs) (18.1.1)\n",
            "Requirement already satisfied: protobuf!=4.21.0,!=4.21.1,!=4.21.2,!=4.21.3,!=4.21.4,!=4.21.5,<5.0.0dev,>=3.20.3 in /usr/local/lib/python3.10/dist-packages (from tensorflow<3,>=2.13.0->tensorflowjs) (3.20.3)\n",
            "Requirement already satisfied: setuptools in /usr/local/lib/python3.10/dist-packages (from tensorflow<3,>=2.13.0->tensorflowjs) (67.7.2)\n",
            "Requirement already satisfied: termcolor>=1.1.0 in /usr/local/lib/python3.10/dist-packages (from tensorflow<3,>=2.13.0->tensorflowjs) (2.4.0)\n",
            "Requirement already satisfied: wrapt<1.15,>=1.11.0 in /usr/local/lib/python3.10/dist-packages (from tensorflow<3,>=2.13.0->tensorflowjs) (1.14.1)\n",
            "Requirement already satisfied: tensorflow-io-gcs-filesystem>=0.23.1 in /usr/local/lib/python3.10/dist-packages (from tensorflow<3,>=2.13.0->tensorflowjs) (0.37.0)\n",
            "Requirement already satisfied: grpcio<2.0,>=1.24.3 in /usr/local/lib/python3.10/dist-packages (from tensorflow<3,>=2.13.0->tensorflowjs) (1.64.0)\n",
            "Requirement already satisfied: tensorboard<2.16,>=2.15 in /usr/local/lib/python3.10/dist-packages (from tensorflow<3,>=2.13.0->tensorflowjs) (2.15.2)\n",
            "Requirement already satisfied: tensorflow-estimator<2.16,>=2.15.0 in /usr/local/lib/python3.10/dist-packages (from tensorflow<3,>=2.13.0->tensorflowjs) (2.15.0)\n",
            "Requirement already satisfied: keras<2.16,>=2.15.0 in /usr/local/lib/python3.10/dist-packages (from tensorflow<3,>=2.13.0->tensorflowjs) (2.15.0)\n",
            "Requirement already satisfied: pandas in /usr/local/lib/python3.10/dist-packages (from tensorflow-decision-forests>=1.5.0->tensorflowjs) (2.0.3)\n",
            "Collecting tensorflow<3,>=2.13.0 (from tensorflowjs)\n",
            "  Downloading tensorflow-2.16.1-cp310-cp310-manylinux_2_17_x86_64.manylinux2014_x86_64.whl (589.8 MB)\n",
            "\u001b[2K     \u001b[90m━━━━━━━━━━━━━━━━━━━━━━━━━━━━━━━━━━━━━━━━\u001b[0m \u001b[32m589.8/589.8 MB\u001b[0m \u001b[31m2.0 MB/s\u001b[0m eta \u001b[36m0:00:00\u001b[0m\n",
            "\u001b[?25hRequirement already satisfied: wheel in /usr/local/lib/python3.10/dist-packages (from tensorflow-decision-forests>=1.5.0->tensorflowjs) (0.43.0)\n",
            "Collecting wurlitzer (from tensorflow-decision-forests>=1.5.0->tensorflowjs)\n",
            "  Downloading wurlitzer-3.1.0-py3-none-any.whl (8.4 kB)\n",
            "Collecting tf-keras>=2.13.0 (from tensorflowjs)\n",
            "  Downloading tf_keras-2.16.0-py3-none-any.whl (1.7 MB)\n",
            "\u001b[2K     \u001b[90m━━━━━━━━━━━━━━━━━━━━━━━━━━━━━━━━━━━━━━━━\u001b[0m \u001b[32m1.7/1.7 MB\u001b[0m \u001b[31m92.8 MB/s\u001b[0m eta \u001b[36m0:00:00\u001b[0m\n",
            "\u001b[?25hCollecting ydf (from tensorflow-decision-forests>=1.5.0->tensorflowjs)\n",
            "  Downloading ydf-0.4.3-cp310-cp310-manylinux_2_17_x86_64.manylinux2014_x86_64.whl (9.2 MB)\n",
            "\u001b[2K     \u001b[90m━━━━━━━━━━━━━━━━━━━━━━━━━━━━━━━━━━━━━━━━\u001b[0m \u001b[32m9.2/9.2 MB\u001b[0m \u001b[31m102.0 MB/s\u001b[0m eta \u001b[36m0:00:00\u001b[0m\n",
            "\u001b[?25hCollecting h5py>=3.10.0 (from tensorflow<3,>=2.13.0->tensorflowjs)\n",
            "  Downloading h5py-3.11.0-cp310-cp310-manylinux_2_17_x86_64.manylinux2014_x86_64.whl (5.3 MB)\n",
            "\u001b[2K     \u001b[90m━━━━━━━━━━━━━━━━━━━━━━━━━━━━━━━━━━━━━━━━\u001b[0m \u001b[32m5.3/5.3 MB\u001b[0m \u001b[31m112.5 MB/s\u001b[0m eta \u001b[36m0:00:00\u001b[0m\n",
            "\u001b[?25hCollecting ml-dtypes>=0.2.0 (from jax>=0.4.13->tensorflowjs)\n",
            "  Downloading ml_dtypes-0.3.2-cp310-cp310-manylinux_2_17_x86_64.manylinux2014_x86_64.whl (2.2 MB)\n",
            "\u001b[2K     \u001b[90m━━━━━━━━━━━━━━━━━━━━━━━━━━━━━━━━━━━━━━━━\u001b[0m \u001b[32m2.2/2.2 MB\u001b[0m \u001b[31m82.8 MB/s\u001b[0m eta \u001b[36m0:00:00\u001b[0m\n",
            "\u001b[?25hRequirement already satisfied: requests<3,>=2.21.0 in /usr/local/lib/python3.10/dist-packages (from tensorflow<3,>=2.13.0->tensorflowjs) (2.31.0)\n",
            "Collecting tensorboard<2.17,>=2.16 (from tensorflow<3,>=2.13.0->tensorflowjs)\n",
            "  Downloading tensorboard-2.16.2-py3-none-any.whl (5.5 MB)\n",
            "\u001b[2K     \u001b[90m━━━━━━━━━━━━━━━━━━━━━━━━━━━━━━━━━━━━━━━━\u001b[0m \u001b[32m5.5/5.5 MB\u001b[0m \u001b[31m81.2 MB/s\u001b[0m eta \u001b[36m0:00:00\u001b[0m\n",
            "\u001b[?25hCollecting keras>=3.0.0 (from tensorflow<3,>=2.13.0->tensorflowjs)\n",
            "  Downloading keras-3.3.3-py3-none-any.whl (1.1 MB)\n",
            "\u001b[2K     \u001b[90m━━━━━━━━━━━━━━━━━━━━━━━━━━━━━━━━━━━━━━━━\u001b[0m \u001b[32m1.1/1.1 MB\u001b[0m \u001b[31m82.8 MB/s\u001b[0m eta \u001b[36m0:00:00\u001b[0m\n",
            "\u001b[?25hCollecting namex (from keras>=3.0.0->tensorflow<3,>=2.13.0->tensorflowjs)\n",
            "  Downloading namex-0.0.8-py3-none-any.whl (5.8 kB)\n",
            "Collecting optree (from keras>=3.0.0->tensorflow<3,>=2.13.0->tensorflowjs)\n",
            "  Downloading optree-0.11.0-cp310-cp310-manylinux_2_17_x86_64.manylinux2014_x86_64.whl (311 kB)\n",
            "\u001b[2K     \u001b[90m━━━━━━━━━━━━━━━━━━━━━━━━━━━━━━━━━━━━━━━━\u001b[0m \u001b[32m311.2/311.2 kB\u001b[0m \u001b[31m45.5 MB/s\u001b[0m eta \u001b[36m0:00:00\u001b[0m\n",
            "\u001b[?25hRequirement already satisfied: charset-normalizer<4,>=2 in /usr/local/lib/python3.10/dist-packages (from requests<3,>=2.21.0->tensorflow<3,>=2.13.0->tensorflowjs) (3.3.2)\n",
            "Requirement already satisfied: idna<4,>=2.5 in /usr/local/lib/python3.10/dist-packages (from requests<3,>=2.21.0->tensorflow<3,>=2.13.0->tensorflowjs) (3.7)\n",
            "Requirement already satisfied: urllib3<3,>=1.21.1 in /usr/local/lib/python3.10/dist-packages (from requests<3,>=2.21.0->tensorflow<3,>=2.13.0->tensorflowjs) (2.0.7)\n",
            "Requirement already satisfied: certifi>=2017.4.17 in /usr/local/lib/python3.10/dist-packages (from requests<3,>=2.21.0->tensorflow<3,>=2.13.0->tensorflowjs) (2024.2.2)\n",
            "Requirement already satisfied: markdown-it-py>=2.2.0 in /usr/local/lib/python3.10/dist-packages (from rich>=11.1->flax>=0.7.2->tensorflowjs) (3.0.0)\n",
            "Requirement already satisfied: pygments<3.0.0,>=2.13.0 in /usr/local/lib/python3.10/dist-packages (from rich>=11.1->flax>=0.7.2->tensorflowjs) (2.16.1)\n",
            "Requirement already satisfied: markdown>=2.6.8 in /usr/local/lib/python3.10/dist-packages (from tensorboard<2.17,>=2.16->tensorflow<3,>=2.13.0->tensorflowjs) (3.6)\n",
            "Requirement already satisfied: tensorboard-data-server<0.8.0,>=0.7.0 in /usr/local/lib/python3.10/dist-packages (from tensorboard<2.17,>=2.16->tensorflow<3,>=2.13.0->tensorflowjs) (0.7.2)\n",
            "Requirement already satisfied: werkzeug>=1.0.1 in /usr/local/lib/python3.10/dist-packages (from tensorboard<2.17,>=2.16->tensorflow<3,>=2.13.0->tensorflowjs) (3.0.3)\n",
            "Requirement already satisfied: chex>=0.1.86 in /usr/local/lib/python3.10/dist-packages (from optax->flax>=0.7.2->tensorflowjs) (0.1.86)\n",
            "Requirement already satisfied: etils[epath,epy] in /usr/local/lib/python3.10/dist-packages (from orbax-checkpoint->flax>=0.7.2->tensorflowjs) (1.7.0)\n",
            "Requirement already satisfied: nest_asyncio in /usr/local/lib/python3.10/dist-packages (from orbax-checkpoint->flax>=0.7.2->tensorflowjs) (1.6.0)\n",
            "Requirement already satisfied: python-dateutil>=2.8.2 in /usr/local/lib/python3.10/dist-packages (from pandas->tensorflow-decision-forests>=1.5.0->tensorflowjs) (2.8.2)\n",
            "Requirement already satisfied: pytz>=2020.1 in /usr/local/lib/python3.10/dist-packages (from pandas->tensorflow-decision-forests>=1.5.0->tensorflowjs) (2023.4)\n",
            "Requirement already satisfied: tzdata>=2022.1 in /usr/local/lib/python3.10/dist-packages (from pandas->tensorflow-decision-forests>=1.5.0->tensorflowjs) (2024.1)\n",
            "Requirement already satisfied: toolz>=0.9.0 in /usr/local/lib/python3.10/dist-packages (from chex>=0.1.86->optax->flax>=0.7.2->tensorflowjs) (0.12.1)\n",
            "Requirement already satisfied: mdurl~=0.1 in /usr/local/lib/python3.10/dist-packages (from markdown-it-py>=2.2.0->rich>=11.1->flax>=0.7.2->tensorflowjs) (0.1.2)\n",
            "Requirement already satisfied: MarkupSafe>=2.1.1 in /usr/local/lib/python3.10/dist-packages (from werkzeug>=1.0.1->tensorboard<2.17,>=2.16->tensorflow<3,>=2.13.0->tensorflowjs) (2.1.5)\n",
            "Requirement already satisfied: fsspec in /usr/local/lib/python3.10/dist-packages (from etils[epath,epy]->orbax-checkpoint->flax>=0.7.2->tensorflowjs) (2023.6.0)\n",
            "Requirement already satisfied: zipp in /usr/local/lib/python3.10/dist-packages (from etils[epath,epy]->orbax-checkpoint->flax>=0.7.2->tensorflowjs) (3.18.2)\n",
            "Installing collected packages: namex, ydf, wurlitzer, packaging, optree, ml-dtypes, h5py, tensorboard, keras, tensorflow, tf-keras, tensorflow-decision-forests, tensorflowjs\n",
            "  Attempting uninstall: packaging\n",
            "    Found existing installation: packaging 24.0\n",
            "    Uninstalling packaging-24.0:\n",
            "      Successfully uninstalled packaging-24.0\n",
            "  Attempting uninstall: ml-dtypes\n",
            "    Found existing installation: ml-dtypes 0.2.0\n",
            "    Uninstalling ml-dtypes-0.2.0:\n",
            "      Successfully uninstalled ml-dtypes-0.2.0\n",
            "  Attempting uninstall: h5py\n",
            "    Found existing installation: h5py 3.9.0\n",
            "    Uninstalling h5py-3.9.0:\n",
            "      Successfully uninstalled h5py-3.9.0\n",
            "  Attempting uninstall: tensorboard\n",
            "    Found existing installation: tensorboard 2.15.2\n",
            "    Uninstalling tensorboard-2.15.2:\n",
            "      Successfully uninstalled tensorboard-2.15.2\n",
            "  Attempting uninstall: keras\n",
            "    Found existing installation: keras 2.15.0\n",
            "    Uninstalling keras-2.15.0:\n",
            "      Successfully uninstalled keras-2.15.0\n",
            "  Attempting uninstall: tensorflow\n",
            "    Found existing installation: tensorflow 2.15.0\n",
            "    Uninstalling tensorflow-2.15.0:\n",
            "      Successfully uninstalled tensorflow-2.15.0\n",
            "  Attempting uninstall: tf-keras\n",
            "    Found existing installation: tf_keras 2.15.1\n",
            "    Uninstalling tf_keras-2.15.1:\n",
            "      Successfully uninstalled tf_keras-2.15.1\n",
            "Successfully installed h5py-3.11.0 keras-3.3.3 ml-dtypes-0.3.2 namex-0.0.8 optree-0.11.0 packaging-23.2 tensorboard-2.16.2 tensorflow-2.16.1 tensorflow-decision-forests-1.9.1 tensorflowjs-4.19.0 tf-keras-2.16.0 wurlitzer-3.1.0 ydf-0.4.3\n"
          ]
        },
        {
          "data": {
            "application/vnd.colab-display-data+json": {
              "id": "4c61f959edaf45af9c05ff079364450a",
              "pip_warning": {
                "packages": [
                  "h5py",
                  "keras",
                  "ml_dtypes",
                  "tensorboard",
                  "tensorflow"
                ]
              }
            }
          },
          "metadata": {},
          "output_type": "display_data"
        }
      ],
      "source": [
        "!pip install tensorflowjs"
      ]
    },
    {
      "cell_type": "code",
      "execution_count": null,
      "metadata": {
        "colab": {
          "base_uri": "https://localhost:8080/"
        },
        "id": "o1VBOtEoooU0",
        "outputId": "86c7e82e-1dbe-42d0-9ea8-f005048041cd"
      },
      "outputs": [
        {
          "name": "stdout",
          "output_type": "stream",
          "text": [
            "2024-05-31 12:46:29.096154: W tensorflow/compiler/tf2tensorrt/utils/py_utils.cc:38] TF-TRT Warning: Could not find TensorRT\n"
          ]
        }
      ],
      "source": [
        "! tensorflowjs_converter --input_format=tf_saved_model \\\n",
        "                         --output_node_names='MobilenetV3/Predictions/Reshape_1' \\\n",
        "                         --saved_model_tags=serve \\\n",
        "                         ./path/to/save/model \\\n",
        "                         ./output/destination/path"
      ]
    },
    {
      "cell_type": "code",
      "execution_count": null,
      "metadata": {
        "colab": {
          "base_uri": "https://localhost:8080/"
        },
        "id": "U4Kv5xlUsS7u",
        "outputId": "5331128c-4198-40ac-8c07-2a53a5fbd5ef"
      },
      "outputs": [
        {
          "name": "stdout",
          "output_type": "stream",
          "text": [
            "  adding: content/tfjs_model/ (stored 0%)\n",
            "  adding: content/tfjs_model/group1-shard5of5.bin (deflated 7%)\n",
            "  adding: content/tfjs_model/group1-shard3of5.bin (deflated 7%)\n",
            "  adding: content/tfjs_model/group1-shard4of5.bin (deflated 7%)\n",
            "  adding: content/tfjs_model/group1-shard2of5.bin (deflated 7%)\n",
            "  adding: content/tfjs_model/model.json (deflated 95%)\n",
            "  adding: content/tfjs_model/group1-shard1of5.bin (deflated 7%)\n"
          ]
        }
      ],
      "source": [
        "!zip -r /content/output/destination/path /content/output/destination/path"
      ]
    },
    {
      "cell_type": "code",
      "execution_count": null,
      "metadata": {
        "colab": {
          "base_uri": "https://localhost:8080/",
          "height": 17
        },
        "id": "qxw6qKD-sb5t",
        "outputId": "62cd1eb1-e13d-441b-8020-ebe52a2d3076"
      },
      "outputs": [
        {
          "data": {
            "application/javascript": "\n    async function download(id, filename, size) {\n      if (!google.colab.kernel.accessAllowed) {\n        return;\n      }\n      const div = document.createElement('div');\n      const label = document.createElement('label');\n      label.textContent = `Downloading \"${filename}\": `;\n      div.appendChild(label);\n      const progress = document.createElement('progress');\n      progress.max = size;\n      div.appendChild(progress);\n      document.body.appendChild(div);\n\n      const buffers = [];\n      let downloaded = 0;\n\n      const channel = await google.colab.kernel.comms.open(id);\n      // Send a message to notify the kernel that we're ready.\n      channel.send({})\n\n      for await (const message of channel.messages) {\n        // Send a message to notify the kernel that we're ready.\n        channel.send({})\n        if (message.buffers) {\n          for (const buffer of message.buffers) {\n            buffers.push(buffer);\n            downloaded += buffer.byteLength;\n            progress.value = downloaded;\n          }\n        }\n      }\n      const blob = new Blob(buffers, {type: 'application/binary'});\n      const a = document.createElement('a');\n      a.href = window.URL.createObjectURL(blob);\n      a.download = filename;\n      div.appendChild(a);\n      a.click();\n      div.remove();\n    }\n  ",
            "text/plain": [
              "<IPython.core.display.Javascript object>"
            ]
          },
          "metadata": {},
          "output_type": "display_data"
        },
        {
          "data": {
            "application/javascript": "download(\"download_641ab109-8a0b-4a57-ac5d-27caf730d1fc\", \"tfjs_model.zip\", 17282401)",
            "text/plain": [
              "<IPython.core.display.Javascript object>"
            ]
          },
          "metadata": {},
          "output_type": "display_data"
        }
      ],
      "source": [
        "from google.colab import files\n",
        "files.download(\"/content/output/destination/path.zip\")"
      ]
    },
    {
      "cell_type": "code",
      "execution_count": null,
      "metadata": {
        "id": "gHEcYC-GPAhp",
        "outputId": "0c6f6a15-e745-4c19-b584-56a1f43ae3b3"
      },
      "outputs": [
        {
          "name": "stderr",
          "output_type": "stream",
          "text": [
            "WARNING:tensorflow:From C:\\Users\\Clara Carissa\\AppData\\Local\\Programs\\Python\\Python39\\lib\\site-packages\\keras\\src\\losses.py:2976: The name tf.losses.sparse_softmax_cross_entropy is deprecated. Please use tf.compat.v1.losses.sparse_softmax_cross_entropy instead.\n",
            "\n",
            "WARNING:root:Failure to load the inference.so custom c++ tensorflow ops. This error is likely caused the version of TensorFlow and TensorFlow Decision Forests are not compatible. Full error:C:\\Users\\Clara Carissa\\AppData\\Local\\Programs\\Python\\Python39\\lib\\site-packages\\tensorflow_decision_forests\\tensorflow\\ops\\inference\\inference.so not found\n",
            "Traceback (most recent call last):\n",
            "  File \"C:\\Users\\Clara Carissa\\AppData\\Local\\Programs\\Python\\Python39\\lib\\runpy.py\", line 197, in _run_module_as_main\n",
            "    return _run_code(code, main_globals, None,\n",
            "  File \"C:\\Users\\Clara Carissa\\AppData\\Local\\Programs\\Python\\Python39\\lib\\runpy.py\", line 87, in _run_code\n",
            "    exec(code, run_globals)\n",
            "  File \"C:\\Users\\Clara Carissa\\AppData\\Local\\Programs\\Python\\Python39\\Scripts\\tensorflowjs_converter.exe\\__main__.py\", line 4, in <module>\n",
            "  File \"C:\\Users\\Clara Carissa\\AppData\\Local\\Programs\\Python\\Python39\\lib\\site-packages\\tensorflowjs\\__init__.py\", line 21, in <module>\n",
            "    from tensorflowjs import converters\n",
            "  File \"C:\\Users\\Clara Carissa\\AppData\\Local\\Programs\\Python\\Python39\\lib\\site-packages\\tensorflowjs\\converters\\__init__.py\", line 21, in <module>\n",
            "    from tensorflowjs.converters.converter import convert\n",
            "  File \"C:\\Users\\Clara Carissa\\AppData\\Local\\Programs\\Python\\Python39\\lib\\site-packages\\tensorflowjs\\converters\\converter.py\", line 38, in <module>\n",
            "    from tensorflowjs.converters import tf_saved_model_conversion_v2\n",
            "  File \"C:\\Users\\Clara Carissa\\AppData\\Local\\Programs\\Python\\Python39\\lib\\site-packages\\tensorflowjs\\converters\\tf_saved_model_conversion_v2.py\", line 28, in <module>\n",
            "    import tensorflow_decision_forests\n",
            "  File \"C:\\Users\\Clara Carissa\\AppData\\Local\\Programs\\Python\\Python39\\lib\\site-packages\\tensorflow_decision_forests\\__init__.py\", line 64, in <module>\n",
            "    from tensorflow_decision_forests import keras\n",
            "  File \"C:\\Users\\Clara Carissa\\AppData\\Local\\Programs\\Python\\Python39\\lib\\site-packages\\tensorflow_decision_forests\\keras\\__init__.py\", line 53, in <module>\n",
            "    from tensorflow_decision_forests.keras import core\n",
            "  File \"C:\\Users\\Clara Carissa\\AppData\\Local\\Programs\\Python\\Python39\\lib\\site-packages\\tensorflow_decision_forests\\keras\\core.py\", line 62, in <module>\n",
            "    from tensorflow_decision_forests.keras import core_inference\n",
            "  File \"C:\\Users\\Clara Carissa\\AppData\\Local\\Programs\\Python\\Python39\\lib\\site-packages\\tensorflow_decision_forests\\keras\\core_inference.py\", line 36, in <module>\n",
            "    from tensorflow_decision_forests.tensorflow.ops.inference import api as tf_op\n",
            "  File \"C:\\Users\\Clara Carissa\\AppData\\Local\\Programs\\Python\\Python39\\lib\\site-packages\\tensorflow_decision_forests\\tensorflow\\ops\\inference\\api.py\", line 179, in <module>\n",
            "    from tensorflow_decision_forests.tensorflow.ops.inference import op\n",
            "  File \"C:\\Users\\Clara Carissa\\AppData\\Local\\Programs\\Python\\Python39\\lib\\site-packages\\tensorflow_decision_forests\\tensorflow\\ops\\inference\\op.py\", line 15, in <module>\n",
            "    from tensorflow_decision_forests.tensorflow.ops.inference.op_dynamic import *\n",
            "  File \"C:\\Users\\Clara Carissa\\AppData\\Local\\Programs\\Python\\Python39\\lib\\site-packages\\tensorflow_decision_forests\\tensorflow\\ops\\inference\\op_dynamic.py\", line 24, in <module>\n",
            "    raise e\n",
            "  File \"C:\\Users\\Clara Carissa\\AppData\\Local\\Programs\\Python\\Python39\\lib\\site-packages\\tensorflow_decision_forests\\tensorflow\\ops\\inference\\op_dynamic.py\", line 21, in <module>\n",
            "    ops = tf.load_op_library(resource_loader.get_path_to_datafile(\"inference.so\"))\n",
            "  File \"C:\\Users\\Clara Carissa\\AppData\\Local\\Programs\\Python\\Python39\\lib\\site-packages\\tensorflow\\python\\framework\\load_library.py\", line 54, in load_op_library\n",
            "    lib_handle = py_tf.TF_LoadLibrary(library_filename)\n",
            "tensorflow.python.framework.errors_impl.NotFoundError: C:\\Users\\Clara Carissa\\AppData\\Local\\Programs\\Python\\Python39\\lib\\site-packages\\tensorflow_decision_forests\\tensorflow\\ops\\inference\\inference.so not found\n"
          ]
        }
      ],
      "source": [
        "!tensorflowjs_converter --input_format=keras /content/model_mobilenet.h5 /content/model_mobilenet.json"
      ]
    },
    {
      "cell_type": "code",
      "execution_count": null,
      "metadata": {
        "id": "C3iRHhmd-k6U"
      },
      "outputs": [],
      "source": [
        "! tensorflowjs_converter --input_format=tf_saved_model \\\n",
        "                         --output_node_names='MobilenetV3/Predictions/Reshape_1' \\\n",
        "                         --saved_model_tags=serve \\\n",
        "                         ./input/savedmodel/path \\\n",
        "                         ./output/destination/path"
      ]
    },
    {
      "cell_type": "code",
      "execution_count": null,
      "metadata": {
        "id": "sJq7CIr2PAhn",
        "outputId": "79f35519-21cf-4a6d-ea18-9ebf21f120a4"
      },
      "outputs": [
        {
          "name": "stdout",
          "output_type": "stream",
          "text": [
            "Saved model .......\n"
          ]
        }
      ],
      "source": [
        "model_json = model.to_json()\n",
        "with open(\"model4.json\", \"w\") as json_file:\n",
        "    json_file.write(model_json)\n",
        "# model.save_weights(\"model3.bin\")\n",
        "print(\"Saved model .......\")"
      ]
    }
  ],
  "metadata": {
    "accelerator": "GPU",
    "colab": {
      "gpuType": "T4",
      "provenance": []
    },
    "kernelspec": {
      "display_name": "Python 3 (ipykernel)",
      "language": "python",
      "name": "python3"
    },
    "language_info": {
      "codemirror_mode": {
        "name": "ipython",
        "version": 3
      },
      "file_extension": ".py",
      "mimetype": "text/x-python",
      "name": "python",
      "nbconvert_exporter": "python",
      "pygments_lexer": "ipython3",
      "version": "3.9.0"
    }
  },
  "nbformat": 4,
  "nbformat_minor": 0
}
